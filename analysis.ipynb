{
 "metadata": {
  "language_info": {
   "codemirror_mode": {
    "name": "ipython",
    "version": 3
   },
   "file_extension": ".py",
   "mimetype": "text/x-python",
   "name": "python",
   "nbconvert_exporter": "python",
   "pygments_lexer": "ipython3",
   "version": "3.7.6-final"
  },
  "orig_nbformat": 2,
  "kernelspec": {
   "name": "python_defaultSpec_1597690550162",
   "display_name": "Python 3.7.6 64-bit ('base': conda)"
  }
 },
 "nbformat": 4,
 "nbformat_minor": 2,
 "cells": [
  {
   "cell_type": "code",
   "execution_count": 1,
   "metadata": {},
   "outputs": [],
   "source": [
    "import pandas as pd"
   ]
  },
  {
   "cell_type": "code",
   "execution_count": 2,
   "metadata": {},
   "outputs": [
    {
     "output_type": "execute_result",
     "data": {
      "text/plain": "         id                                      titulo  adulto  orcamento  \\\n1957  40688                            Meet the Deedles   False   24000000   \n2087   9267  And Now for Something Completely Different   False          0   \n1394  61391                               Distant Drums   False          0   \n1520  75298                                The Fountain   False          0   \n1098  48375                           Brother's Justice   False          0   \n\n     idioma_original  popularidade data_de_estreia  \\\n1957              en          13.0      1998-03-27   \n2087              en          16.0      1971-09-28   \n1394              en          12.0      1951-12-25   \n1520              ru           0.0      1989-09-08   \n1098              en           0.0      2010-10-22   \n\n                                                 resumo    receita  duracao  \\\n1957  Two surfers end up as Yellowstone park rangers...  4562146.0     93.0   \n2087  And Now for Something Completely Different is ...        0.0     88.0   \n1394  After destroying a Seminole fort, American sol...        0.0    101.0   \n1520  A story of a Moscow's apartment building that ...        0.0    100.0   \n1098  Motivated by Box Office statistics, Dax Shepar...        0.0     80.0   \n\n      genero            ator_1              ator_2              ator_3  \\\n1957  Comedy       Paul Walker         John Ashton       Dennis Hopper   \n2087  Comedy    Graham Chapman         John Cleese       Terry Gilliam   \n1394  Action       Gary Cooper          Mari Aldon        Richard Webb   \n1520  Comedy  Viktor Mikhaylov  Shanna Kerimtayeva  Asankul Kuttubayev   \n1098  Comedy        Tom Arnold         Jon Favreau       James Feldman   \n\n              ator_4            ator_5     dirigido_por   escrito_por_1  \\\n1957    Eric Braeden  Richard Lineback      Steve Boyum             NaN   \n2087       Eric Idle       Terry Jones  Ian MacNaughton  Graham Chapman   \n1394        Ray Teal  Arthur Hunnicutt      Raoul Walsh   Martin Rackin   \n1520  Sergei Dreiden      Nina Usatova       Yuri Mamin             NaN   \n1098  David Koechner      David Palmer      Dax Shepard             NaN   \n\n     escrito_por_2 historia_original  \n1957           NaN               NaN  \n2087   John Cleese               NaN  \n1394   Niven Busch               NaN  \n1520           NaN               NaN  \n1098           NaN               NaN  ",
      "text/html": "<div>\n<style scoped>\n    .dataframe tbody tr th:only-of-type {\n        vertical-align: middle;\n    }\n\n    .dataframe tbody tr th {\n        vertical-align: top;\n    }\n\n    .dataframe thead th {\n        text-align: right;\n    }\n</style>\n<table border=\"1\" class=\"dataframe\">\n  <thead>\n    <tr style=\"text-align: right;\">\n      <th></th>\n      <th>id</th>\n      <th>titulo</th>\n      <th>adulto</th>\n      <th>orcamento</th>\n      <th>idioma_original</th>\n      <th>popularidade</th>\n      <th>data_de_estreia</th>\n      <th>resumo</th>\n      <th>receita</th>\n      <th>duracao</th>\n      <th>genero</th>\n      <th>ator_1</th>\n      <th>ator_2</th>\n      <th>ator_3</th>\n      <th>ator_4</th>\n      <th>ator_5</th>\n      <th>dirigido_por</th>\n      <th>escrito_por_1</th>\n      <th>escrito_por_2</th>\n      <th>historia_original</th>\n    </tr>\n  </thead>\n  <tbody>\n    <tr>\n      <th>1957</th>\n      <td>40688</td>\n      <td>Meet the Deedles</td>\n      <td>False</td>\n      <td>24000000</td>\n      <td>en</td>\n      <td>13.0</td>\n      <td>1998-03-27</td>\n      <td>Two surfers end up as Yellowstone park rangers...</td>\n      <td>4562146.0</td>\n      <td>93.0</td>\n      <td>Comedy</td>\n      <td>Paul Walker</td>\n      <td>John Ashton</td>\n      <td>Dennis Hopper</td>\n      <td>Eric Braeden</td>\n      <td>Richard Lineback</td>\n      <td>Steve Boyum</td>\n      <td>NaN</td>\n      <td>NaN</td>\n      <td>NaN</td>\n    </tr>\n    <tr>\n      <th>2087</th>\n      <td>9267</td>\n      <td>And Now for Something Completely Different</td>\n      <td>False</td>\n      <td>0</td>\n      <td>en</td>\n      <td>16.0</td>\n      <td>1971-09-28</td>\n      <td>And Now for Something Completely Different is ...</td>\n      <td>0.0</td>\n      <td>88.0</td>\n      <td>Comedy</td>\n      <td>Graham Chapman</td>\n      <td>John Cleese</td>\n      <td>Terry Gilliam</td>\n      <td>Eric Idle</td>\n      <td>Terry Jones</td>\n      <td>Ian MacNaughton</td>\n      <td>Graham Chapman</td>\n      <td>John Cleese</td>\n      <td>NaN</td>\n    </tr>\n    <tr>\n      <th>1394</th>\n      <td>61391</td>\n      <td>Distant Drums</td>\n      <td>False</td>\n      <td>0</td>\n      <td>en</td>\n      <td>12.0</td>\n      <td>1951-12-25</td>\n      <td>After destroying a Seminole fort, American sol...</td>\n      <td>0.0</td>\n      <td>101.0</td>\n      <td>Action</td>\n      <td>Gary Cooper</td>\n      <td>Mari Aldon</td>\n      <td>Richard Webb</td>\n      <td>Ray Teal</td>\n      <td>Arthur Hunnicutt</td>\n      <td>Raoul Walsh</td>\n      <td>Martin Rackin</td>\n      <td>Niven Busch</td>\n      <td>NaN</td>\n    </tr>\n    <tr>\n      <th>1520</th>\n      <td>75298</td>\n      <td>The Fountain</td>\n      <td>False</td>\n      <td>0</td>\n      <td>ru</td>\n      <td>0.0</td>\n      <td>1989-09-08</td>\n      <td>A story of a Moscow's apartment building that ...</td>\n      <td>0.0</td>\n      <td>100.0</td>\n      <td>Comedy</td>\n      <td>Viktor Mikhaylov</td>\n      <td>Shanna Kerimtayeva</td>\n      <td>Asankul Kuttubayev</td>\n      <td>Sergei Dreiden</td>\n      <td>Nina Usatova</td>\n      <td>Yuri Mamin</td>\n      <td>NaN</td>\n      <td>NaN</td>\n      <td>NaN</td>\n    </tr>\n    <tr>\n      <th>1098</th>\n      <td>48375</td>\n      <td>Brother's Justice</td>\n      <td>False</td>\n      <td>0</td>\n      <td>en</td>\n      <td>0.0</td>\n      <td>2010-10-22</td>\n      <td>Motivated by Box Office statistics, Dax Shepar...</td>\n      <td>0.0</td>\n      <td>80.0</td>\n      <td>Comedy</td>\n      <td>Tom Arnold</td>\n      <td>Jon Favreau</td>\n      <td>James Feldman</td>\n      <td>David Koechner</td>\n      <td>David Palmer</td>\n      <td>Dax Shepard</td>\n      <td>NaN</td>\n      <td>NaN</td>\n      <td>NaN</td>\n    </tr>\n  </tbody>\n</table>\n</div>"
     },
     "metadata": {},
     "execution_count": 2
    }
   ],
   "source": [
    "df_movies = pd.read_csv('datasets/movies_amostra.csv')\n",
    "df_movies.sample(5, random_state=1)"
   ]
  },
  {
   "cell_type": "code",
   "execution_count": 3,
   "metadata": {},
   "outputs": [
    {
     "output_type": "execute_result",
     "data": {
      "text/plain": "count    3000.000000\nmean        6.066333\nstd         9.612842\nmin         0.000000\n25%         1.000000\n50%         2.000000\n75%         9.000000\nmax       224.000000\nName: popularidade, dtype: float64"
     },
     "metadata": {},
     "execution_count": 3
    }
   ],
   "source": [
    "df_movies.popularidade.describe()"
   ]
  },
  {
   "cell_type": "code",
   "execution_count": 4,
   "metadata": {
    "tags": []
   },
   "outputs": [],
   "source": [
    "def int_mapper(df: pd.DataFrame, col: str):\n",
    "    uniques = df[col].unique()\n",
    "    mapper = {}\n",
    "\n",
    "    for i, v in enumerate(df_movies.genero.unique()):\n",
    "        mapper[v] = i\n",
    "    \n",
    "\n",
    "    new_series = df[col].apply(lambda x: mapper[x])\n",
    "\n",
    "    return mapper, new_series\n",
    "\n",
    "\n",
    "mapper, new_series = int_mapper(df_movies, 'genero')\n",
    "df_movies['genero_d'] = new_series"
   ]
  },
  {
   "cell_type": "code",
   "execution_count": 5,
   "metadata": {},
   "outputs": [
    {
     "output_type": "execute_result",
     "data": {
      "text/plain": "'After destroying a Seminole fort, American soldiers and their rescued companions must face the dangerous Everglades and hostile Indians in order to reach safety'"
     },
     "metadata": {},
     "execution_count": 5
    }
   ],
   "source": [
    "df_movies.sample(5, random_state=1).resumo.iloc[2]"
   ]
  },
  {
   "cell_type": "code",
   "execution_count": 14,
   "metadata": {},
   "outputs": [
    {
     "output_type": "execute_result",
     "data": {
      "text/plain": "Comedy    1431\nAction     701\nName: genero, dtype: int64"
     },
     "metadata": {},
     "execution_count": 14
    }
   ],
   "source": [
    "df_movies[df_movies.idioma_original == 'en'].genero.value_counts()"
   ]
  },
  {
   "cell_type": "code",
   "execution_count": 24,
   "metadata": {},
   "outputs": [
    {
     "output_type": "execute_result",
     "data": {
      "text/plain": "0.0"
     },
     "metadata": {},
     "execution_count": 24
    }
   ],
   "source": [
    "df_movies.titulo.isna().sum() / 3000"
   ]
  },
  {
   "cell_type": "code",
   "execution_count": 21,
   "metadata": {},
   "outputs": [
    {
     "output_type": "execute_result",
     "data": {
      "text/plain": "False    2999\nTrue        1\nName: adulto, dtype: int64"
     },
     "metadata": {},
     "execution_count": 21
    }
   ],
   "source": [
    "df_movies.adulto.value_counts()"
   ]
  },
  {
   "cell_type": "code",
   "execution_count": 23,
   "metadata": {},
   "outputs": [
    {
     "output_type": "execute_result",
     "data": {
      "text/plain": "0.7756666666666666"
     },
     "metadata": {},
     "execution_count": 23
    }
   ],
   "source": [
    "(df_movies.orcamento == 0).sum() / 3000"
   ]
  },
  {
   "cell_type": "code",
   "execution_count": 25,
   "metadata": {},
   "outputs": [
    {
     "output_type": "execute_result",
     "data": {
      "text/plain": "0.24366666666666667"
     },
     "metadata": {},
     "execution_count": 25
    }
   ],
   "source": [
    "(df_movies.popularidade == 0).sum() / 3000\n"
   ]
  },
  {
   "cell_type": "code",
   "execution_count": 32,
   "metadata": {},
   "outputs": [
    {
     "output_type": "execute_result",
     "data": {
      "text/plain": "0.023"
     },
     "metadata": {},
     "execution_count": 32
    }
   ],
   "source": [
    "df_movies.resumo.isna().sum() / 3000"
   ]
  },
  {
   "cell_type": "code",
   "execution_count": 31,
   "metadata": {},
   "outputs": [
    {
     "output_type": "execute_result",
     "data": {
      "text/plain": "0.794"
     },
     "metadata": {},
     "execution_count": 31
    }
   ],
   "source": [
    "(df_movies.receita == 0).sum() / 3000"
   ]
  },
  {
   "cell_type": "code",
   "execution_count": 30,
   "metadata": {},
   "outputs": [
    {
     "output_type": "execute_result",
     "data": {
      "text/plain": "0.031"
     },
     "metadata": {},
     "execution_count": 30
    }
   ],
   "source": [
    "(df_movies.duracao == 0).sum() / 3000"
   ]
  },
  {
   "cell_type": "code",
   "execution_count": 34,
   "metadata": {},
   "outputs": [
    {
     "output_type": "execute_result",
     "data": {
      "text/plain": "0.011333333333333334"
     },
     "metadata": {},
     "execution_count": 34
    }
   ],
   "source": [
    "df_movies.dirigido_por.isna().sum() / 3000"
   ]
  },
  {
   "cell_type": "code",
   "execution_count": null,
   "metadata": {},
   "outputs": [],
   "source": []
  }
 ]
}