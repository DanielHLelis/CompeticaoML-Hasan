{
 "metadata": {
  "language_info": {
   "codemirror_mode": {
    "name": "ipython",
    "version": 3
   },
   "file_extension": ".py",
   "mimetype": "text/x-python",
   "name": "python",
   "nbconvert_exporter": "python",
   "pygments_lexer": "ipython3",
   "version": "3.6.10-final"
  },
  "orig_nbformat": 2,
  "kernelspec": {
   "name": "python_defaultSpec_1598758565956",
   "display_name": "Python 3.7.6 64-bit ('base': conda)"
  }
 },
 "nbformat": 4,
 "nbformat_minor": 2,
 "cells": [
  {
   "cell_type": "code",
   "execution_count": 1,
   "metadata": {},
   "outputs": [],
   "source": [
    "import pandas as pd\n",
    "import seaborn as sns"
   ]
  },
  {
   "cell_type": "code",
   "execution_count": 2,
   "metadata": {},
   "outputs": [
    {
     "output_type": "execute_result",
     "data": {
      "text/plain": "         id        titulo  adulto  orcamento idioma_original  popularidade  \\\n2121  43678  The Champion   False          0              en           2.0   \n\n     data_de_estreia                                             resumo  \\\n2121      1915-03-11  Walking along with his bulldog, Charlie finds ...   \n\n      receita  duracao  genero           ator_1          ator_2  \\\n2121      0.0     33.0  Comedy  Charlie Chaplin  Edna Purviance   \n\n               ator_3       ator_4     ator_5     dirigido_por escrito_por_1  \\\n2121  Ernest Van Pelt  Lloyd Bacon  Leo White  Charlie Chaplin           NaN   \n\n     escrito_por_2 historia_original  \n2121           NaN               NaN  ",
      "text/html": "<div>\n<style scoped>\n    .dataframe tbody tr th:only-of-type {\n        vertical-align: middle;\n    }\n\n    .dataframe tbody tr th {\n        vertical-align: top;\n    }\n\n    .dataframe thead th {\n        text-align: right;\n    }\n</style>\n<table border=\"1\" class=\"dataframe\">\n  <thead>\n    <tr style=\"text-align: right;\">\n      <th></th>\n      <th>id</th>\n      <th>titulo</th>\n      <th>adulto</th>\n      <th>orcamento</th>\n      <th>idioma_original</th>\n      <th>popularidade</th>\n      <th>data_de_estreia</th>\n      <th>resumo</th>\n      <th>receita</th>\n      <th>duracao</th>\n      <th>genero</th>\n      <th>ator_1</th>\n      <th>ator_2</th>\n      <th>ator_3</th>\n      <th>ator_4</th>\n      <th>ator_5</th>\n      <th>dirigido_por</th>\n      <th>escrito_por_1</th>\n      <th>escrito_por_2</th>\n      <th>historia_original</th>\n    </tr>\n  </thead>\n  <tbody>\n    <tr>\n      <th>2121</th>\n      <td>43678</td>\n      <td>The Champion</td>\n      <td>False</td>\n      <td>0</td>\n      <td>en</td>\n      <td>2.0</td>\n      <td>1915-03-11</td>\n      <td>Walking along with his bulldog, Charlie finds ...</td>\n      <td>0.0</td>\n      <td>33.0</td>\n      <td>Comedy</td>\n      <td>Charlie Chaplin</td>\n      <td>Edna Purviance</td>\n      <td>Ernest Van Pelt</td>\n      <td>Lloyd Bacon</td>\n      <td>Leo White</td>\n      <td>Charlie Chaplin</td>\n      <td>NaN</td>\n      <td>NaN</td>\n      <td>NaN</td>\n    </tr>\n  </tbody>\n</table>\n</div>"
     },
     "metadata": {},
     "execution_count": 2
    }
   ],
   "source": [
    "df_amostra = pd.read_csv('datasets/movies_amostra.csv')\n",
    "df_amostra.sample()"
   ]
  },
  {
   "cell_type": "code",
   "execution_count": 3,
   "metadata": {},
   "outputs": [
    {
     "output_type": "execute_result",
     "data": {
      "text/plain": "count    1971.000000\nmean       86.923389\nstd        29.314100\nmin         0.000000\n25%        83.000000\n50%        91.000000\n75%       100.000000\nmax       410.000000\nName: duracao, dtype: float64"
     },
     "metadata": {},
     "execution_count": 3
    }
   ],
   "source": [
    "df_amostra[df_amostra.genero == 'Comedy'].duracao.describe()"
   ]
  },
  {
   "cell_type": "code",
   "execution_count": 4,
   "metadata": {},
   "outputs": [
    {
     "output_type": "execute_result",
     "data": {
      "text/plain": "count    1011.000000\nmean      102.979228\nstd        38.989749\nmin         0.000000\n25%        90.000000\n50%        99.000000\n75%       113.000000\nmax       705.000000\nName: duracao, dtype: float64"
     },
     "metadata": {},
     "execution_count": 4
    }
   ],
   "source": [
    "df_amostra[df_amostra.genero == 'Action'].duracao.describe()"
   ]
  },
  {
   "cell_type": "code",
   "execution_count": 91,
   "metadata": {
    "tags": []
   },
   "outputs": [
    {
     "output_type": "stream",
     "name": "stdout",
     "text": "!\"#$%&'()*+,-./:;<=>?@[\\]^_`{|}~\n"
    }
   ],
   "source": [
    "import re\n",
    "import string\n",
    "import numpy as np\n",
    "import json\n",
    "\n",
    "sw_en = json.load(open('datasets/en_sw.json', 'r'))\n",
    "\n",
    "print(string.punctuation)\n",
    "def cleaner(overview: str) -> str:\n",
    "    if overview is None or overview is np.nan:\n",
    "        return None\n",
    "\n",
    "    # Separators\n",
    "    separators_exp = r'[\\-_]'\n",
    "    # Other punctuation\n",
    "    punctuation_tt = str.maketrans('', '', string.punctuation)\n",
    "    # Word validator\n",
    "    def only_letter(s):\n",
    "        for w in s:\n",
    "            if w not in 'abcdefghijklmnopqrstuvwxyz':\n",
    "                return False\n",
    "        return True\n",
    "\n",
    "    new_overview = overview\n",
    "    new_overview = overview.lower() # Normalize case\n",
    "    new_overview = re.sub(separators_exp, ' ', new_overview) # Normalize separators\n",
    "    new_overview = new_overview.translate(punctuation_tt) # Remove punctuation\n",
    "\n",
    "    new_overview = ' '.join([w for w in new_overview.split() if len(w) > 0 and only_letter(w) and w not in sw_en])\n",
    "\n",
    "    return new_overview if len(new_overview) != 0 else None\n",
    "    "
   ]
  },
  {
   "cell_type": "code",
   "execution_count": 6,
   "metadata": {
    "tags": []
   },
   "outputs": [
    {
     "output_type": "stream",
     "name": "stdout",
     "text": "court martialed general rallies together inmates rise system put away\ntasmanian devil loose bugs offers help find dinner\nagent coulson informs agent sitwell world security council wishes emil blonsky released prison join avengers initiative nick fury want release blonsky two agents decide send patsy sabotage meeting\nsebastian maniscalco examines shameless behaviors modern society small daily annoyances publicly obnoxious asks embarrassed new one hour comedy special deeply relatable highly entertaining inspired real life irritations keep audiences rolling laughter\nNone\nellen shares humorous observations daily life including remembering names clothing need approval making personal videos post coming performance fully acknowledges ellen degeneress status americas famous lesbian\nlucas appeared lives dani carlos toni quiet life major concerns shared almost everything house housework dogs homosexual tendencies debts forced rent one bedrooms floor came lucas hair long charming smile muscular body completely change life destiny lovers home lucas found dead killed reasons maybe none\nmaria laura mala actress little luck successful working women seducing boyfriends know faithful everything changes dream perform acting career depends job performed santiago breaks pattern shakes professional convictions\nstan ollie get involved con men crooks genial magician two interchangeable coffins disastrous funny results\nNone\n"
    }
   ],
   "source": [
    "for el in df_amostra.resumo.apply(cleaner).sample(10):\n",
    "    print(el)"
   ]
  },
  {
   "cell_type": "code",
   "execution_count": null,
   "metadata": {},
   "outputs": [],
   "source": []
  },
  {
   "cell_type": "code",
   "execution_count": 7,
   "metadata": {},
   "outputs": [],
   "source": [
    "df_amostra['resumo_2'] = df_amostra.resumo.apply(cleaner)"
   ]
  },
  {
   "cell_type": "code",
   "execution_count": 8,
   "metadata": {
    "tags": []
   },
   "outputs": [
    {
     "output_type": "execute_result",
     "data": {
      "text/plain": "Comedy    64\nAction     6\nName: genero, dtype: int64"
     },
     "metadata": {},
     "execution_count": 8
    }
   ],
   "source": [
    "df_amostra[df_amostra.resumo_2.isna()].genero.value_counts()"
   ]
  },
  {
   "cell_type": "code",
   "execution_count": 9,
   "metadata": {},
   "outputs": [
    {
     "output_type": "execute_result",
     "data": {
      "text/plain": "array([  11,   52,  132,  276,  277,  380,  424,  431,  460,  471,  478,\n        486,  517,  587,  613,  624,  775,  861,  865,  873,  876,  933,\n        949,  960,  972,  973,  980, 1027, 1039, 1202, 1258, 1309, 1319,\n       1416, 1441, 1530, 1550, 1636, 1671, 1695, 1699, 1718, 1724, 1762,\n       1782, 1809, 1928, 1961, 1982, 1987, 2057, 2172, 2280, 2361, 2411,\n       2445, 2462, 2512, 2520, 2533, 2557, 2684, 2696, 2713, 2718, 2726,\n       2732, 2733, 2865, 2984])"
     },
     "metadata": {},
     "execution_count": 9
    }
   ],
   "source": [
    "df_amostra[df_amostra.resumo_2.isna()].index.values"
   ]
  },
  {
   "cell_type": "code",
   "execution_count": 10,
   "metadata": {},
   "outputs": [
    {
     "output_type": "execute_result",
     "data": {
      "text/plain": "[(0, 8), (1, 7), (2, 6), (3, 5), (4, 4), (5, 3), (6, 2), (7, 1), (8, 0)]"
     },
     "metadata": {},
     "execution_count": 10
    }
   ],
   "source": [
    "list(enumerate(reversed(range(9))))"
   ]
  },
  {
   "cell_type": "code",
   "execution_count": 11,
   "metadata": {},
   "outputs": [],
   "source": [
    "predicted_svm = list(range(10))\n",
    "\n",
    "predicted_rf = [-1] * 10\n",
    "\n",
    "rf_index = [0, 7]\n",
    "\n",
    "final_predictions = [sp if i not in rf_index else predicted_rf[i]\n",
    "                        for i, sp in enumerate(predicted_svm)]"
   ]
  },
  {
   "cell_type": "code",
   "execution_count": 12,
   "metadata": {},
   "outputs": [
    {
     "output_type": "execute_result",
     "data": {
      "text/plain": "[-1, 1, 2, 3, 4, 5, 6, -1, 8, 9]"
     },
     "metadata": {},
     "execution_count": 12
    }
   ],
   "source": [
    "final_predictions"
   ]
  },
  {
   "cell_type": "code",
   "execution_count": 90,
   "metadata": {},
   "outputs": [
    {
     "output_type": "execute_result",
     "data": {
      "text/plain": "['bruh', 'bruhv', 'man']"
     },
     "metadata": {},
     "execution_count": 90
    }
   ],
   "source": [
    "garbage_exp = r'(?:^|\\s).*?[^a-zA-Z].*?(?:$|\\s)'\n",
    "\n",
    "\n",
    "[s for s in 'sssséa9 bruh bu6hh bu6hh bu6hh bruhv man'.split() if only_letter(s)]"
   ]
  },
  {
   "cell_type": "code",
   "execution_count": 92,
   "metadata": {},
   "outputs": [
    {
     "output_type": "execute_result",
     "data": {
      "text/plain": "'algumas percebeu se que modelo era altamente dependente ao resumo que algo necessariamente ruim por conta disso decidimos adotar uma que consiste basicamente resumo com uma limpeza aplicada por cima'"
     },
     "metadata": {},
     "execution_count": 92
    }
   ],
   "source": [
    "cleaner('Após algumas reflexões, percebeu-se que o modelo era altamente dependente ao resumo, o que não é algo necessariamente ruim. Por conta disso, decidimos adotar uma representação que consiste basicamente do resumo com uma limpeza aplicada por cima.')"
   ]
  },
  {
   "cell_type": "code",
   "execution_count": null,
   "metadata": {},
   "outputs": [],
   "source": []
  }
 ]
}