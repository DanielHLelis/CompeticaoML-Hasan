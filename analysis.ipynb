{
 "metadata": {
  "language_info": {
   "codemirror_mode": {
    "name": "ipython",
    "version": 3
   },
   "file_extension": ".py",
   "mimetype": "text/x-python",
   "name": "python",
   "nbconvert_exporter": "python",
   "pygments_lexer": "ipython3",
   "version": "3.6.10-final"
  },
  "orig_nbformat": 2,
  "kernelspec": {
   "name": "python_defaultSpec_1598758565956",
   "display_name": "Python 3.7.6 64-bit ('base': conda)"
  }
 },
 "nbformat": 4,
 "nbformat_minor": 2,
 "cells": [
  {
   "cell_type": "code",
   "execution_count": 1,
   "metadata": {},
   "outputs": [],
   "source": [
    "import pandas as pd\n",
    "import seaborn as sns"
   ]
  },
  {
   "cell_type": "code",
   "execution_count": 2,
   "metadata": {},
   "outputs": [
    {
     "output_type": "execute_result",
     "data": {
      "text/plain": "        id             titulo  adulto  orcamento idioma_original  \\\n1352  3582  The Millionairess   False          0              en   \n\n      popularidade data_de_estreia  \\\n1352           5.0      1960-10-18   \n\n                                                 resumo  receita  duracao  \\\n1352  When her father dies, Epifania Parerga, an Ita...      0.0     89.0   \n\n      genero        ator_1         ator_2            ator_3        ator_4  \\\n1352  Comedy  Sophia Loren  Peter Sellers  Vittorio De Sica  Alastair Sim   \n\n            ator_5     dirigido_por    escrito_por_1   escrito_por_2  \\\n1352  Dennis Price  Anthony Asquith  Riccardo Aragno  Wolf Mankowitz   \n\n     historia_original  \n1352               NaN  ",
      "text/html": "<div>\n<style scoped>\n    .dataframe tbody tr th:only-of-type {\n        vertical-align: middle;\n    }\n\n    .dataframe tbody tr th {\n        vertical-align: top;\n    }\n\n    .dataframe thead th {\n        text-align: right;\n    }\n</style>\n<table border=\"1\" class=\"dataframe\">\n  <thead>\n    <tr style=\"text-align: right;\">\n      <th></th>\n      <th>id</th>\n      <th>titulo</th>\n      <th>adulto</th>\n      <th>orcamento</th>\n      <th>idioma_original</th>\n      <th>popularidade</th>\n      <th>data_de_estreia</th>\n      <th>resumo</th>\n      <th>receita</th>\n      <th>duracao</th>\n      <th>genero</th>\n      <th>ator_1</th>\n      <th>ator_2</th>\n      <th>ator_3</th>\n      <th>ator_4</th>\n      <th>ator_5</th>\n      <th>dirigido_por</th>\n      <th>escrito_por_1</th>\n      <th>escrito_por_2</th>\n      <th>historia_original</th>\n    </tr>\n  </thead>\n  <tbody>\n    <tr>\n      <th>1352</th>\n      <td>3582</td>\n      <td>The Millionairess</td>\n      <td>False</td>\n      <td>0</td>\n      <td>en</td>\n      <td>5.0</td>\n      <td>1960-10-18</td>\n      <td>When her father dies, Epifania Parerga, an Ita...</td>\n      <td>0.0</td>\n      <td>89.0</td>\n      <td>Comedy</td>\n      <td>Sophia Loren</td>\n      <td>Peter Sellers</td>\n      <td>Vittorio De Sica</td>\n      <td>Alastair Sim</td>\n      <td>Dennis Price</td>\n      <td>Anthony Asquith</td>\n      <td>Riccardo Aragno</td>\n      <td>Wolf Mankowitz</td>\n      <td>NaN</td>\n    </tr>\n  </tbody>\n</table>\n</div>"
     },
     "metadata": {},
     "execution_count": 2
    }
   ],
   "source": [
    "df_amostra = pd.read_csv('datasets/movies_amostra.csv')\n",
    "df_amostra.sample()"
   ]
  },
  {
   "cell_type": "code",
   "execution_count": 3,
   "metadata": {},
   "outputs": [
    {
     "output_type": "execute_result",
     "data": {
      "text/plain": "count    1971.000000\nmean       86.923389\nstd        29.314100\nmin         0.000000\n25%        83.000000\n50%        91.000000\n75%       100.000000\nmax       410.000000\nName: duracao, dtype: float64"
     },
     "metadata": {},
     "execution_count": 3
    }
   ],
   "source": [
    "df_amostra[df_amostra.genero == 'Comedy'].duracao.describe()"
   ]
  },
  {
   "cell_type": "code",
   "execution_count": 4,
   "metadata": {},
   "outputs": [
    {
     "output_type": "execute_result",
     "data": {
      "text/plain": "count    1011.000000\nmean      102.979228\nstd        38.989749\nmin         0.000000\n25%        90.000000\n50%        99.000000\n75%       113.000000\nmax       705.000000\nName: duracao, dtype: float64"
     },
     "metadata": {},
     "execution_count": 4
    }
   ],
   "source": [
    "df_amostra[df_amostra.genero == 'Action'].duracao.describe()"
   ]
  },
  {
   "cell_type": "code",
   "execution_count": 47,
   "metadata": {
    "tags": []
   },
   "outputs": [
    {
     "output_type": "stream",
     "name": "stdout",
     "text": "!\"#$%&'()*+,-./:;<=>?@[\\]^_`{|}~\n"
    }
   ],
   "source": [
    "import re\n",
    "import string\n",
    "import numpy as np\n",
    "import json\n",
    "\n",
    "sw_en = json.load(open('datasets/en_sw.json', 'r'))\n",
    "\n",
    "print(string.punctuation)\n",
    "def cleaner(overview: str) -> str:\n",
    "    if overview is None or overview is np.nan:\n",
    "        return None\n",
    "\n",
    "    # Separators\n",
    "    separators_exp = r'[\\-_]'\n",
    "    # Other punctuation\n",
    "    punctuation_tt = str.maketrans('', '', string.punctuation)\n",
    "    # Garbage\n",
    "    garbage_exp = r'[^A-z\\s]'\n",
    "\n",
    "    new_overview = overview\n",
    "    new_overview = overview.lower() # Normalize case\n",
    "    new_overview = re.sub(separators_exp, ' ', new_overview) # Normalize separators\n",
    "    new_overview = new_overview.translate(punctuation_tt) # Remove punctuation\n",
    "    new_overview = re.sub(garbage_exp, '', new_overview)\n",
    "\n",
    "    new_overview = ' '.join([w for w in new_overview.split() if len(w) > 0 and w not in sw_en])\n",
    "\n",
    "    return new_overview if len(new_overview) != 0 else None\n",
    "    "
   ]
  },
  {
   "cell_type": "code",
   "execution_count": 48,
   "metadata": {
    "tags": []
   },
   "outputs": [
    {
     "output_type": "stream",
     "name": "stdout",
     "text": "since untimely death pancreatic cancer bill hicks become comedy legend fans may never opportunity see act live stage finally able experience hicks unique confrontational brand comedy\ncountry bumpkin whos mathematical genius falls hands gangsters\ndark knight gotham city confronts dastardly duo two face riddler formerly district attorney harvey dent two face believes batman caused courtroom accident left disfigured one side edward nygma computer genius former employee millionaire bruce wayne get philanthropist riddler former circus acrobat dick grayson family killed two face becomes waynes ward batmans new partner robin\nfilm composed multiple comedy shorts presented overarching segment titled pitch charlie wessler mad screenwriter attempting pitch script film executive griffin schraeder revealing several stories script wessler becomes agitated schraeder dismisses outrageous ideas pulls gun forces listen multiple stories making schraeder consult manager bob mone purchase film\ncop companion shot killed terrorists reno dog pairs tough cop jake thwarting criminal organization\nloan shark gives ex con nick period hours order pay back money owes nick involves best mate multi part mission order raise cash late\nanjathey truly one master pieces tamil cinema recent years\nalien force wages war earth crew uss iowa last american battleship stands way\nmr nomura eerily handsome sharply dressed sociopathic serial killer preys women tokyo jakarta world weary journalist named bayu finds unexpectedly falling vigilantism brutally killing two sadistic robbers posts videos violent sprees online pair find one another internet begin toxic competitive duel bayu clings hope resume normal life nomura continues spill blood without remorse killing advises nomura something everyone ought consider\nprivate eye jilted bride mysterious stranger join forces track elusive mobster theres trouble air tokyo raiders martial arts adventure really flies acclaimed hong kong action star tony leung plays len smooth talking detective whose trench coat carries arsenal tricks provides streetwise disguise kung fu master trail gangland boss len meets brokenhearted macy international pop star kelly chen john actorsinger ekin cheng interior designer ulterior motives close quarry dramatic tokyo streets filled close calls triple crosses gravity defying fight scenes band chicks totally kicks\n"
    }
   ],
   "source": [
    "for el in df_amostra.resumo.apply(cleaner).sample(10):\n",
    "    print(el)"
   ]
  },
  {
   "cell_type": "code",
   "execution_count": null,
   "metadata": {},
   "outputs": [],
   "source": []
  },
  {
   "cell_type": "code",
   "execution_count": 49,
   "metadata": {},
   "outputs": [],
   "source": [
    "df_amostra['resumo_2'] = df_amostra.resumo.apply(cleaner)"
   ]
  },
  {
   "cell_type": "code",
   "execution_count": 52,
   "metadata": {
    "tags": []
   },
   "outputs": [
    {
     "output_type": "execute_result",
     "data": {
      "text/plain": "Comedy    64\nAction     6\nName: genero, dtype: int64"
     },
     "metadata": {},
     "execution_count": 52
    }
   ],
   "source": [
    "df_amostra[df_amostra.resumo_2.isna()].genero.value_counts()"
   ]
  },
  {
   "cell_type": "code",
   "execution_count": null,
   "metadata": {},
   "outputs": [],
   "source": []
  }
 ]
}