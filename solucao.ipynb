{
 "metadata": {
  "language_info": {
   "codemirror_mode": {
    "name": "ipython",
    "version": 3
   },
   "file_extension": ".py",
   "mimetype": "text/x-python",
   "name": "python",
   "nbconvert_exporter": "python",
   "pygments_lexer": "ipython3",
   "version": "3.6.10-final"
  },
  "orig_nbformat": 2,
  "kernelspec": {
   "name": "python_defaultSpec_1597850248894",
   "display_name": "Python 3.6.10 64-bit ('hasan': conda)"
  }
 },
 "nbformat": 4,
 "nbformat_minor": 2,
 "cells": [
  {
   "cell_type": "markdown",
   "metadata": {},
   "source": [
    "## Ideias\n",
    "\n",
    "- Discretizar orcamento, popularidade, receita, duracao\n",
    "- Criar coluna de ano (e mês, talvez), baseando-se na data de estreia\n",
    "- Normalizar os valores"
   ]
  },
  {
   "cell_type": "code",
   "execution_count": 1,
   "metadata": {},
   "outputs": [],
   "source": [
    "import pandas as pd"
   ]
  },
  {
   "cell_type": "code",
   "execution_count": 2,
   "metadata": {},
   "outputs": [
    {
     "output_type": "execute_result",
     "data": {
      "text/plain": "         id                                      titulo  adulto  orcamento  \\\n1957  40688                            Meet the Deedles   False   24000000   \n2087   9267  And Now for Something Completely Different   False          0   \n\n     idioma_original  popularidade data_de_estreia  \\\n1957              en          13.0      1998-03-27   \n2087              en          16.0      1971-09-28   \n\n                                                 resumo    receita  duracao  \\\n1957  Two surfers end up as Yellowstone park rangers...  4562146.0     93.0   \n2087  And Now for Something Completely Different is ...        0.0     88.0   \n\n      genero          ator_1       ator_2         ator_3        ator_4  \\\n1957  Comedy     Paul Walker  John Ashton  Dennis Hopper  Eric Braeden   \n2087  Comedy  Graham Chapman  John Cleese  Terry Gilliam     Eric Idle   \n\n                ator_5     dirigido_por   escrito_por_1 escrito_por_2  \\\n1957  Richard Lineback      Steve Boyum             NaN           NaN   \n2087       Terry Jones  Ian MacNaughton  Graham Chapman   John Cleese   \n\n     historia_original  \n1957               NaN  \n2087               NaN  ",
      "text/html": "<div>\n<style scoped>\n    .dataframe tbody tr th:only-of-type {\n        vertical-align: middle;\n    }\n\n    .dataframe tbody tr th {\n        vertical-align: top;\n    }\n\n    .dataframe thead th {\n        text-align: right;\n    }\n</style>\n<table border=\"1\" class=\"dataframe\">\n  <thead>\n    <tr style=\"text-align: right;\">\n      <th></th>\n      <th>id</th>\n      <th>titulo</th>\n      <th>adulto</th>\n      <th>orcamento</th>\n      <th>idioma_original</th>\n      <th>popularidade</th>\n      <th>data_de_estreia</th>\n      <th>resumo</th>\n      <th>receita</th>\n      <th>duracao</th>\n      <th>genero</th>\n      <th>ator_1</th>\n      <th>ator_2</th>\n      <th>ator_3</th>\n      <th>ator_4</th>\n      <th>ator_5</th>\n      <th>dirigido_por</th>\n      <th>escrito_por_1</th>\n      <th>escrito_por_2</th>\n      <th>historia_original</th>\n    </tr>\n  </thead>\n  <tbody>\n    <tr>\n      <th>1957</th>\n      <td>40688</td>\n      <td>Meet the Deedles</td>\n      <td>False</td>\n      <td>24000000</td>\n      <td>en</td>\n      <td>13.0</td>\n      <td>1998-03-27</td>\n      <td>Two surfers end up as Yellowstone park rangers...</td>\n      <td>4562146.0</td>\n      <td>93.0</td>\n      <td>Comedy</td>\n      <td>Paul Walker</td>\n      <td>John Ashton</td>\n      <td>Dennis Hopper</td>\n      <td>Eric Braeden</td>\n      <td>Richard Lineback</td>\n      <td>Steve Boyum</td>\n      <td>NaN</td>\n      <td>NaN</td>\n      <td>NaN</td>\n    </tr>\n    <tr>\n      <th>2087</th>\n      <td>9267</td>\n      <td>And Now for Something Completely Different</td>\n      <td>False</td>\n      <td>0</td>\n      <td>en</td>\n      <td>16.0</td>\n      <td>1971-09-28</td>\n      <td>And Now for Something Completely Different is ...</td>\n      <td>0.0</td>\n      <td>88.0</td>\n      <td>Comedy</td>\n      <td>Graham Chapman</td>\n      <td>John Cleese</td>\n      <td>Terry Gilliam</td>\n      <td>Eric Idle</td>\n      <td>Terry Jones</td>\n      <td>Ian MacNaughton</td>\n      <td>Graham Chapman</td>\n      <td>John Cleese</td>\n      <td>NaN</td>\n    </tr>\n  </tbody>\n</table>\n</div>"
     },
     "metadata": {},
     "execution_count": 2
    }
   ],
   "source": [
    "df_movies = pd.read_csv('datasets/movies_amostra.csv')\n",
    "df_movies.sample(2, random_state=1)"
   ]
  },
  {
   "cell_type": "markdown",
   "metadata": {},
   "source": [
    "## Modificações no DF"
   ]
  },
  {
   "cell_type": "code",
   "execution_count": 3,
   "metadata": {
    "tags": []
   },
   "outputs": [],
   "source": [
    "from typing import Tuple, Dict \n",
    "from datetime import datetime\n",
    "from sklearn import preprocessing, compose\n",
    "\n",
    "def adjust_df_treino(df: pd.DataFrame) -> Tuple[pd.DataFrame, Dict[str, object]]:\n",
    "    df_copy = df.copy()\n",
    "\n",
    "    bins = {}\n",
    "\n",
    "    # Ajustes\n",
    "\n",
    "    idioma_encoder = None\n",
    "    # idioma_encoder = preprocessing.OneHotEncoder(handle_unknown=\"ignore\", sparse=False)\n",
    "\n",
    "    # idioma_encoder.fit(df_copy[[\"idioma_original\"]].dropna())\n",
    "    # oh_idiomas = pd.DataFrame(idioma_encoder.transform(df_copy[[\"idioma_original\"]].fillna('unknown')), columns=idioma_encoder.get_feature_names([\"idioma\"]))\n",
    "    # df_copy = df_copy.drop(columns=\"idioma_original\")\n",
    "\n",
    "    # df_copy = pd.concat([df_copy, oh_idiomas], axis=1)\n",
    "    \n",
    "    # Discretizações\n",
    "\n",
    "    ## Talvez discretizar a popularidade não seja a melhor approach\n",
    "\n",
    "    df_copy.orcamento, bins['orcamento'] = pd.cut(df_copy.orcamento, 30, retbins=True)\n",
    "    df_copy.popularidade, bins['popularidade'] = pd.cut(df_copy.popularidade, 30, retbins=True)\n",
    "    df_copy.receita, bins['receita'] = pd.cut(df_copy.receita, 30, retbins=True)\n",
    "    df_copy.duracao, bins['duracao'] = pd.cut(df_copy.duracao, 30, retbins=True)\n",
    "\n",
    "\n",
    "    # Separação do ano\n",
    "\n",
    "    # df_copy.ano = pd.to_numeric(df_movies.data_de_estreia.str.extract(r'^(\\d{4})-.+$').iloc[:, 0])\n",
    "\n",
    "    # Remoção de colunas\n",
    "\n",
    "    ## Remoção da história original\n",
    "    ## Remoção da data de estreia (o ano deve funcionar melhor)\n",
    "\n",
    "    # df_copy = df_copy.drop(columns=[\"data_de_estreia\", \"historia_original\"])\n",
    "\n",
    "    \n",
    "    # limit = df_movies.genero.value_counts().min()\n",
    "\n",
    "    # df_copy = pd.concat([\n",
    "    #     df_copy.query('genero==\"Comedy\"').sample(limit, random_state=1), \n",
    "    #     df_copy.query('genero==\"Action\"').sample(limit, random_state=1)\n",
    "    # ])\n",
    "    \n",
    "    parameters = {\n",
    "        'bins': bins,\n",
    "        'idioma_encoder': idioma_encoder\n",
    "    }\n",
    "\n",
    "    return df_copy, parameters"
   ]
  },
  {
   "cell_type": "code",
   "execution_count": 4,
   "metadata": {},
   "outputs": [],
   "source": [
    "def adjust_df(df: pd.DataFrame, parameters: Dict[str, object]) -> pd.DataFrame:\n",
    "    df_copy = df.copy()\n",
    "\n",
    "    idioma_encoder = parameters['idioma_encoder']\n",
    "\n",
    "    oh_idiomas = pd.DataFrame(idioma_encoder.transform(df_copy[[\"idioma_original\"]].fillna('unknown')), columns=idioma_encoder.get_feature_names([\"idioma\"]))\n",
    "    df_copy = df_copy.drop(columns=\"idioma_original\")\n",
    "\n",
    "    df_copy = pd.concat([df_copy, oh_idiomas], axis=1)\n",
    "    \n",
    "\n",
    "    # Discretizações\n",
    "\n",
    "    ## Talvez discretizar a popularidade não seja a melhor approach\n",
    "\n",
    "    df_copy.orcamento = pd.cut(df_copy.orcamento, parameters['bins']['orcamento'])\n",
    "    df_copy.popularidade = pd.cut(df_copy.popularidade, parameters['bins']['popularidade'])\n",
    "    df_copy.receita = pd.cut(df_copy.receita, parameters['bins']['receita'])\n",
    "    df_copy.duracao = pd.cut(df_copy.duracao, parameters['bins']['duracao'])\n",
    "\n",
    "    # Separação do ano\n",
    "\n",
    "    df_copy.ano = pd.to_numeric(df_movies.data_de_estreia.str.extract(r'^(\\d{4})-.+$').iloc[:, 0])\n",
    "\n",
    "    # Remoção de colunas\n",
    "\n",
    "    ## Remoção da história original\n",
    "    ## Remoção da data de estreia (o ano deve funcionar melhor)\n",
    "\n",
    "    df_copy = df_copy.drop(columns=[\"data_de_estreia\", \"historia_original\"])\n",
    "\n",
    "    return df_copy"
   ]
  },
  {
   "cell_type": "code",
   "execution_count": 5,
   "metadata": {},
   "outputs": [
    {
     "output_type": "execute_result",
     "data": {
      "text/plain": "       id                   titulo  adulto               orcamento  \\\n240  9274  Fire, Ice & Canned Beer   False  (-270000.0, 9000000.0]   \n832  9427           The Full Monty   False  (-270000.0, 9000000.0]   \n\n        popularidade                                             resumo  \\\n240  (-0.224, 7.467]  Two friends who are doing civil service flee t...   \n832   (14.933, 22.4]  Sheffield, England. Gaz, a jobless steelworker...   \n\n                        receita       duracao  genero          ator_1  ...  \\\n240  (-1118888.979, 37296299.3]  (70.5, 94.0]  Comedy   Rick Kavanian  ...   \n832  (223777795.8, 261074095.1]  (70.5, 94.0]  Comedy  Robert Carlyle  ...   \n\n    idioma_sr idioma_sv idioma_ta idioma_te idioma_th idioma_tr idioma_uk  \\\n240       0.0       0.0       0.0       0.0       0.0       0.0       0.0   \n832       0.0       0.0       0.0       0.0       0.0       0.0       0.0   \n\n     idioma_ur  idioma_xx  idioma_zh  \n240        0.0        0.0        0.0  \n832        0.0        0.0        0.0  \n\n[2 rows x 54 columns]",
      "text/html": "<div>\n<style scoped>\n    .dataframe tbody tr th:only-of-type {\n        vertical-align: middle;\n    }\n\n    .dataframe tbody tr th {\n        vertical-align: top;\n    }\n\n    .dataframe thead th {\n        text-align: right;\n    }\n</style>\n<table border=\"1\" class=\"dataframe\">\n  <thead>\n    <tr style=\"text-align: right;\">\n      <th></th>\n      <th>id</th>\n      <th>titulo</th>\n      <th>adulto</th>\n      <th>orcamento</th>\n      <th>popularidade</th>\n      <th>resumo</th>\n      <th>receita</th>\n      <th>duracao</th>\n      <th>genero</th>\n      <th>ator_1</th>\n      <th>...</th>\n      <th>idioma_sr</th>\n      <th>idioma_sv</th>\n      <th>idioma_ta</th>\n      <th>idioma_te</th>\n      <th>idioma_th</th>\n      <th>idioma_tr</th>\n      <th>idioma_uk</th>\n      <th>idioma_ur</th>\n      <th>idioma_xx</th>\n      <th>idioma_zh</th>\n    </tr>\n  </thead>\n  <tbody>\n    <tr>\n      <th>240</th>\n      <td>9274</td>\n      <td>Fire, Ice &amp; Canned Beer</td>\n      <td>False</td>\n      <td>(-270000.0, 9000000.0]</td>\n      <td>(-0.224, 7.467]</td>\n      <td>Two friends who are doing civil service flee t...</td>\n      <td>(-1118888.979, 37296299.3]</td>\n      <td>(70.5, 94.0]</td>\n      <td>Comedy</td>\n      <td>Rick Kavanian</td>\n      <td>...</td>\n      <td>0.0</td>\n      <td>0.0</td>\n      <td>0.0</td>\n      <td>0.0</td>\n      <td>0.0</td>\n      <td>0.0</td>\n      <td>0.0</td>\n      <td>0.0</td>\n      <td>0.0</td>\n      <td>0.0</td>\n    </tr>\n    <tr>\n      <th>832</th>\n      <td>9427</td>\n      <td>The Full Monty</td>\n      <td>False</td>\n      <td>(-270000.0, 9000000.0]</td>\n      <td>(14.933, 22.4]</td>\n      <td>Sheffield, England. Gaz, a jobless steelworker...</td>\n      <td>(223777795.8, 261074095.1]</td>\n      <td>(70.5, 94.0]</td>\n      <td>Comedy</td>\n      <td>Robert Carlyle</td>\n      <td>...</td>\n      <td>0.0</td>\n      <td>0.0</td>\n      <td>0.0</td>\n      <td>0.0</td>\n      <td>0.0</td>\n      <td>0.0</td>\n      <td>0.0</td>\n      <td>0.0</td>\n      <td>0.0</td>\n      <td>0.0</td>\n    </tr>\n  </tbody>\n</table>\n<p>2 rows × 54 columns</p>\n</div>"
     },
     "metadata": {},
     "execution_count": 5
    }
   ],
   "source": [
    "df_movies_adj, adj_parameters = adjust_df_treino(df_movies)\n",
    "\n",
    "df_movies_adj.sample(2, random_state=2)"
   ]
  },
  {
   "cell_type": "code",
   "execution_count": 6,
   "metadata": {
    "tags": []
   },
   "outputs": [
    {
     "output_type": "stream",
     "name": "stdout",
     "text": "0/1215\n1000/1215\n0/405\n0/1215\n1000/1215\n0/405\n0/1215\n1000/1215\n0/405\n0/1215\n1000/1215\n0/405\n[I 2020-08-19 13:48:41,395] Finished trial#0 with value: 0.6236326062451419 with parameters: {'min_samples_split': 2.919154032918018}. Best is trial#0 with value: 0.6236326062451419.\n0/1215\n1000/1215\n0/405\n0/1215\n1000/1215\n0/405\n0/1215\n1000/1215\n0/405\n0/1215\n1000/1215\n0/405\n[I 2020-08-19 13:49:37,168] Finished trial#1 with value: 0.6213309529552167 with parameters: {'min_samples_split': 5.042271454095107}. Best is trial#0 with value: 0.6236326062451419.\n0/1620\n1000/1620\n0/404\n0.5875716566761773\n0/1215\n1000/1215\n0/405\n0/1215\n1000/1215\n0/405\n0/1215\n1000/1215\n0/405\n0/1215\n1000/1215\n0/405\n[I 2020-08-19 13:50:59,267] Finished trial#0 with value: 0.5103428465869293 with parameters: {'min_samples_split': 0.0008006237214142065}. Best is trial#0 with value: 0.5103428465869293.\n0/1215\n1000/1215\n0/405\n0/1215\n1000/1215\n0/405\n0/1215\n1000/1215\n0/405\n0/1215\n1000/1215\n0/405\n[I 2020-08-19 13:52:01,576] Finished trial#1 with value: 0.5894666640238475 with parameters: {'min_samples_split': 2.1163280084228786}. Best is trial#1 with value: 0.5894666640238475.\n0/1620\n1000/1620\n0/404\n0.3797455127123071\n0/1215\n1000/1215\n0/405\n0/1215\n1000/1215\n0/405\n0/1215\n1000/1215\n0/405\n0/1215\n1000/1215\n0/405\n[I 2020-08-19 13:53:22,612] Finished trial#0 with value: 0.7184459802079167 with parameters: {'min_samples_split': 1.0272912357197912}. Best is trial#0 with value: 0.7184459802079167.\n0/1215\n1000/1215\n0/405\n0/1215\n1000/1215\n0/405\n0/1215\n1000/1215\n0/405\n0/1215\n1000/1215\n0/405\n[I 2020-08-19 13:54:19,021] Finished trial#1 with value: 0.7178845272567663 with parameters: {'min_samples_split': 0.6463701633815846}. Best is trial#0 with value: 0.7184459802079167.\n0/1620\n1000/1620\n0/404\n0.388756171364867\n0/1215\n1000/1215\n0/405\n0/1215\n1000/1215\n0/405\n0/1215\n1000/1215\n0/405\n0/1215\n1000/1215\n0/405\n[I 2020-08-19 13:55:40,101] Finished trial#0 with value: 0.523017183837228 with parameters: {'min_samples_split': 1.3038214796436964}. Best is trial#0 with value: 0.523017183837228.\n0/1215\n1000/1215\n0/405\n0/1215\n1000/1215\n0/405\n0/1215\n1000/1215\n0/405\n0/1215\n1000/1215\n0/405\n[I 2020-08-19 13:56:34,942] Finished trial#1 with value: 0.6083756601678825 with parameters: {'min_samples_split': 2.418925089301334}. Best is trial#1 with value: 0.6083756601678825.\n0/1620\n1000/1620\n0/404\n0.6830009112078567\n0/1212\n1000/1212\n0/404\n0/1212\n1000/1212\n0/404\n0/1212\n1000/1212\n0/404\n0/1212\n1000/1212\n0/404\n[I 2020-08-19 13:57:53,272] Finished trial#0 with value: 0.6840519207980132 with parameters: {'min_samples_split': 2.7773723196146896}. Best is trial#0 with value: 0.6840519207980132.\n0/1212\n1000/1212\n0/404\n0/1212\n1000/1212\n0/404\n0/1212\n1000/1212\n0/404\n0/1212\n1000/1212\n0/404\n[I 2020-08-19 13:58:52,919] Finished trial#1 with value: 0.6822295471570712 with parameters: {'min_samples_split': 3.7717171380234986}. Best is trial#0 with value: 0.6840519207980132.\n0/1616\n1000/1616\n0/408\n0.4718898743279799\nMACRO F1: 0.5021928252578376\n"
    }
   ],
   "source": [
    "from base_am.resultado import Fold\n",
    "from base_am.avaliacao import Experimento\n",
    "from competicao_am.metodo_competicao import MetodoCompeticao\n",
    "from competicao_am.avaliacao_competicao import OtimizacaoObjetivoSVMCompeticao\n",
    "from sklearn.svm import LinearSVC\n",
    "import pandas as pd\n",
    "\n",
    "arr_folds = Fold.gerar_k_folds(df_movies_adj, val_k=5, col_classe=\"genero\",\n",
    "                            num_repeticoes=1, num_folds_validacao=4,num_repeticoes_validacao=1)\n",
    "scikit_method = LinearSVC(random_state=2)\n",
    "\n",
    "ml_method = MetodoCompeticao(scikit_method)\n",
    "\n",
    "ClasseObjetivo = OtimizacaoObjetivoSVMCompeticao\n",
    "experimento = Experimento(arr_folds, ml_method=ml_method,\n",
    "                    ClasseObjetivoOtimizacao=ClasseObjetivo,\n",
    "                    num_trials=2)\n",
    "\n",
    "print(f\"MACRO F1: {experimento.macro_f1_avg}\")"
   ]
  },
  {
   "cell_type": "code",
   "execution_count": null,
   "metadata": {},
   "outputs": [],
   "source": [
    "from base_am.resultado import Fold\n",
    "from base_am.avaliacao import Experimento\n",
    "from competicao_am.metodo_competicao import MetodoCompeticao\n",
    "from competicao_am.avaliacao_competicao import OtimizacaoObjetivoSVMCompeticao\n",
    "from sklearn.svm import LinearSVC\n",
    "import pandas as pd\n",
    "\n",
    "arr_folds = Fold.gerar_k_folds(df_movies, val_k=5, col_classe=\"genero\",\n",
    "                            num_repeticoes=1, num_folds_validacao=4,num_repeticoes_validacao=1)\n",
    "scikit_method = LinearSVC(random_state=2)\n",
    "\n",
    "ml_method = MetodoCompeticao(scikit_method)\n",
    "\n",
    "ClasseObjetivo = OtimizacaoObjetivoSVMCompeticao\n",
    "experimento = Experimento(arr_folds, ml_method=ml_method,\n",
    "                    ClasseObjetivoOtimizacao=ClasseObjetivo,\n",
    "                    num_trials=2)\n",
    "\n",
    "print(f\"MACRO F1: {experimento.macro_f1_avg}\")"
   ]
  }
 ]
}