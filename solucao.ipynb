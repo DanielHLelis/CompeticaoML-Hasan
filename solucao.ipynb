{
 "metadata": {
  "language_info": {
   "codemirror_mode": {
    "name": "ipython",
    "version": 3
   },
   "file_extension": ".py",
   "mimetype": "text/x-python",
   "name": "python",
   "nbconvert_exporter": "python",
   "pygments_lexer": "ipython3",
   "version": "3.6.10-final"
  },
  "orig_nbformat": 2,
  "kernelspec": {
   "name": "python_defaultSpec_1597695687833",
   "display_name": "Python 3.6.10 64-bit ('hasan': conda)"
  }
 },
 "nbformat": 4,
 "nbformat_minor": 2,
 "cells": [
  {
   "cell_type": "markdown",
   "metadata": {},
   "source": [
    "## Ideias\n",
    "\n",
    "- Discretizar orcamento, popularidade, receita, duracao\n",
    "- Criar coluna de ano (e mês, talvez), baseando-se na data de estreia\n",
    "- Normalizar os valores"
   ]
  },
  {
   "cell_type": "code",
   "execution_count": 1,
   "metadata": {},
   "outputs": [],
   "source": [
    "import pandas as pd"
   ]
  },
  {
   "cell_type": "code",
   "execution_count": 11,
   "metadata": {},
   "outputs": [
    {
     "output_type": "execute_result",
     "data": {
      "text/plain": "         id                                      titulo  adulto  orcamento  \\\n1957  40688                            Meet the Deedles   False   24000000   \n2087   9267  And Now for Something Completely Different   False          0   \n\n     idioma_original  popularidade data_de_estreia  \\\n1957              en          13.0      1998-03-27   \n2087              en          16.0      1971-09-28   \n\n                                                 resumo    receita  duracao  \\\n1957  Two surfers end up as Yellowstone park rangers...  4562146.0     93.0   \n2087  And Now for Something Completely Different is ...        0.0     88.0   \n\n      genero          ator_1       ator_2         ator_3        ator_4  \\\n1957  Comedy     Paul Walker  John Ashton  Dennis Hopper  Eric Braeden   \n2087  Comedy  Graham Chapman  John Cleese  Terry Gilliam     Eric Idle   \n\n                ator_5     dirigido_por   escrito_por_1 escrito_por_2  \\\n1957  Richard Lineback      Steve Boyum             NaN           NaN   \n2087       Terry Jones  Ian MacNaughton  Graham Chapman   John Cleese   \n\n     historia_original  \n1957               NaN  \n2087               NaN  ",
      "text/html": "<div>\n<style scoped>\n    .dataframe tbody tr th:only-of-type {\n        vertical-align: middle;\n    }\n\n    .dataframe tbody tr th {\n        vertical-align: top;\n    }\n\n    .dataframe thead th {\n        text-align: right;\n    }\n</style>\n<table border=\"1\" class=\"dataframe\">\n  <thead>\n    <tr style=\"text-align: right;\">\n      <th></th>\n      <th>id</th>\n      <th>titulo</th>\n      <th>adulto</th>\n      <th>orcamento</th>\n      <th>idioma_original</th>\n      <th>popularidade</th>\n      <th>data_de_estreia</th>\n      <th>resumo</th>\n      <th>receita</th>\n      <th>duracao</th>\n      <th>genero</th>\n      <th>ator_1</th>\n      <th>ator_2</th>\n      <th>ator_3</th>\n      <th>ator_4</th>\n      <th>ator_5</th>\n      <th>dirigido_por</th>\n      <th>escrito_por_1</th>\n      <th>escrito_por_2</th>\n      <th>historia_original</th>\n    </tr>\n  </thead>\n  <tbody>\n    <tr>\n      <th>1957</th>\n      <td>40688</td>\n      <td>Meet the Deedles</td>\n      <td>False</td>\n      <td>24000000</td>\n      <td>en</td>\n      <td>13.0</td>\n      <td>1998-03-27</td>\n      <td>Two surfers end up as Yellowstone park rangers...</td>\n      <td>4562146.0</td>\n      <td>93.0</td>\n      <td>Comedy</td>\n      <td>Paul Walker</td>\n      <td>John Ashton</td>\n      <td>Dennis Hopper</td>\n      <td>Eric Braeden</td>\n      <td>Richard Lineback</td>\n      <td>Steve Boyum</td>\n      <td>NaN</td>\n      <td>NaN</td>\n      <td>NaN</td>\n    </tr>\n    <tr>\n      <th>2087</th>\n      <td>9267</td>\n      <td>And Now for Something Completely Different</td>\n      <td>False</td>\n      <td>0</td>\n      <td>en</td>\n      <td>16.0</td>\n      <td>1971-09-28</td>\n      <td>And Now for Something Completely Different is ...</td>\n      <td>0.0</td>\n      <td>88.0</td>\n      <td>Comedy</td>\n      <td>Graham Chapman</td>\n      <td>John Cleese</td>\n      <td>Terry Gilliam</td>\n      <td>Eric Idle</td>\n      <td>Terry Jones</td>\n      <td>Ian MacNaughton</td>\n      <td>Graham Chapman</td>\n      <td>John Cleese</td>\n      <td>NaN</td>\n    </tr>\n  </tbody>\n</table>\n</div>"
     },
     "metadata": {},
     "execution_count": 11
    }
   ],
   "source": [
    "df_movies = pd.read_csv('datasets/movies_amostra.csv')\n",
    "df_movies.sample(2, random_state=1)"
   ]
  },
  {
   "cell_type": "markdown",
   "metadata": {},
   "source": [
    "## Mapeador de strings para inteiros"
   ]
  },
  {
   "cell_type": "code",
   "execution_count": 3,
   "metadata": {},
   "outputs": [],
   "source": [
    "from typing import Tuple, Dict \n",
    "\n",
    "def int_mapper(df: pd.DataFrame, col: str) -> Tuple[Dict[str, int], pd.Series]:\n",
    "    uniques = df[col].unique()\n",
    "    mapper = {}\n",
    "\n",
    "    for i, v in enumerate(df_movies.genero.unique()):\n",
    "        mapper[v] = i\n",
    "    \n",
    "\n",
    "    new_series = df[col].apply(lambda x: mapper[x])\n",
    "\n",
    "    return mapper, new_series\n"
   ]
  },
  {
   "cell_type": "markdown",
   "metadata": {},
   "source": [
    "## Modificações no DF"
   ]
  },
  {
   "cell_type": "code",
   "execution_count": 4,
   "metadata": {
    "tags": []
   },
   "outputs": [
    {
     "output_type": "execute_result",
     "data": {
      "text/plain": "         id                                      titulo  adulto  orcamento  \\\n1957  40688                            Meet the Deedles   False   24000000   \n2087   9267  And Now for Something Completely Different   False          0   \n1394  61391                               Distant Drums   False          0   \n1520  75298                                The Fountain   False          0   \n1098  48375                           Brother's Justice   False          0   \n\n     idioma_original  popularidade data_de_estreia  \\\n1957              en          13.0      1998-03-27   \n2087              en          16.0      1971-09-28   \n1394              en          12.0      1951-12-25   \n1520              ru           0.0      1989-09-08   \n1098              en           0.0      2010-10-22   \n\n                                                 resumo    receita  duracao  \\\n1957  Two surfers end up as Yellowstone park rangers...  4562146.0     93.0   \n2087  And Now for Something Completely Different is ...        0.0     88.0   \n1394  After destroying a Seminole fort, American sol...        0.0    101.0   \n1520  A story of a Moscow's apartment building that ...        0.0    100.0   \n1098  Motivated by Box Office statistics, Dax Shepar...        0.0     80.0   \n\n      genero            ator_1              ator_2              ator_3  \\\n1957       1       Paul Walker         John Ashton       Dennis Hopper   \n2087       1    Graham Chapman         John Cleese       Terry Gilliam   \n1394       0       Gary Cooper          Mari Aldon        Richard Webb   \n1520       1  Viktor Mikhaylov  Shanna Kerimtayeva  Asankul Kuttubayev   \n1098       1        Tom Arnold         Jon Favreau       James Feldman   \n\n              ator_4            ator_5     dirigido_por   escrito_por_1  \\\n1957    Eric Braeden  Richard Lineback      Steve Boyum             NaN   \n2087       Eric Idle       Terry Jones  Ian MacNaughton  Graham Chapman   \n1394        Ray Teal  Arthur Hunnicutt      Raoul Walsh   Martin Rackin   \n1520  Sergei Dreiden      Nina Usatova       Yuri Mamin             NaN   \n1098  David Koechner      David Palmer      Dax Shepard             NaN   \n\n     escrito_por_2 historia_original  \n1957           NaN               NaN  \n2087   John Cleese               NaN  \n1394   Niven Busch               NaN  \n1520           NaN               NaN  \n1098           NaN               NaN  ",
      "text/html": "<div>\n<style scoped>\n    .dataframe tbody tr th:only-of-type {\n        vertical-align: middle;\n    }\n\n    .dataframe tbody tr th {\n        vertical-align: top;\n    }\n\n    .dataframe thead th {\n        text-align: right;\n    }\n</style>\n<table border=\"1\" class=\"dataframe\">\n  <thead>\n    <tr style=\"text-align: right;\">\n      <th></th>\n      <th>id</th>\n      <th>titulo</th>\n      <th>adulto</th>\n      <th>orcamento</th>\n      <th>idioma_original</th>\n      <th>popularidade</th>\n      <th>data_de_estreia</th>\n      <th>resumo</th>\n      <th>receita</th>\n      <th>duracao</th>\n      <th>genero</th>\n      <th>ator_1</th>\n      <th>ator_2</th>\n      <th>ator_3</th>\n      <th>ator_4</th>\n      <th>ator_5</th>\n      <th>dirigido_por</th>\n      <th>escrito_por_1</th>\n      <th>escrito_por_2</th>\n      <th>historia_original</th>\n    </tr>\n  </thead>\n  <tbody>\n    <tr>\n      <th>1957</th>\n      <td>40688</td>\n      <td>Meet the Deedles</td>\n      <td>False</td>\n      <td>24000000</td>\n      <td>en</td>\n      <td>13.0</td>\n      <td>1998-03-27</td>\n      <td>Two surfers end up as Yellowstone park rangers...</td>\n      <td>4562146.0</td>\n      <td>93.0</td>\n      <td>1</td>\n      <td>Paul Walker</td>\n      <td>John Ashton</td>\n      <td>Dennis Hopper</td>\n      <td>Eric Braeden</td>\n      <td>Richard Lineback</td>\n      <td>Steve Boyum</td>\n      <td>NaN</td>\n      <td>NaN</td>\n      <td>NaN</td>\n    </tr>\n    <tr>\n      <th>2087</th>\n      <td>9267</td>\n      <td>And Now for Something Completely Different</td>\n      <td>False</td>\n      <td>0</td>\n      <td>en</td>\n      <td>16.0</td>\n      <td>1971-09-28</td>\n      <td>And Now for Something Completely Different is ...</td>\n      <td>0.0</td>\n      <td>88.0</td>\n      <td>1</td>\n      <td>Graham Chapman</td>\n      <td>John Cleese</td>\n      <td>Terry Gilliam</td>\n      <td>Eric Idle</td>\n      <td>Terry Jones</td>\n      <td>Ian MacNaughton</td>\n      <td>Graham Chapman</td>\n      <td>John Cleese</td>\n      <td>NaN</td>\n    </tr>\n    <tr>\n      <th>1394</th>\n      <td>61391</td>\n      <td>Distant Drums</td>\n      <td>False</td>\n      <td>0</td>\n      <td>en</td>\n      <td>12.0</td>\n      <td>1951-12-25</td>\n      <td>After destroying a Seminole fort, American sol...</td>\n      <td>0.0</td>\n      <td>101.0</td>\n      <td>0</td>\n      <td>Gary Cooper</td>\n      <td>Mari Aldon</td>\n      <td>Richard Webb</td>\n      <td>Ray Teal</td>\n      <td>Arthur Hunnicutt</td>\n      <td>Raoul Walsh</td>\n      <td>Martin Rackin</td>\n      <td>Niven Busch</td>\n      <td>NaN</td>\n    </tr>\n    <tr>\n      <th>1520</th>\n      <td>75298</td>\n      <td>The Fountain</td>\n      <td>False</td>\n      <td>0</td>\n      <td>ru</td>\n      <td>0.0</td>\n      <td>1989-09-08</td>\n      <td>A story of a Moscow's apartment building that ...</td>\n      <td>0.0</td>\n      <td>100.0</td>\n      <td>1</td>\n      <td>Viktor Mikhaylov</td>\n      <td>Shanna Kerimtayeva</td>\n      <td>Asankul Kuttubayev</td>\n      <td>Sergei Dreiden</td>\n      <td>Nina Usatova</td>\n      <td>Yuri Mamin</td>\n      <td>NaN</td>\n      <td>NaN</td>\n      <td>NaN</td>\n    </tr>\n    <tr>\n      <th>1098</th>\n      <td>48375</td>\n      <td>Brother's Justice</td>\n      <td>False</td>\n      <td>0</td>\n      <td>en</td>\n      <td>0.0</td>\n      <td>2010-10-22</td>\n      <td>Motivated by Box Office statistics, Dax Shepar...</td>\n      <td>0.0</td>\n      <td>80.0</td>\n      <td>1</td>\n      <td>Tom Arnold</td>\n      <td>Jon Favreau</td>\n      <td>James Feldman</td>\n      <td>David Koechner</td>\n      <td>David Palmer</td>\n      <td>Dax Shepard</td>\n      <td>NaN</td>\n      <td>NaN</td>\n      <td>NaN</td>\n    </tr>\n  </tbody>\n</table>\n</div>"
     },
     "metadata": {},
     "execution_count": 4
    }
   ],
   "source": [
    "from datetime import datetime\n",
    "\n",
    "df_movies_normalizado = df_movies.copy()\n",
    "\n",
    "# Mapeamento do genero\n",
    "\n",
    "mapa_genero, genero_mapeado = int_mapper(df_movies, 'genero')\n",
    "df_movies_normalizado.genero = genero_mapeado\n",
    "\n",
    "# Discretização da duração\n",
    "\n",
    "df_movies_normalizado.duracao = pd.cut(df_movies_normalizado.duracao, 20)\n",
    "df_movies_normalizado.sample(2)\n",
    "\n",
    "# Separação do ano\n",
    "\n",
    "# datetime.strptime()\n",
    "\n",
    "df_movies_normalizado.sample(2, random_state=1)"
   ]
  },
  {
   "cell_type": "code",
   "execution_count": 9,
   "metadata": {
    "tags": []
   },
   "outputs": [
    {
     "output_type": "stream",
     "name": "stdout",
     "text": "0/1800\n1000/1800\n0/600\n0/1800\n1000/1800\n0/600\n0/1800\n1000/1800\n0/600\n0/1800\n1000/1800\n0/600\n[I 2020-08-17 17:31:20,934] Finished trial#0 with value: 0.7601207076676431 with parameters: {'min_samples_split': 2.9343616008230637}. Best is trial#0 with value: 0.7601207076676431.\n0/1800\n1000/1800\n0/600\n0/1800\n1000/1800\n0/600\n0/1800\n1000/1800\n0/600\n0/1800\n1000/1800\n0/600\n[I 2020-08-17 17:31:51,018] Finished trial#1 with value: 0.7607679489978387 with parameters: {'min_samples_split': 4.796536502777316}. Best is trial#1 with value: 0.7607679489978387.\n0/2400\n1000/2400\n2000/2400\n0/600\n0.7659168723997266\n0/1800\n1000/1800\n0/600\n0/1800\n1000/1800\n0/600\n0/1800\n1000/1800\n0/600\n0/1800\n1000/1800\n0/600\n[I 2020-08-17 17:32:31,020] Finished trial#0 with value: 0.7665173671388459 with parameters: {'min_samples_split': 1.431165748120622}. Best is trial#0 with value: 0.7665173671388459.\n0/1800\n1000/1800\n0/600\n0/1800\n1000/1800\n0/600\n0/1800\n1000/1800\n0/600\n0/1800\n1000/1800\n0/600\n[I 2020-08-17 17:33:02,001] Finished trial#1 with value: 0.7589899502507746 with parameters: {'min_samples_split': 6.146822054736618}. Best is trial#0 with value: 0.7665173671388459.\n0/2400\n1000/2400\n2000/2400\n0/600\n0.7739234449760766\n0/1800\n1000/1800\n0/600\n0/1800\n1000/1800\n0/600\n0/1800\n1000/1800\n0/600\n0/1800\n1000/1800\n0/600\n[I 2020-08-17 17:33:39,447] Finished trial#0 with value: 0.7558320308440873 with parameters: {'min_samples_split': 0.19171315238548314}. Best is trial#0 with value: 0.7558320308440873.\n0/1800\n1000/1800\n0/600\n0/1800\n1000/1800\n0/600\n0/1800\n1000/1800\n0/600\n0/1800\n1000/1800\n0/600\n[I 2020-08-17 17:34:08,545] Finished trial#1 with value: 0.7524962405676943 with parameters: {'min_samples_split': 4.693272571248816}. Best is trial#0 with value: 0.7558320308440873.\n0/2400\n1000/2400\n2000/2400\n0/600\n0.7554127165820395\n0/1800\n1000/1800\n0/600\n0/1800\n1000/1800\n0/600\n0/1800\n1000/1800\n0/600\n0/1800\n1000/1800\n0/600\n[I 2020-08-17 17:34:49,092] Finished trial#0 with value: 0.7633972645085498 with parameters: {'min_samples_split': 2.9211336165698887}. Best is trial#0 with value: 0.7633972645085498.\n0/1800\n1000/1800\n0/600\n0/1800\n1000/1800\n0/600\n0/1800\n1000/1800\n0/600\n0/1800\n1000/1800\n0/600\n[I 2020-08-17 17:35:21,330] Finished trial#1 with value: 0.762731983003792 with parameters: {'min_samples_split': 3.9108287991202615}. Best is trial#0 with value: 0.7633972645085498.\n0/2400\n1000/2400\n2000/2400\n0/600\n0.7580614191169882\n0/1800\n1000/1800\n0/600\n0/1800\n1000/1800\n0/600\n0/1800\n1000/1800\n0/600\n0/1800\n1000/1800\n0/600\n[I 2020-08-17 17:36:03,038] Finished trial#0 with value: 0.7669461889634355 with parameters: {'min_samples_split': 0.9827085701666364}. Best is trial#0 with value: 0.7669461889634355.\n0/1800\n1000/1800\n0/600\n0/1800\n1000/1800\n0/600\n0/1800\n1000/1800\n0/600\n0/1800\n1000/1800\n0/600\n[I 2020-08-17 17:36:32,881] Finished trial#1 with value: 0.7647901254773081 with parameters: {'min_samples_split': 1.3867104235941516}. Best is trial#0 with value: 0.7669461889634355.\n0/2400\n1000/2400\n2000/2400\n0/600\n0.7880895457509236\nMACRO F1: 0.7682807997651508\n"
    }
   ],
   "source": [
    "from base_am.resultado import Fold\n",
    "from base_am.avaliacao import Experimento\n",
    "from competicao_am.metodo_competicao import MetodoCompeticao\n",
    "from competicao_am.avaliacao_competicao import OtimizacaoObjetivoSVMCompeticao\n",
    "from sklearn.svm import LinearSVC\n",
    "import pandas as pd\n",
    "\n",
    "arr_folds = Fold.gerar_k_folds(df_movies_normalizado, val_k=5, col_classe=\"genero\",\n",
    "                            num_repeticoes=1, num_folds_validacao=4,num_repeticoes_validacao=1)\n",
    "scikit_method = LinearSVC(random_state=2)\n",
    "\n",
    "ml_method = MetodoCompeticao(scikit_method)\n",
    "\n",
    "ClasseObjetivo = OtimizacaoObjetivoSVMCompeticao\n",
    "experimento = Experimento(arr_folds, ml_method=ml_method,\n",
    "                    ClasseObjetivoOtimizacao=ClasseObjetivo,\n",
    "                    num_trials=2)\n",
    "\n",
    "print(f\"MACRO F1: {experimento.macro_f1_avg}\")"
   ]
  }
 ]
}