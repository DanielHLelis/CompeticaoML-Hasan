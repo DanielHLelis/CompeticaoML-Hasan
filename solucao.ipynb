{
 "metadata": {
  "language_info": {
   "codemirror_mode": {
    "name": "ipython",
    "version": 3
   },
   "file_extension": ".py",
   "mimetype": "text/x-python",
   "name": "python",
   "nbconvert_exporter": "python",
   "pygments_lexer": "ipython3",
   "version": "3.6.10-final"
  },
  "orig_nbformat": 2,
  "kernelspec": {
   "name": "python_defaultSpec_1597861882429",
   "display_name": "Python 3.6.10 64-bit ('hasan': conda)"
  }
 },
 "nbformat": 4,
 "nbformat_minor": 2,
 "cells": [
  {
   "cell_type": "markdown",
   "metadata": {},
   "source": [
    "## Ideias\n",
    "\n",
    "- Discretizar orcamento, popularidade, receita, duracao\n",
    "- Criar coluna de ano (e mês, talvez), baseando-se na data de estreia\n",
    "- Normalizar os valores"
   ]
  },
  {
   "cell_type": "code",
   "execution_count": 1,
   "metadata": {},
   "outputs": [],
   "source": [
    "import pandas as pd"
   ]
  },
  {
   "cell_type": "code",
   "execution_count": 2,
   "metadata": {},
   "outputs": [
    {
     "output_type": "execute_result",
     "data": {
      "text/plain": "         id                                      titulo  adulto  orcamento  \\\n1957  40688                            Meet the Deedles   False   24000000   \n2087   9267  And Now for Something Completely Different   False          0   \n\n     idioma_original  popularidade data_de_estreia  \\\n1957              en          13.0      1998-03-27   \n2087              en          16.0      1971-09-28   \n\n                                                 resumo    receita  duracao  \\\n1957  Two surfers end up as Yellowstone park rangers...  4562146.0     93.0   \n2087  And Now for Something Completely Different is ...        0.0     88.0   \n\n      genero          ator_1       ator_2         ator_3        ator_4  \\\n1957  Comedy     Paul Walker  John Ashton  Dennis Hopper  Eric Braeden   \n2087  Comedy  Graham Chapman  John Cleese  Terry Gilliam     Eric Idle   \n\n                ator_5     dirigido_por   escrito_por_1 escrito_por_2  \\\n1957  Richard Lineback      Steve Boyum             NaN           NaN   \n2087       Terry Jones  Ian MacNaughton  Graham Chapman   John Cleese   \n\n     historia_original  \n1957               NaN  \n2087               NaN  ",
      "text/html": "<div>\n<style scoped>\n    .dataframe tbody tr th:only-of-type {\n        vertical-align: middle;\n    }\n\n    .dataframe tbody tr th {\n        vertical-align: top;\n    }\n\n    .dataframe thead th {\n        text-align: right;\n    }\n</style>\n<table border=\"1\" class=\"dataframe\">\n  <thead>\n    <tr style=\"text-align: right;\">\n      <th></th>\n      <th>id</th>\n      <th>titulo</th>\n      <th>adulto</th>\n      <th>orcamento</th>\n      <th>idioma_original</th>\n      <th>popularidade</th>\n      <th>data_de_estreia</th>\n      <th>resumo</th>\n      <th>receita</th>\n      <th>duracao</th>\n      <th>genero</th>\n      <th>ator_1</th>\n      <th>ator_2</th>\n      <th>ator_3</th>\n      <th>ator_4</th>\n      <th>ator_5</th>\n      <th>dirigido_por</th>\n      <th>escrito_por_1</th>\n      <th>escrito_por_2</th>\n      <th>historia_original</th>\n    </tr>\n  </thead>\n  <tbody>\n    <tr>\n      <th>1957</th>\n      <td>40688</td>\n      <td>Meet the Deedles</td>\n      <td>False</td>\n      <td>24000000</td>\n      <td>en</td>\n      <td>13.0</td>\n      <td>1998-03-27</td>\n      <td>Two surfers end up as Yellowstone park rangers...</td>\n      <td>4562146.0</td>\n      <td>93.0</td>\n      <td>Comedy</td>\n      <td>Paul Walker</td>\n      <td>John Ashton</td>\n      <td>Dennis Hopper</td>\n      <td>Eric Braeden</td>\n      <td>Richard Lineback</td>\n      <td>Steve Boyum</td>\n      <td>NaN</td>\n      <td>NaN</td>\n      <td>NaN</td>\n    </tr>\n    <tr>\n      <th>2087</th>\n      <td>9267</td>\n      <td>And Now for Something Completely Different</td>\n      <td>False</td>\n      <td>0</td>\n      <td>en</td>\n      <td>16.0</td>\n      <td>1971-09-28</td>\n      <td>And Now for Something Completely Different is ...</td>\n      <td>0.0</td>\n      <td>88.0</td>\n      <td>Comedy</td>\n      <td>Graham Chapman</td>\n      <td>John Cleese</td>\n      <td>Terry Gilliam</td>\n      <td>Eric Idle</td>\n      <td>Terry Jones</td>\n      <td>Ian MacNaughton</td>\n      <td>Graham Chapman</td>\n      <td>John Cleese</td>\n      <td>NaN</td>\n    </tr>\n  </tbody>\n</table>\n</div>"
     },
     "metadata": {},
     "execution_count": 2
    }
   ],
   "source": [
    "df_movies = pd.read_csv('datasets/movies_amostra.csv')\n",
    "df_movies.sample(2, random_state=1)"
   ]
  },
  {
   "cell_type": "markdown",
   "metadata": {},
   "source": [
    "## Modificações no DF"
   ]
  },
  {
   "cell_type": "code",
   "execution_count": 3,
   "metadata": {
    "tags": []
   },
   "outputs": [],
   "source": [
    "from typing import Tuple, Dict \n",
    "from datetime import datetime\n",
    "from sklearn import preprocessing, compose\n",
    "\n",
    "def adjust_df_treino(df: pd.DataFrame) -> Tuple[pd.DataFrame, Dict[str, object]]:\n",
    "    df_copy = df.copy()\n",
    "\n",
    "    bins = {}\n",
    "\n",
    "    # Ajustes\n",
    "\n",
    "    idioma_encoder = None\n",
    "    # idioma_encoder = preprocessing.OneHotEncoder(handle_unknown=\"ignore\", sparse=False)\n",
    "\n",
    "    # idioma_encoder.fit(df_copy[[\"idioma_original\"]].dropna())\n",
    "    # oh_idiomas = pd.DataFrame(idioma_encoder.transform(df_copy[[\"idioma_original\"]].fillna('unknown')), columns=idioma_encoder.get_feature_names([\"idioma\"]))\n",
    "    # df_copy = df_copy.drop(columns=\"idioma_original\")\n",
    "\n",
    "    # df_copy = pd.concat([df_copy, oh_idiomas], axis=1)\n",
    "    \n",
    "    # Discretizações\n",
    "\n",
    "    ## Talvez discretizar a popularidade não seja a melhor approach\n",
    "\n",
    "    df_copy.orcamento, bins['orcamento'] = pd.cut(df_copy.orcamento, 30, retbins=True)\n",
    "    df_copy.popularidade, bins['popularidade'] = pd.cut(df_copy.popularidade, 30, retbins=True)\n",
    "    df_copy.receita, bins['receita'] = pd.cut(df_copy.receita, 30, retbins=True)\n",
    "    df_copy.duracao, bins['duracao'] = pd.cut(df_copy.duracao, 30, retbins=True)\n",
    "\n",
    "\n",
    "    # Separação do ano\n",
    "\n",
    "    # df_copy.ano = pd.to_numeric(df_movies.data_de_estreia.str.extract(r'^(\\d{4})-.+$').iloc[:, 0])\n",
    "\n",
    "    # Remoção de colunas\n",
    "\n",
    "    ## Remoção da história original\n",
    "    ## Remoção da data de estreia (o ano deve funcionar melhor)\n",
    "\n",
    "    # df_copy = df_copy.drop(columns=[\"data_de_estreia\", \"historia_original\"])\n",
    "\n",
    "    \n",
    "    # limit = df_movies.genero.value_counts().min()\n",
    "\n",
    "    # df_copy = pd.concat([\n",
    "    #     df_copy.query('genero==\"Comedy\"').sample(limit, random_state=1), \n",
    "    #     df_copy.query('genero==\"Action\"').sample(limit, random_state=1)\n",
    "    # ])\n",
    "    \n",
    "    parameters = {\n",
    "        'bins': bins,\n",
    "        'idioma_encoder': idioma_encoder\n",
    "    }\n",
    "\n",
    "    return df_copy, parameters"
   ]
  },
  {
   "cell_type": "code",
   "execution_count": 4,
   "metadata": {},
   "outputs": [],
   "source": [
    "def adjust_df(df: pd.DataFrame, parameters: Dict[str, object]) -> pd.DataFrame:\n",
    "    df_copy = df.copy()\n",
    "\n",
    "    idioma_encoder = parameters['idioma_encoder']\n",
    "\n",
    "    oh_idiomas = pd.DataFrame(idioma_encoder.transform(df_copy[[\"idioma_original\"]].fillna('unknown')), columns=idioma_encoder.get_feature_names([\"idioma\"]))\n",
    "    df_copy = df_copy.drop(columns=\"idioma_original\")\n",
    "\n",
    "    df_copy = pd.concat([df_copy, oh_idiomas], axis=1)\n",
    "    \n",
    "\n",
    "    # Discretizações\n",
    "\n",
    "    ## Talvez discretizar a popularidade não seja a melhor approach\n",
    "\n",
    "    df_copy.orcamento = pd.cut(df_copy.orcamento, parameters['bins']['orcamento'])\n",
    "    df_copy.popularidade = pd.cut(df_copy.popularidade, parameters['bins']['popularidade'])\n",
    "    df_copy.receita = pd.cut(df_copy.receita, parameters['bins']['receita'])\n",
    "    df_copy.duracao = pd.cut(df_copy.duracao, parameters['bins']['duracao'])\n",
    "\n",
    "    # Separação do ano\n",
    "\n",
    "    df_copy.ano = pd.to_numeric(df_movies.data_de_estreia.str.extract(r'^(\\d{4})-.+$').iloc[:, 0])\n",
    "\n",
    "    # Remoção de colunas\n",
    "\n",
    "    ## Remoção da história original\n",
    "    ## Remoção da data de estreia (o ano deve funcionar melhor)\n",
    "\n",
    "    df_copy = df_copy.drop(columns=[\"data_de_estreia\", \"historia_original\"])\n",
    "\n",
    "    return df_copy"
   ]
  },
  {
   "cell_type": "code",
   "execution_count": 5,
   "metadata": {},
   "outputs": [
    {
     "output_type": "execute_result",
     "data": {
      "text/plain": "          id          titulo  adulto               orcamento idioma_original  \\\n1291   71910  Sitting Target   False  (-270000.0, 9000000.0]              en   \n595   163590  Metal Brothers   False  (-270000.0, 9000000.0]              sv   \n\n         popularidade data_de_estreia  \\\n1291  (-0.224, 7.467]      1972-06-19   \n595   (-0.224, 7.467]      2012-12-24   \n\n                                                 resumo  \\\n1291  Imprisoned Harry Lomart is a vicious, brute of...   \n595   Bröderna Hårdrock is a film about two brothers...   \n\n                         receita        duracao  genero       ator_1  \\\n1291  (-1118888.979, 37296299.3]   (70.5, 94.0]  Action  Oliver Reed   \n595   (-1118888.979, 37296299.3]  (94.0, 117.5]  Comedy  Lotta Tejle   \n\n             ator_2         ator_3           ator_4         ator_5  \\\n1291  Jill St. John    Ian McShane  Edward Woodward   Frank Finlay   \n595   Johan Östling  Björn Starrin  Kjell Bergqvist  Mia Skäringer   \n\n        dirigido_por escrito_por_1 escrito_por_2 historia_original  \n1291  Douglas Hickox           NaN           NaN               NaN  \n595      Ulf Malmros   Ulf Malmros           NaN               NaN  ",
      "text/html": "<div>\n<style scoped>\n    .dataframe tbody tr th:only-of-type {\n        vertical-align: middle;\n    }\n\n    .dataframe tbody tr th {\n        vertical-align: top;\n    }\n\n    .dataframe thead th {\n        text-align: right;\n    }\n</style>\n<table border=\"1\" class=\"dataframe\">\n  <thead>\n    <tr style=\"text-align: right;\">\n      <th></th>\n      <th>id</th>\n      <th>titulo</th>\n      <th>adulto</th>\n      <th>orcamento</th>\n      <th>idioma_original</th>\n      <th>popularidade</th>\n      <th>data_de_estreia</th>\n      <th>resumo</th>\n      <th>receita</th>\n      <th>duracao</th>\n      <th>genero</th>\n      <th>ator_1</th>\n      <th>ator_2</th>\n      <th>ator_3</th>\n      <th>ator_4</th>\n      <th>ator_5</th>\n      <th>dirigido_por</th>\n      <th>escrito_por_1</th>\n      <th>escrito_por_2</th>\n      <th>historia_original</th>\n    </tr>\n  </thead>\n  <tbody>\n    <tr>\n      <th>1291</th>\n      <td>71910</td>\n      <td>Sitting Target</td>\n      <td>False</td>\n      <td>(-270000.0, 9000000.0]</td>\n      <td>en</td>\n      <td>(-0.224, 7.467]</td>\n      <td>1972-06-19</td>\n      <td>Imprisoned Harry Lomart is a vicious, brute of...</td>\n      <td>(-1118888.979, 37296299.3]</td>\n      <td>(70.5, 94.0]</td>\n      <td>Action</td>\n      <td>Oliver Reed</td>\n      <td>Jill St. John</td>\n      <td>Ian McShane</td>\n      <td>Edward Woodward</td>\n      <td>Frank Finlay</td>\n      <td>Douglas Hickox</td>\n      <td>NaN</td>\n      <td>NaN</td>\n      <td>NaN</td>\n    </tr>\n    <tr>\n      <th>595</th>\n      <td>163590</td>\n      <td>Metal Brothers</td>\n      <td>False</td>\n      <td>(-270000.0, 9000000.0]</td>\n      <td>sv</td>\n      <td>(-0.224, 7.467]</td>\n      <td>2012-12-24</td>\n      <td>Bröderna Hårdrock is a film about two brothers...</td>\n      <td>(-1118888.979, 37296299.3]</td>\n      <td>(94.0, 117.5]</td>\n      <td>Comedy</td>\n      <td>Lotta Tejle</td>\n      <td>Johan Östling</td>\n      <td>Björn Starrin</td>\n      <td>Kjell Bergqvist</td>\n      <td>Mia Skäringer</td>\n      <td>Ulf Malmros</td>\n      <td>Ulf Malmros</td>\n      <td>NaN</td>\n      <td>NaN</td>\n    </tr>\n  </tbody>\n</table>\n</div>"
     },
     "metadata": {},
     "execution_count": 5
    }
   ],
   "source": [
    "df_movies_adj, adj_parameters = adjust_df_treino(df_movies)\n",
    "\n",
    "df_movies_adj.sample(2, random_state=2)"
   ]
  },
  {
   "cell_type": "code",
   "execution_count": 6,
   "metadata": {
    "tags": []
   },
   "outputs": [
    {
     "output_type": "stream",
     "name": "stdout",
     "text": "0/1800\n1000/1800\n0/600\n0/1800\n1000/1800\n0/600\n0/1800\n1000/1800\n0/600\n0/1800\n1000/1800\n0/600\n[I 2020-08-19 15:34:56,785] Finished trial#0 with value: 0.6412301619682137 with parameters: {'min_samples_split': 2.919154032918018}. Best is trial#0 with value: 0.6412301619682137.\n0/1800\n1000/1800\n0/600\n0/1800\n1000/1800\n0/600\n0/1800\n1000/1800\n0/600\n0/1800\n1000/1800\n0/600\n[I 2020-08-19 15:36:19,294] Finished trial#1 with value: 0.6418117185504726 with parameters: {'min_samples_split': 5.042271454095107}. Best is trial#1 with value: 0.6418117185504726.\n0/2400\n1000/2400\n2000/2400\n0/600\n0.6595961228342233\n0/1800\n1000/1800\n0/600\n0/1800\n1000/1800\n0/600\n0/1800\n1000/1800\n0/600\n0/1800\n1000/1800\n0/600\n[I 2020-08-19 15:38:09,076] Finished trial#0 with value: 0.5883676781098452 with parameters: {'min_samples_split': 0.0008006237214142065}. Best is trial#0 with value: 0.5883676781098452.\n0/1800\n1000/1800\n0/600\n0/1800\n1000/1800\n0/600\n0/1800\n1000/1800\n0/600\n0/1800\n1000/1800\n0/600\n[I 2020-08-19 15:39:35,021] Finished trial#1 with value: 0.568304601964621 with parameters: {'min_samples_split': 2.1163280084228786}. Best is trial#0 with value: 0.5883676781098452.\n0/2400\n1000/2400\n2000/2400\n0/600\n0.6484844747309673\n0/1800\n1000/1800\n0/600\n0/1800\n1000/1800\n0/600\n0/1800\n1000/1800\n0/600\n0/1800\n1000/1800\n0/600\n[I 2020-08-19 15:41:24,553] Finished trial#0 with value: 0.6964916614766021 with parameters: {'min_samples_split': 1.0272912357197912}. Best is trial#0 with value: 0.6964916614766021.\n0/1800\n1000/1800\n0/600\n0/1800\n1000/1800\n0/600\n0/1800\n1000/1800\n0/600\n0/1800\n1000/1800\n0/600\n[I 2020-08-19 15:42:45,262] Finished trial#1 with value: 0.6216405992154296 with parameters: {'min_samples_split': 0.6463701633815846}. Best is trial#0 with value: 0.6964916614766021.\n0/2400\n1000/2400\n2000/2400\n0/600\n0.7584541062801933\n0/1800\n1000/1800\n0/600\n0/1800\n1000/1800\n0/600\n0/1800\n1000/1800\n0/600\n0/1800\n1000/1800\n0/600\n[I 2020-08-19 15:44:35,085] Finished trial#0 with value: 0.5780783247946302 with parameters: {'min_samples_split': 1.3038214796436964}. Best is trial#0 with value: 0.5780783247946302.\n0/1800\n1000/1800\n0/600\n0/1800\n1000/1800\n0/600\n0/1800\n1000/1800\n0/600\n0/1800\n1000/1800\n0/600\n[I 2020-08-19 15:45:58,729] Finished trial#1 with value: 0.5782546084579636 with parameters: {'min_samples_split': 2.418925089301334}. Best is trial#1 with value: 0.5782546084579636.\n0/2400\n1000/2400\n2000/2400\n0/600\n0.7596454289367676\n0/1800\n1000/1800\n0/600\n0/1800\n1000/1800\n0/600\n0/1800\n1000/1800\n0/600\n0/1800\n1000/1800\n0/600\n[I 2020-08-19 15:47:48,638] Finished trial#0 with value: 0.6069904764109093 with parameters: {'min_samples_split': 2.7773723196146896}. Best is trial#0 with value: 0.6069904764109093.\n0/1800\n1000/1800\n0/600\n0/1800\n1000/1800\n0/600\n0/1800\n1000/1800\n0/600\n0/1800\n1000/1800\n0/600\n[I 2020-08-19 15:49:12,917] Finished trial#1 with value: 0.6073568684637682 with parameters: {'min_samples_split': 3.7717171380234986}. Best is trial#1 with value: 0.6073568684637682.\n0/2400\n1000/2400\n2000/2400\n0/600\n0.5515611278237635\nMACRO F1: 0.675548252121183\n"
    }
   ],
   "source": [
    "from base_am.resultado import Fold\n",
    "from base_am.avaliacao import Experimento\n",
    "from competicao_am.metodo_competicao import MetodoCompeticao\n",
    "from competicao_am.avaliacao_competicao import OtimizacaoObjetivoSVMCompeticao\n",
    "from sklearn.svm import LinearSVC\n",
    "import pandas as pd\n",
    "\n",
    "arr_folds = Fold.gerar_k_folds(df_movies_adj, val_k=5, col_classe=\"genero\",\n",
    "                            num_repeticoes=1, num_folds_validacao=4,num_repeticoes_validacao=1)\n",
    "scikit_method = LinearSVC(random_state=2)\n",
    "\n",
    "ml_method = MetodoCompeticao(scikit_method)\n",
    "\n",
    "ClasseObjetivo = OtimizacaoObjetivoSVMCompeticao\n",
    "experimento = Experimento(arr_folds, ml_method=ml_method,\n",
    "                    ClasseObjetivoOtimizacao=ClasseObjetivo,\n",
    "                    num_trials=2)\n",
    "\n",
    "print(f\"MACRO F1: {experimento.macro_f1_avg}\")"
   ]
  },
  {
   "cell_type": "code",
   "execution_count": 8,
   "metadata": {
    "tags": []
   },
   "outputs": [
    {
     "output_type": "stream",
     "name": "stdout",
     "text": "0/1800\n1000/1800\n0/600\n0/1800\n1000/1800\n0/600\n0/1800\n1000/1800\n0/600\n0/1800\n1000/1800\n0/600\n[I 2020-08-19 16:01:01,707] Finished trial#0 with value: 0.6418117185504726 with parameters: {'min_samples_split': 5.605211980728757}. Best is trial#0 with value: 0.6418117185504726.\n0/1800\n1000/1800\n0/600\n0/1800\n1000/1800\n0/600\n0/1800\n1000/1800\n0/600\n0/1800\n1000/1800\n0/600\n[I 2020-08-19 16:02:26,878] Finished trial#1 with value: 0.6425031398822847 with parameters: {'min_samples_split': 6.777831030035783}. Best is trial#1 with value: 0.6425031398822847.\n0/2400\n1000/2400\n2000/2400\n0/600\n0.6581501668062439\n0/1800\n1000/1800\n0/600\n0/1800\n1000/1800\n0/600\n0/1800\n1000/1800\n0/600\n0/1800\n1000/1800\n0/600\n[I 2020-08-19 16:04:17,450] Finished trial#0 with value: 0.568304601964621 with parameters: {'min_samples_split': 2.1939692471147}. Best is trial#0 with value: 0.568304601964621.\n0/1800\n1000/1800\n0/600\n0/1800\n1000/1800\n0/600\n0/1800\n1000/1800\n0/600\n0/1800\n1000/1800\n0/600\n[I 2020-08-19 16:05:41,567] Finished trial#1 with value: 0.5656917721922922 with parameters: {'min_samples_split': 4.846258309685199}. Best is trial#0 with value: 0.568304601964621.\n0/2400\n1000/2400\n2000/2400\n0/600\n0.6545442913949204\n0/1800\n1000/1800\n0/600\n0/1800\n1000/1800\n0/600\n0/1800\n1000/1800\n0/600\n0/1800\n1000/1800\n0/600\n[I 2020-08-19 16:07:32,446] Finished trial#0 with value: 0.695052349482228 with parameters: {'min_samples_split': 6.134724066072268}. Best is trial#0 with value: 0.695052349482228.\n0/1800\n1000/1800\n0/600\n0/1800\n1000/1800\n0/600\n0/1800\n1000/1800\n0/600\n0/1800\n1000/1800\n0/600\n[I 2020-08-19 16:08:56,418] Finished trial#1 with value: 0.6945036871783636 with parameters: {'min_samples_split': 6.262246644526932}. Best is trial#0 with value: 0.695052349482228.\n0/2400\n1000/2400\n2000/2400\n0/600\n0.7481084095257324\n0/1800\n1000/1800\n0/600\n0/1800\n1000/1800\n0/600\n0/1800\n1000/1800\n0/600\n0/1800\n1000/1800\n0/600\n[I 2020-08-19 16:10:46,615] Finished trial#0 with value: 0.5791138076627624 with parameters: {'min_samples_split': 0.5953094795884454}. Best is trial#0 with value: 0.5791138076627624.\n0/1800\n1000/1800\n0/600\n0/1800\n1000/1800\n0/600\n0/1800\n1000/1800\n0/600\n0/1800\n1000/1800\n0/600\n[I 2020-08-19 16:12:09,697] Finished trial#1 with value: 0.6732218353025075 with parameters: {'min_samples_split': 0.27338348263017653}. Best is trial#1 with value: 0.6732218353025075.\n0/2400\n1000/2400\n2000/2400\n0/600\n0.7814813501745248\n0/1800\n1000/1800\n0/600\n0/1800\n1000/1800\n0/600\n0/1800\n1000/1800\n0/600\n0/1800\n1000/1800\n0/600\n[I 2020-08-19 16:13:59,712] Finished trial#0 with value: 0.5352772019176866 with parameters: {'min_samples_split': 1.1888129369519822}. Best is trial#0 with value: 0.5352772019176866.\n0/1800\n1000/1800\n0/600\n0/1800\n1000/1800\n0/600\n0/1800\n1000/1800\n0/600\n0/1800\n1000/1800\n0/600\n[I 2020-08-19 16:15:29,540] Finished trial#1 with value: 0.6069778305150603 with parameters: {'min_samples_split': 6.146997524005892}. Best is trial#1 with value: 0.6069778305150603.\n0/2400\n1000/2400\n2000/2400\n0/600\n0.5515611278237635\nMACRO F1: 0.678769069145037\n"
    }
   ],
   "source": [
    "from base_am.resultado import Fold\n",
    "from base_am.avaliacao import Experimento\n",
    "from competicao_am.metodo_competicao import MetodoCompeticao\n",
    "from competicao_am.avaliacao_competicao import OtimizacaoObjetivoSVMCompeticao\n",
    "from sklearn.svm import LinearSVC\n",
    "import pandas as pd\n",
    "\n",
    "arr_folds = Fold.gerar_k_folds(df_movies_adj, val_k=5, col_classe=\"genero\",\n",
    "                            num_repeticoes=1, num_folds_validacao=4,num_repeticoes_validacao=1)\n",
    "scikit_method = LinearSVC(random_state=2)\n",
    "\n",
    "ml_method = MetodoCompeticao(scikit_method)\n",
    "\n",
    "ClasseObjetivo = OtimizacaoObjetivoSVMCompeticao\n",
    "experimento = Experimento(arr_folds, ml_method=ml_method,\n",
    "                    ClasseObjetivoOtimizacao=ClasseObjetivo,\n",
    "                    num_trials=2)\n",
    "\n",
    "print(f\"MACRO F1: {experimento.macro_f1_avg}\")"
   ]
  },
  {
   "cell_type": "code",
   "execution_count": 9,
   "metadata": {
    "tags": []
   },
   "outputs": [
    {
     "output_type": "stream",
     "name": "stdout",
     "text": "0/1800\n1000/1800\n0/600\n0/1800\n1000/1800\n0/600\n0/1800\n1000/1800\n0/600\n0/1800\n1000/1800\n0/600\n[I 2020-08-19 16:27:12,051] Finished trial#0 with value: 0.6445736810072953 with parameters: {'min_samples_split': 0.6884278368313507}. Best is trial#0 with value: 0.6445736810072953.\n0/1800\n1000/1800\n0/600\n0/1800\n1000/1800\n0/600\n0/1800\n1000/1800\n0/600\n0/1800\n1000/1800\n0/600\n[I 2020-08-19 16:28:38,206] Finished trial#1 with value: 0.6412301619682137 with parameters: {'min_samples_split': 2.947753375035365}. Best is trial#0 with value: 0.6445736810072953.\n0/2400\n1000/2400\n2000/2400\n0/600\n0.6614420062695925\n0/1800\n1000/1800\n0/600\n0/1800\n1000/1800\n0/600\n0/1800\n1000/1800\n0/600\n0/1800\n1000/1800\n0/600\n[I 2020-08-19 16:30:28,563] Finished trial#0 with value: 0.564875261429319 with parameters: {'min_samples_split': 6.7052267110535135}. Best is trial#0 with value: 0.564875261429319.\n0/1800\n1000/1800\n0/600\n0/1800\n1000/1800\n0/600\n0/1800\n1000/1800\n0/600\n0/1800\n1000/1800\n0/600\n[I 2020-08-19 16:31:52,503] Finished trial#1 with value: 0.5665116536976389 with parameters: {'min_samples_split': 3.7321569948111195}. Best is trial#1 with value: 0.5665116536976389.\n0/2400\n1000/2400\n2000/2400\n0/600\n0.6516766834788036\n0/1800\n1000/1800\n0/600\n0/1800\n1000/1800\n0/600\n0/1800\n1000/1800\n0/600\n0/1800\n1000/1800\n0/600\n[I 2020-08-19 16:33:42,176] Finished trial#0 with value: 0.6971451021357258 with parameters: {'min_samples_split': 4.843139797653313}. Best is trial#0 with value: 0.6971451021357258.\n0/1800\n1000/1800\n0/600\n0/1800\n1000/1800\n0/600\n0/1800\n1000/1800\n0/600\n0/1800\n1000/1800\n0/600\n[I 2020-08-19 16:35:07,498] Finished trial#1 with value: 0.6958854407719071 with parameters: {'min_samples_split': 2.2086094170424406}. Best is trial#0 with value: 0.6971451021357258.\n0/2400\n1000/2400\n2000/2400\n0/600\n0.7481084095257324\n0/1800\n1000/1800\n0/600\n0/1800\n1000/1800\n0/600\n0/1800\n1000/1800\n0/600\n0/1800\n1000/1800\n0/600\n[I 2020-08-19 16:37:01,816] Finished trial#0 with value: 0.5756686729927016 with parameters: {'min_samples_split': 4.805506493771086}. Best is trial#0 with value: 0.5756686729927016.\n0/1800\n1000/1800\n0/600\n0/1800\n1000/1800\n0/600\n0/1800\n1000/1800\n0/600\n0/1800\n1000/1800\n0/600\n[I 2020-08-19 16:38:26,891] Finished trial#1 with value: 0.5762606579639143 with parameters: {'min_samples_split': 5.84237970328161}. Best is trial#1 with value: 0.5762606579639143.\n0/2400\n1000/2400\n2000/2400\n0/600\n0.753326428173054\n0/1800\n1000/1800\n0/600\n0/1800\n1000/1800\n0/600\n0/1800\n1000/1800\n0/600\n0/1800\n1000/1800\n0/600\n[I 2020-08-19 16:40:22,040] Finished trial#0 with value: 0.6579413887735617 with parameters: {'min_samples_split': 0.12801794140934264}. Best is trial#0 with value: 0.6579413887735617.\n0/1800\n1000/1800\n0/600\n0/1800\n1000/1800\n0/600\n0/1800\n1000/1800\n0/600\n0/1800\n1000/1800\n0/600\n[I 2020-08-19 16:41:49,629] Finished trial#1 with value: 0.6090385779741054 with parameters: {'min_samples_split': 5.251010204614772}. Best is trial#0 with value: 0.6579413887735617.\n0/2400\n1000/2400\n2000/2400\n0/600\n0.5495218982410578\nMACRO F1: 0.672815085137648\n"
    }
   ],
   "source": [
    "from base_am.resultado import Fold\n",
    "from base_am.avaliacao import Experimento\n",
    "from competicao_am.metodo_competicao import MetodoCompeticao\n",
    "from competicao_am.avaliacao_competicao import OtimizacaoObjetivoSVMCompeticao\n",
    "from sklearn.svm import LinearSVC\n",
    "import pandas as pd\n",
    "\n",
    "arr_folds = Fold.gerar_k_folds(df_movies_adj, val_k=5, col_classe=\"genero\",\n",
    "                            num_repeticoes=1, num_folds_validacao=4,num_repeticoes_validacao=1)\n",
    "scikit_method = LinearSVC(random_state=2)\n",
    "\n",
    "ml_method = MetodoCompeticao(scikit_method)\n",
    "\n",
    "ClasseObjetivo = OtimizacaoObjetivoSVMCompeticao\n",
    "experimento = Experimento(arr_folds, ml_method=ml_method,\n",
    "                    ClasseObjetivoOtimizacao=ClasseObjetivo,\n",
    "                    num_trials=2)\n",
    "\n",
    "print(f\"MACRO F1: {experimento.macro_f1_avg}\")"
   ]
  },
  {
   "cell_type": "code",
   "execution_count": null,
   "metadata": {},
   "outputs": [],
   "source": []
  }
 ]
}