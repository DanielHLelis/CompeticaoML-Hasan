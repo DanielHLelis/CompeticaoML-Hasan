{
 "metadata": {
  "language_info": {
   "codemirror_mode": {
    "name": "ipython",
    "version": 3
   },
   "file_extension": ".py",
   "mimetype": "text/x-python",
   "name": "python",
   "nbconvert_exporter": "python",
   "pygments_lexer": "ipython3",
   "version": "3.6.10-final"
  },
  "orig_nbformat": 2,
  "kernelspec": {
   "name": "python_defaultSpec_1598484092550",
   "display_name": "Python 3.6.10 64-bit ('hasan': conda)"
  }
 },
 "nbformat": 4,
 "nbformat_minor": 2,
 "cells": [
  {
   "cell_type": "markdown",
   "metadata": {},
   "source": [
    "## Membros\n",
    "\n",
    "- Amanda Oliveira\n",
    "- Daniel Henrique\n",
    "- Samuel Pedro\n",
    "\n",
    "## Resumo\n",
    "\n",
    "### Parâmetros\n",
    "\n",
    "Será usado um kernel `rbf` em um kernel SVC. O `C` será otimizado pelo Optuna a fim de obter um resultado melhor. O `gamma` foi deixado no valor padrão que é `scale`, a fórmula referente a esse valor está disponível na documentação do scikit-learn.\n",
    "\n",
    "### Representação adotada\n",
    "\n",
    "A representação adotada foi escalar os valores númericos com um scaler do sklearn (no momento, um RobustScaler). Criar uma bag of words a partir do resumo. Criar uma bag of items com o elenco. Extrair o ano da data de estreia. E, por fim, descartar a história original e o titulo por não serem tão relevantes para os resultados. A coluna \"adulo\" foi deixada mesmo estando distribuida de maneira extremamente desuniforme, assumindo-se que o modelo irá incorporá-la melhor caso ela seja distribuída mais uniformemente.\n",
    "\n",
    "Porém, o resultado mais efeitvo usa apenas a bag of words e a bag of items, descartando os demais fatores. Isso provavelmente está relacionado com a grande ausência de informações (NaNs) dos demais parâmetros.\n",
    "\n",
    "### Método adotado\n",
    "\n",
    "O método adotado foi um classificador SVC com um kernel `rbf`, já que sua acurácia se mostrou maior que o `linear`. O kernel `poly` não foi testado por falta de tempo, mas espera-se que ele seja menos preciso em grais baixos ou consideravelmente mais lento em grais altos. \n",
    "\n",
    "Os resultados do método Random Forest são lvemente inferiores, mas conseguem incorporar mais informações para a predição."
   ]
  },
  {
   "cell_type": "code",
   "execution_count": 1,
   "metadata": {},
   "outputs": [],
   "source": [
    "import pandas as pd\n",
    "import numpy as np\n",
    "from competicao_am.gerar_resultado_teste import gerar_saida_teste"
   ]
  },
  {
   "cell_type": "code",
   "execution_count": 2,
   "metadata": {},
   "outputs": [
    {
     "output_type": "execute_result",
     "data": {
      "text/plain": "       id                         titulo  adulto  orcamento idioma_original  \\\n0   86295  Treasure of the Yankee Zephyr   False          0              en   \n1  289198                       Redeemer   False          0              es   \n2   24382     Big Deal on Madonna Street   False          0              it   \n3     479                          Shaft   False   46000000              en   \n4   37712                   Pistol Opera   False          0              ja   \n\n   popularidade data_de_estreia  \\\n0           2.0      1981-11-28   \n1           2.0      2014-09-18   \n2          11.0      1958-06-06   \n3          13.0      2000-06-15   \n4           2.0      2001-10-27   \n\n                                              resumo      receita  duracao  \\\n0  In a lake high in the mountains of New Zealand...          0.0    108.0   \n1  A former hit-man for a drug cartel becomes a v...          0.0     88.0   \n2  Peppe, formerly a boxer, organizes the break-i...          0.0    106.0   \n3  New York police detective John Shaft arrests W...  107196498.0     99.0   \n4  As one of Suzuki's last fims, it is related to...          0.0    112.0   \n\n   genero             ator_1             ator_2             ator_3  \\\n0  Action           Ken Wahl  Lesley Ann Warren   Donald Pleasence   \n1  Action        Marko Zaror     Loreto Aravena  Mauricio Diocares   \n2  Comedy   Vittorio Gassman   Renato Salvatori   Memmo Carotenuto   \n3  Action  Samuel L. Jackson     Jeffrey Wright     Christian Bale   \n4  Action       Makiko Esumi   Sayoko Yamaguchi          Hanae Kan   \n\n             ator_4          ator_5           dirigido_por     escrito_por_1  \\\n0    George Peppard  Bruno Lawrence         David Hemmings  Everett De Roche   \n1   José Luís Mósca      Noah Segan  Ernesto Díaz Espinoza               NaN   \n2      Rossana Rory   Carla Gravina        Mario Monicelli  Agenore Incrocci   \n3      Busta Rhymes      Dan Hedaya         John Singleton               NaN   \n4  Masatoshi Nagase   Mikijiro Hira          Seijun Suzuki      Kazunori Ito   \n\n     escrito_por_2 historia_original  \n0              NaN               NaN  \n1              NaN               NaN  \n2  Furio Scarpelli               NaN  \n3              NaN               NaN  \n4              NaN               NaN  ",
      "text/html": "<div>\n<style scoped>\n    .dataframe tbody tr th:only-of-type {\n        vertical-align: middle;\n    }\n\n    .dataframe tbody tr th {\n        vertical-align: top;\n    }\n\n    .dataframe thead th {\n        text-align: right;\n    }\n</style>\n<table border=\"1\" class=\"dataframe\">\n  <thead>\n    <tr style=\"text-align: right;\">\n      <th></th>\n      <th>id</th>\n      <th>titulo</th>\n      <th>adulto</th>\n      <th>orcamento</th>\n      <th>idioma_original</th>\n      <th>popularidade</th>\n      <th>data_de_estreia</th>\n      <th>resumo</th>\n      <th>receita</th>\n      <th>duracao</th>\n      <th>genero</th>\n      <th>ator_1</th>\n      <th>ator_2</th>\n      <th>ator_3</th>\n      <th>ator_4</th>\n      <th>ator_5</th>\n      <th>dirigido_por</th>\n      <th>escrito_por_1</th>\n      <th>escrito_por_2</th>\n      <th>historia_original</th>\n    </tr>\n  </thead>\n  <tbody>\n    <tr>\n      <th>0</th>\n      <td>86295</td>\n      <td>Treasure of the Yankee Zephyr</td>\n      <td>False</td>\n      <td>0</td>\n      <td>en</td>\n      <td>2.0</td>\n      <td>1981-11-28</td>\n      <td>In a lake high in the mountains of New Zealand...</td>\n      <td>0.0</td>\n      <td>108.0</td>\n      <td>Action</td>\n      <td>Ken Wahl</td>\n      <td>Lesley Ann Warren</td>\n      <td>Donald Pleasence</td>\n      <td>George Peppard</td>\n      <td>Bruno Lawrence</td>\n      <td>David Hemmings</td>\n      <td>Everett De Roche</td>\n      <td>NaN</td>\n      <td>NaN</td>\n    </tr>\n    <tr>\n      <th>1</th>\n      <td>289198</td>\n      <td>Redeemer</td>\n      <td>False</td>\n      <td>0</td>\n      <td>es</td>\n      <td>2.0</td>\n      <td>2014-09-18</td>\n      <td>A former hit-man for a drug cartel becomes a v...</td>\n      <td>0.0</td>\n      <td>88.0</td>\n      <td>Action</td>\n      <td>Marko Zaror</td>\n      <td>Loreto Aravena</td>\n      <td>Mauricio Diocares</td>\n      <td>José Luís Mósca</td>\n      <td>Noah Segan</td>\n      <td>Ernesto Díaz Espinoza</td>\n      <td>NaN</td>\n      <td>NaN</td>\n      <td>NaN</td>\n    </tr>\n    <tr>\n      <th>2</th>\n      <td>24382</td>\n      <td>Big Deal on Madonna Street</td>\n      <td>False</td>\n      <td>0</td>\n      <td>it</td>\n      <td>11.0</td>\n      <td>1958-06-06</td>\n      <td>Peppe, formerly a boxer, organizes the break-i...</td>\n      <td>0.0</td>\n      <td>106.0</td>\n      <td>Comedy</td>\n      <td>Vittorio Gassman</td>\n      <td>Renato Salvatori</td>\n      <td>Memmo Carotenuto</td>\n      <td>Rossana Rory</td>\n      <td>Carla Gravina</td>\n      <td>Mario Monicelli</td>\n      <td>Agenore Incrocci</td>\n      <td>Furio Scarpelli</td>\n      <td>NaN</td>\n    </tr>\n    <tr>\n      <th>3</th>\n      <td>479</td>\n      <td>Shaft</td>\n      <td>False</td>\n      <td>46000000</td>\n      <td>en</td>\n      <td>13.0</td>\n      <td>2000-06-15</td>\n      <td>New York police detective John Shaft arrests W...</td>\n      <td>107196498.0</td>\n      <td>99.0</td>\n      <td>Action</td>\n      <td>Samuel L. Jackson</td>\n      <td>Jeffrey Wright</td>\n      <td>Christian Bale</td>\n      <td>Busta Rhymes</td>\n      <td>Dan Hedaya</td>\n      <td>John Singleton</td>\n      <td>NaN</td>\n      <td>NaN</td>\n      <td>NaN</td>\n    </tr>\n    <tr>\n      <th>4</th>\n      <td>37712</td>\n      <td>Pistol Opera</td>\n      <td>False</td>\n      <td>0</td>\n      <td>ja</td>\n      <td>2.0</td>\n      <td>2001-10-27</td>\n      <td>As one of Suzuki's last fims, it is related to...</td>\n      <td>0.0</td>\n      <td>112.0</td>\n      <td>Action</td>\n      <td>Makiko Esumi</td>\n      <td>Sayoko Yamaguchi</td>\n      <td>Hanae Kan</td>\n      <td>Masatoshi Nagase</td>\n      <td>Mikijiro Hira</td>\n      <td>Seijun Suzuki</td>\n      <td>Kazunori Ito</td>\n      <td>NaN</td>\n      <td>NaN</td>\n    </tr>\n  </tbody>\n</table>\n</div>"
     },
     "metadata": {},
     "execution_count": 2
    }
   ],
   "source": [
    "df_treino = pd.read_csv('datasets/movies_amostra.csv')\n",
    "df_predict = pd.read_csv('datasets/movies_amostra_teste_ex.csv')\n",
    "\n",
    "df_treino.head()"
   ]
  },
  {
   "cell_type": "code",
   "execution_count": 3,
   "metadata": {
    "tags": []
   },
   "outputs": [
    {
     "output_type": "stream",
     "name": "stdout",
     "text": "0/100\n0/100\n"
    },
    {
     "output_type": "display_data",
     "data": {
      "text/plain": "      adulto  orcamento  popularidade   receita   duracao\n1306   False  -0.267992      0.942036 -0.198952  0.237567\n2037   False  -0.299113     -0.483328 -0.244053  0.102586\n568    False  -0.299113     -0.612907 -0.244053  0.946219\n1897   False  -0.299113     -0.612907 -0.244053 -0.268613\n2498   False  -0.299113     -0.353750 -0.244053 -2.968238",
      "text/html": "<div>\n<style scoped>\n    .dataframe tbody tr th:only-of-type {\n        vertical-align: middle;\n    }\n\n    .dataframe tbody tr th {\n        vertical-align: top;\n    }\n\n    .dataframe thead th {\n        text-align: right;\n    }\n</style>\n<table border=\"1\" class=\"dataframe\">\n  <thead>\n    <tr style=\"text-align: right;\">\n      <th></th>\n      <th>adulto</th>\n      <th>orcamento</th>\n      <th>popularidade</th>\n      <th>receita</th>\n      <th>duracao</th>\n    </tr>\n  </thead>\n  <tbody>\n    <tr>\n      <th>1306</th>\n      <td>False</td>\n      <td>-0.267992</td>\n      <td>0.942036</td>\n      <td>-0.198952</td>\n      <td>0.237567</td>\n    </tr>\n    <tr>\n      <th>2037</th>\n      <td>False</td>\n      <td>-0.299113</td>\n      <td>-0.483328</td>\n      <td>-0.244053</td>\n      <td>0.102586</td>\n    </tr>\n    <tr>\n      <th>568</th>\n      <td>False</td>\n      <td>-0.299113</td>\n      <td>-0.612907</td>\n      <td>-0.244053</td>\n      <td>0.946219</td>\n    </tr>\n    <tr>\n      <th>1897</th>\n      <td>False</td>\n      <td>-0.299113</td>\n      <td>-0.612907</td>\n      <td>-0.244053</td>\n      <td>-0.268613</td>\n    </tr>\n    <tr>\n      <th>2498</th>\n      <td>False</td>\n      <td>-0.299113</td>\n      <td>-0.353750</td>\n      <td>-0.244053</td>\n      <td>-2.968238</td>\n    </tr>\n  </tbody>\n</table>\n</div>"
     },
     "metadata": {}
    },
    {
     "output_type": "display_data",
     "data": {
      "text/plain": "   index  adulto  orcamento  popularidade   receita   duracao  index  \\\n0   1306   False  -0.267992      0.942036 -0.198952  0.237567      0   \n1   2037   False  -0.299113     -0.483328 -0.244053  0.102586      1   \n2    568   False  -0.299113     -0.612907 -0.244053  0.946219      2   \n3   1897   False  -0.299113     -0.612907 -0.244053 -0.268613      3   \n4   2498   False  -0.299113     -0.353750 -0.244053 -2.968238      4   \n\n   boi_Roscoe 'Fatty' Arbuckle  boi_Boris Quercia  boi_Chuck Norris  \\\n0                            0                  0                 0   \n1                            0                  0                 0   \n2                            0                  0                 0   \n3                            0                  0                 0   \n4                            0                  0                 0   \n\n   boi_Scott Caan  boi_Matheus Souza  \n0               0                  0  \n1               0                  0  \n2               0                  0  \n3               0                  0  \n4               0                  0  ",
      "text/html": "<div>\n<style scoped>\n    .dataframe tbody tr th:only-of-type {\n        vertical-align: middle;\n    }\n\n    .dataframe tbody tr th {\n        vertical-align: top;\n    }\n\n    .dataframe thead th {\n        text-align: right;\n    }\n</style>\n<table border=\"1\" class=\"dataframe\">\n  <thead>\n    <tr style=\"text-align: right;\">\n      <th></th>\n      <th>index</th>\n      <th>adulto</th>\n      <th>orcamento</th>\n      <th>popularidade</th>\n      <th>receita</th>\n      <th>duracao</th>\n      <th>index</th>\n      <th>boi_Roscoe 'Fatty' Arbuckle</th>\n      <th>boi_Boris Quercia</th>\n      <th>boi_Chuck Norris</th>\n      <th>boi_Scott Caan</th>\n      <th>boi_Matheus Souza</th>\n    </tr>\n  </thead>\n  <tbody>\n    <tr>\n      <th>0</th>\n      <td>1306</td>\n      <td>False</td>\n      <td>-0.267992</td>\n      <td>0.942036</td>\n      <td>-0.198952</td>\n      <td>0.237567</td>\n      <td>0</td>\n      <td>0</td>\n      <td>0</td>\n      <td>0</td>\n      <td>0</td>\n      <td>0</td>\n    </tr>\n    <tr>\n      <th>1</th>\n      <td>2037</td>\n      <td>False</td>\n      <td>-0.299113</td>\n      <td>-0.483328</td>\n      <td>-0.244053</td>\n      <td>0.102586</td>\n      <td>1</td>\n      <td>0</td>\n      <td>0</td>\n      <td>0</td>\n      <td>0</td>\n      <td>0</td>\n    </tr>\n    <tr>\n      <th>2</th>\n      <td>568</td>\n      <td>False</td>\n      <td>-0.299113</td>\n      <td>-0.612907</td>\n      <td>-0.244053</td>\n      <td>0.946219</td>\n      <td>2</td>\n      <td>0</td>\n      <td>0</td>\n      <td>0</td>\n      <td>0</td>\n      <td>0</td>\n    </tr>\n    <tr>\n      <th>3</th>\n      <td>1897</td>\n      <td>False</td>\n      <td>-0.299113</td>\n      <td>-0.612907</td>\n      <td>-0.244053</td>\n      <td>-0.268613</td>\n      <td>3</td>\n      <td>0</td>\n      <td>0</td>\n      <td>0</td>\n      <td>0</td>\n      <td>0</td>\n    </tr>\n    <tr>\n      <th>4</th>\n      <td>2498</td>\n      <td>False</td>\n      <td>-0.299113</td>\n      <td>-0.353750</td>\n      <td>-0.244053</td>\n      <td>-2.968238</td>\n      <td>4</td>\n      <td>0</td>\n      <td>0</td>\n      <td>0</td>\n      <td>0</td>\n      <td>0</td>\n    </tr>\n  </tbody>\n</table>\n</div>"
     },
     "metadata": {}
    },
    {
     "output_type": "display_data",
     "data": {
      "text/plain": "   index  adulto  orcamento  popularidade   receita   duracao  index  \\\n0   1306   False  -0.267992      0.942036 -0.198952  0.237567      0   \n1   2037   False  -0.299113     -0.483328 -0.244053  0.102586      1   \n2    568   False  -0.299113     -0.612907 -0.244053  0.946219      2   \n3   1897   False  -0.299113     -0.612907 -0.244053 -0.268613      3   \n4   2498   False  -0.299113     -0.353750 -0.244053 -2.968238      4   \n\n   resumo_000  resumo_11  resumo_119  ...  resumo_york  resumo_yoshiyuki  \\\n0         0.0   0.000000         0.0  ...          0.0               0.0   \n1         0.0   0.134747         0.0  ...          0.0               0.0   \n2         0.0   0.000000         0.0  ...          0.0               0.0   \n3         0.0   0.000000         0.0  ...          0.0               0.0   \n4         0.0   0.000000         0.0  ...          0.0               0.0   \n\n   resumo_you  resumo_young  resumo_yuan  resumo_yuanlong  resumo_zatoichi  \\\n0         0.0           0.0          0.0              0.0              0.0   \n1         0.0           0.0          0.0              0.0              0.0   \n2         0.0           0.0          0.0              0.0              0.0   \n3         0.0           0.0          0.0              0.0              0.0   \n4         0.0           0.0          0.0              0.0              0.0   \n\n   resumo_zealand  resumo_zoe  resumo_zócalo  \n0             0.0         0.0            0.0  \n1             0.0         0.0            0.0  \n2             0.0         0.0            0.0  \n3             0.0         0.0            0.0  \n4             0.0         0.0            0.0  \n\n[5 rows x 2087 columns]",
      "text/html": "<div>\n<style scoped>\n    .dataframe tbody tr th:only-of-type {\n        vertical-align: middle;\n    }\n\n    .dataframe tbody tr th {\n        vertical-align: top;\n    }\n\n    .dataframe thead th {\n        text-align: right;\n    }\n</style>\n<table border=\"1\" class=\"dataframe\">\n  <thead>\n    <tr style=\"text-align: right;\">\n      <th></th>\n      <th>index</th>\n      <th>adulto</th>\n      <th>orcamento</th>\n      <th>popularidade</th>\n      <th>receita</th>\n      <th>duracao</th>\n      <th>index</th>\n      <th>resumo_000</th>\n      <th>resumo_11</th>\n      <th>resumo_119</th>\n      <th>...</th>\n      <th>resumo_york</th>\n      <th>resumo_yoshiyuki</th>\n      <th>resumo_you</th>\n      <th>resumo_young</th>\n      <th>resumo_yuan</th>\n      <th>resumo_yuanlong</th>\n      <th>resumo_zatoichi</th>\n      <th>resumo_zealand</th>\n      <th>resumo_zoe</th>\n      <th>resumo_zócalo</th>\n    </tr>\n  </thead>\n  <tbody>\n    <tr>\n      <th>0</th>\n      <td>1306</td>\n      <td>False</td>\n      <td>-0.267992</td>\n      <td>0.942036</td>\n      <td>-0.198952</td>\n      <td>0.237567</td>\n      <td>0</td>\n      <td>0.0</td>\n      <td>0.000000</td>\n      <td>0.0</td>\n      <td>...</td>\n      <td>0.0</td>\n      <td>0.0</td>\n      <td>0.0</td>\n      <td>0.0</td>\n      <td>0.0</td>\n      <td>0.0</td>\n      <td>0.0</td>\n      <td>0.0</td>\n      <td>0.0</td>\n      <td>0.0</td>\n    </tr>\n    <tr>\n      <th>1</th>\n      <td>2037</td>\n      <td>False</td>\n      <td>-0.299113</td>\n      <td>-0.483328</td>\n      <td>-0.244053</td>\n      <td>0.102586</td>\n      <td>1</td>\n      <td>0.0</td>\n      <td>0.134747</td>\n      <td>0.0</td>\n      <td>...</td>\n      <td>0.0</td>\n      <td>0.0</td>\n      <td>0.0</td>\n      <td>0.0</td>\n      <td>0.0</td>\n      <td>0.0</td>\n      <td>0.0</td>\n      <td>0.0</td>\n      <td>0.0</td>\n      <td>0.0</td>\n    </tr>\n    <tr>\n      <th>2</th>\n      <td>568</td>\n      <td>False</td>\n      <td>-0.299113</td>\n      <td>-0.612907</td>\n      <td>-0.244053</td>\n      <td>0.946219</td>\n      <td>2</td>\n      <td>0.0</td>\n      <td>0.000000</td>\n      <td>0.0</td>\n      <td>...</td>\n      <td>0.0</td>\n      <td>0.0</td>\n      <td>0.0</td>\n      <td>0.0</td>\n      <td>0.0</td>\n      <td>0.0</td>\n      <td>0.0</td>\n      <td>0.0</td>\n      <td>0.0</td>\n      <td>0.0</td>\n    </tr>\n    <tr>\n      <th>3</th>\n      <td>1897</td>\n      <td>False</td>\n      <td>-0.299113</td>\n      <td>-0.612907</td>\n      <td>-0.244053</td>\n      <td>-0.268613</td>\n      <td>3</td>\n      <td>0.0</td>\n      <td>0.000000</td>\n      <td>0.0</td>\n      <td>...</td>\n      <td>0.0</td>\n      <td>0.0</td>\n      <td>0.0</td>\n      <td>0.0</td>\n      <td>0.0</td>\n      <td>0.0</td>\n      <td>0.0</td>\n      <td>0.0</td>\n      <td>0.0</td>\n      <td>0.0</td>\n    </tr>\n    <tr>\n      <th>4</th>\n      <td>2498</td>\n      <td>False</td>\n      <td>-0.299113</td>\n      <td>-0.353750</td>\n      <td>-0.244053</td>\n      <td>-2.968238</td>\n      <td>4</td>\n      <td>0.0</td>\n      <td>0.000000</td>\n      <td>0.0</td>\n      <td>...</td>\n      <td>0.0</td>\n      <td>0.0</td>\n      <td>0.0</td>\n      <td>0.0</td>\n      <td>0.0</td>\n      <td>0.0</td>\n      <td>0.0</td>\n      <td>0.0</td>\n      <td>0.0</td>\n      <td>0.0</td>\n    </tr>\n  </tbody>\n</table>\n<p>5 rows × 2087 columns</p>\n</div>"
     },
     "metadata": {}
    },
    {
     "output_type": "display_data",
     "data": {
      "text/plain": "   boi_Roscoe 'Fatty' Arbuckle  boi_Boris Quercia  boi_Chuck Norris  \\\n0                            0                  0                 0   \n1                            0                  0                 0   \n2                            0                  0                 0   \n3                            0                  0                 0   \n4                            0                  0                 0   \n\n   boi_Scott Caan  boi_Matheus Souza  \n0               0                  0  \n1               0                  0  \n2               0                  0  \n3               0                  0  \n4               0                  0  ",
      "text/html": "<div>\n<style scoped>\n    .dataframe tbody tr th:only-of-type {\n        vertical-align: middle;\n    }\n\n    .dataframe tbody tr th {\n        vertical-align: top;\n    }\n\n    .dataframe thead th {\n        text-align: right;\n    }\n</style>\n<table border=\"1\" class=\"dataframe\">\n  <thead>\n    <tr style=\"text-align: right;\">\n      <th></th>\n      <th>boi_Roscoe 'Fatty' Arbuckle</th>\n      <th>boi_Boris Quercia</th>\n      <th>boi_Chuck Norris</th>\n      <th>boi_Scott Caan</th>\n      <th>boi_Matheus Souza</th>\n    </tr>\n  </thead>\n  <tbody>\n    <tr>\n      <th>0</th>\n      <td>0</td>\n      <td>0</td>\n      <td>0</td>\n      <td>0</td>\n      <td>0</td>\n    </tr>\n    <tr>\n      <th>1</th>\n      <td>0</td>\n      <td>0</td>\n      <td>0</td>\n      <td>0</td>\n      <td>0</td>\n    </tr>\n    <tr>\n      <th>2</th>\n      <td>0</td>\n      <td>0</td>\n      <td>0</td>\n      <td>0</td>\n      <td>0</td>\n    </tr>\n    <tr>\n      <th>3</th>\n      <td>0</td>\n      <td>0</td>\n      <td>0</td>\n      <td>0</td>\n      <td>0</td>\n    </tr>\n    <tr>\n      <th>4</th>\n      <td>0</td>\n      <td>0</td>\n      <td>0</td>\n      <td>0</td>\n      <td>0</td>\n    </tr>\n  </tbody>\n</table>\n</div>"
     },
     "metadata": {}
    },
    {
     "output_type": "display_data",
     "data": {
      "text/plain": "   resumo_000  resumo_11  resumo_119  resumo_15  resumo_18  resumo_1913  \\\n0         0.0   0.000000         0.0        0.0        0.0          0.0   \n1         0.0   0.134747         0.0        0.0        0.0          0.0   \n2         0.0   0.000000         0.0        0.0        0.0          0.0   \n3         0.0   0.000000         0.0        0.0        0.0          0.0   \n4         0.0   0.000000         0.0        0.0        0.0          0.0   \n\n   resumo_1938  resumo_2013  resumo_20th  resumo_252  ...  resumo_york  \\\n0          0.0          0.0          0.0         0.0  ...          0.0   \n1          0.0          0.0          0.0         0.0  ...          0.0   \n2          0.0          0.0          0.0         0.0  ...          0.0   \n3          0.0          0.0          0.0         0.0  ...          0.0   \n4          0.0          0.0          0.0         0.0  ...          0.0   \n\n   resumo_yoshiyuki  resumo_you  resumo_young  resumo_yuan  resumo_yuanlong  \\\n0               0.0         0.0           0.0          0.0              0.0   \n1               0.0         0.0           0.0          0.0              0.0   \n2               0.0         0.0           0.0          0.0              0.0   \n3               0.0         0.0           0.0          0.0              0.0   \n4               0.0         0.0           0.0          0.0              0.0   \n\n   resumo_zatoichi  resumo_zealand  resumo_zoe  resumo_zócalo  \n0              0.0             0.0         0.0            0.0  \n1              0.0             0.0         0.0            0.0  \n2              0.0             0.0         0.0            0.0  \n3              0.0             0.0         0.0            0.0  \n4              0.0             0.0         0.0            0.0  \n\n[5 rows x 2080 columns]",
      "text/html": "<div>\n<style scoped>\n    .dataframe tbody tr th:only-of-type {\n        vertical-align: middle;\n    }\n\n    .dataframe tbody tr th {\n        vertical-align: top;\n    }\n\n    .dataframe thead th {\n        text-align: right;\n    }\n</style>\n<table border=\"1\" class=\"dataframe\">\n  <thead>\n    <tr style=\"text-align: right;\">\n      <th></th>\n      <th>resumo_000</th>\n      <th>resumo_11</th>\n      <th>resumo_119</th>\n      <th>resumo_15</th>\n      <th>resumo_18</th>\n      <th>resumo_1913</th>\n      <th>resumo_1938</th>\n      <th>resumo_2013</th>\n      <th>resumo_20th</th>\n      <th>resumo_252</th>\n      <th>...</th>\n      <th>resumo_york</th>\n      <th>resumo_yoshiyuki</th>\n      <th>resumo_you</th>\n      <th>resumo_young</th>\n      <th>resumo_yuan</th>\n      <th>resumo_yuanlong</th>\n      <th>resumo_zatoichi</th>\n      <th>resumo_zealand</th>\n      <th>resumo_zoe</th>\n      <th>resumo_zócalo</th>\n    </tr>\n  </thead>\n  <tbody>\n    <tr>\n      <th>0</th>\n      <td>0.0</td>\n      <td>0.000000</td>\n      <td>0.0</td>\n      <td>0.0</td>\n      <td>0.0</td>\n      <td>0.0</td>\n      <td>0.0</td>\n      <td>0.0</td>\n      <td>0.0</td>\n      <td>0.0</td>\n      <td>...</td>\n      <td>0.0</td>\n      <td>0.0</td>\n      <td>0.0</td>\n      <td>0.0</td>\n      <td>0.0</td>\n      <td>0.0</td>\n      <td>0.0</td>\n      <td>0.0</td>\n      <td>0.0</td>\n      <td>0.0</td>\n    </tr>\n    <tr>\n      <th>1</th>\n      <td>0.0</td>\n      <td>0.134747</td>\n      <td>0.0</td>\n      <td>0.0</td>\n      <td>0.0</td>\n      <td>0.0</td>\n      <td>0.0</td>\n      <td>0.0</td>\n      <td>0.0</td>\n      <td>0.0</td>\n      <td>...</td>\n      <td>0.0</td>\n      <td>0.0</td>\n      <td>0.0</td>\n      <td>0.0</td>\n      <td>0.0</td>\n      <td>0.0</td>\n      <td>0.0</td>\n      <td>0.0</td>\n      <td>0.0</td>\n      <td>0.0</td>\n    </tr>\n    <tr>\n      <th>2</th>\n      <td>0.0</td>\n      <td>0.000000</td>\n      <td>0.0</td>\n      <td>0.0</td>\n      <td>0.0</td>\n      <td>0.0</td>\n      <td>0.0</td>\n      <td>0.0</td>\n      <td>0.0</td>\n      <td>0.0</td>\n      <td>...</td>\n      <td>0.0</td>\n      <td>0.0</td>\n      <td>0.0</td>\n      <td>0.0</td>\n      <td>0.0</td>\n      <td>0.0</td>\n      <td>0.0</td>\n      <td>0.0</td>\n      <td>0.0</td>\n      <td>0.0</td>\n    </tr>\n    <tr>\n      <th>3</th>\n      <td>0.0</td>\n      <td>0.000000</td>\n      <td>0.0</td>\n      <td>0.0</td>\n      <td>0.0</td>\n      <td>0.0</td>\n      <td>0.0</td>\n      <td>0.0</td>\n      <td>0.0</td>\n      <td>0.0</td>\n      <td>...</td>\n      <td>0.0</td>\n      <td>0.0</td>\n      <td>0.0</td>\n      <td>0.0</td>\n      <td>0.0</td>\n      <td>0.0</td>\n      <td>0.0</td>\n      <td>0.0</td>\n      <td>0.0</td>\n      <td>0.0</td>\n    </tr>\n    <tr>\n      <th>4</th>\n      <td>0.0</td>\n      <td>0.000000</td>\n      <td>0.0</td>\n      <td>0.0</td>\n      <td>0.0</td>\n      <td>0.0</td>\n      <td>0.0</td>\n      <td>0.0</td>\n      <td>0.0</td>\n      <td>0.0</td>\n      <td>...</td>\n      <td>0.0</td>\n      <td>0.0</td>\n      <td>0.0</td>\n      <td>0.0</td>\n      <td>0.0</td>\n      <td>0.0</td>\n      <td>0.0</td>\n      <td>0.0</td>\n      <td>0.0</td>\n      <td>0.0</td>\n    </tr>\n  </tbody>\n</table>\n<p>5 rows × 2080 columns</p>\n</div>"
     },
     "metadata": {}
    },
    {
     "output_type": "display_data",
     "data": {
      "text/plain": "   index  adulto  orcamento  popularidade   receita   duracao  index  \\\n0   1306   False  -0.267992      0.942036 -0.198952  0.237567      0   \n1   2037   False  -0.299113     -0.483328 -0.244053  0.102586      1   \n2    568   False  -0.299113     -0.612907 -0.244053  0.946219      2   \n3   1897   False  -0.299113     -0.612907 -0.244053 -0.268613      3   \n4   2498   False  -0.299113     -0.353750 -0.244053 -2.968238      4   \n\n   boi_Roscoe 'Fatty' Arbuckle  boi_Boris Quercia  boi_Chuck Norris  ...  \\\n0                            0                  0                 0  ...   \n1                            0                  0                 0  ...   \n2                            0                  0                 0  ...   \n3                            0                  0                 0  ...   \n4                            0                  0                 0  ...   \n\n   resumo_york  resumo_yoshiyuki  resumo_you  resumo_young  resumo_yuan  \\\n0          0.0               0.0         0.0           0.0          0.0   \n1          0.0               0.0         0.0           0.0          0.0   \n2          0.0               0.0         0.0           0.0          0.0   \n3          0.0               0.0         0.0           0.0          0.0   \n4          0.0               0.0         0.0           0.0          0.0   \n\n   resumo_yuanlong  resumo_zatoichi  resumo_zealand  resumo_zoe  resumo_zócalo  \n0              0.0              0.0             0.0         0.0            0.0  \n1              0.0              0.0             0.0         0.0            0.0  \n2              0.0              0.0             0.0         0.0            0.0  \n3              0.0              0.0             0.0         0.0            0.0  \n4              0.0              0.0             0.0         0.0            0.0  \n\n[5 rows x 2093 columns]",
      "text/html": "<div>\n<style scoped>\n    .dataframe tbody tr th:only-of-type {\n        vertical-align: middle;\n    }\n\n    .dataframe tbody tr th {\n        vertical-align: top;\n    }\n\n    .dataframe thead th {\n        text-align: right;\n    }\n</style>\n<table border=\"1\" class=\"dataframe\">\n  <thead>\n    <tr style=\"text-align: right;\">\n      <th></th>\n      <th>index</th>\n      <th>adulto</th>\n      <th>orcamento</th>\n      <th>popularidade</th>\n      <th>receita</th>\n      <th>duracao</th>\n      <th>index</th>\n      <th>boi_Roscoe 'Fatty' Arbuckle</th>\n      <th>boi_Boris Quercia</th>\n      <th>boi_Chuck Norris</th>\n      <th>...</th>\n      <th>resumo_york</th>\n      <th>resumo_yoshiyuki</th>\n      <th>resumo_you</th>\n      <th>resumo_young</th>\n      <th>resumo_yuan</th>\n      <th>resumo_yuanlong</th>\n      <th>resumo_zatoichi</th>\n      <th>resumo_zealand</th>\n      <th>resumo_zoe</th>\n      <th>resumo_zócalo</th>\n    </tr>\n  </thead>\n  <tbody>\n    <tr>\n      <th>0</th>\n      <td>1306</td>\n      <td>False</td>\n      <td>-0.267992</td>\n      <td>0.942036</td>\n      <td>-0.198952</td>\n      <td>0.237567</td>\n      <td>0</td>\n      <td>0</td>\n      <td>0</td>\n      <td>0</td>\n      <td>...</td>\n      <td>0.0</td>\n      <td>0.0</td>\n      <td>0.0</td>\n      <td>0.0</td>\n      <td>0.0</td>\n      <td>0.0</td>\n      <td>0.0</td>\n      <td>0.0</td>\n      <td>0.0</td>\n      <td>0.0</td>\n    </tr>\n    <tr>\n      <th>1</th>\n      <td>2037</td>\n      <td>False</td>\n      <td>-0.299113</td>\n      <td>-0.483328</td>\n      <td>-0.244053</td>\n      <td>0.102586</td>\n      <td>1</td>\n      <td>0</td>\n      <td>0</td>\n      <td>0</td>\n      <td>...</td>\n      <td>0.0</td>\n      <td>0.0</td>\n      <td>0.0</td>\n      <td>0.0</td>\n      <td>0.0</td>\n      <td>0.0</td>\n      <td>0.0</td>\n      <td>0.0</td>\n      <td>0.0</td>\n      <td>0.0</td>\n    </tr>\n    <tr>\n      <th>2</th>\n      <td>568</td>\n      <td>False</td>\n      <td>-0.299113</td>\n      <td>-0.612907</td>\n      <td>-0.244053</td>\n      <td>0.946219</td>\n      <td>2</td>\n      <td>0</td>\n      <td>0</td>\n      <td>0</td>\n      <td>...</td>\n      <td>0.0</td>\n      <td>0.0</td>\n      <td>0.0</td>\n      <td>0.0</td>\n      <td>0.0</td>\n      <td>0.0</td>\n      <td>0.0</td>\n      <td>0.0</td>\n      <td>0.0</td>\n      <td>0.0</td>\n    </tr>\n    <tr>\n      <th>3</th>\n      <td>1897</td>\n      <td>False</td>\n      <td>-0.299113</td>\n      <td>-0.612907</td>\n      <td>-0.244053</td>\n      <td>-0.268613</td>\n      <td>3</td>\n      <td>0</td>\n      <td>0</td>\n      <td>0</td>\n      <td>...</td>\n      <td>0.0</td>\n      <td>0.0</td>\n      <td>0.0</td>\n      <td>0.0</td>\n      <td>0.0</td>\n      <td>0.0</td>\n      <td>0.0</td>\n      <td>0.0</td>\n      <td>0.0</td>\n      <td>0.0</td>\n    </tr>\n    <tr>\n      <th>4</th>\n      <td>2498</td>\n      <td>False</td>\n      <td>-0.299113</td>\n      <td>-0.353750</td>\n      <td>-0.244053</td>\n      <td>-2.968238</td>\n      <td>4</td>\n      <td>0</td>\n      <td>0</td>\n      <td>0</td>\n      <td>...</td>\n      <td>0.0</td>\n      <td>0.0</td>\n      <td>0.0</td>\n      <td>0.0</td>\n      <td>0.0</td>\n      <td>0.0</td>\n      <td>0.0</td>\n      <td>0.0</td>\n      <td>0.0</td>\n      <td>0.0</td>\n    </tr>\n  </tbody>\n</table>\n<p>5 rows × 2093 columns</p>\n</div>"
     },
     "metadata": {}
    }
   ],
   "source": [
    "from competicao_am.preprocessamento_atributos_competicao import DataframePreprocessing\n",
    "from IPython.display import display\n",
    "\n",
    "df_amostra = df_treino.sample(100, random_state=7)\n",
    "\n",
    "preprocessor = DataframePreprocessing(df_amostra, df_amostra, 'genero')\n",
    "\n",
    "dfs = preprocessor.generate_dataframes()\n",
    "\n",
    "for k, v in dfs.items():\n",
    "    display(v[0].head())"
   ]
  },
  {
   "cell_type": "markdown",
   "metadata": {},
   "source": [
    "## Otimização dos parâmetros"
   ]
  },
  {
   "cell_type": "code",
   "execution_count": 4,
   "metadata": {},
   "outputs": [],
   "source": [
    "import optuna\n",
    "import pickle # Serialização dos resultados"
   ]
  },
  {
   "cell_type": "code",
   "execution_count": 5,
   "metadata": {},
   "outputs": [],
   "source": [
    "import matplotlib.pyplot as plt\n",
    "from sklearn import svm\n",
    "\n",
    "from base_am.resultado import Fold\n",
    "from base_am.avaliacao import Experimento\n",
    "import competicao_am.metodo_competicao as mc\n",
    "import competicao_am.avaliacao_competicao as ac"
   ]
  },
  {
   "cell_type": "markdown",
   "metadata": {},
   "source": [
    "## Um pouco sobre SVC's\n",
    "\n",
    "### Kernel\n",
    "\n",
    "O `kernel` indica o tipo de \"hiper-plano\" usado para separar as classes.\n",
    "\n",
    "Os kernels a serem considerados são: `linear`, `rbf` e `poly`\n",
    "\n",
    "#### `poly`: degree\n",
    "\n",
    "Grau do polinômio a ser usado. Quanto maior o valor, maior o tempo gasto para o treino.\n",
    "\n",
    "### gamma\n",
    "\n",
    "Parâmetro usado para \"hiper-planos\" não lineares. Quanto maior, mais ele tenta en encaixar o modelo perfeitamente.\n",
    "\n",
    "Valores muito altos caminhão em direção de um _overfitting_.\n",
    "\n",
    "### C\n",
    "\n",
    "C é o parâmetro de penalidade do erro. Ele controla o prejuízo entre paredes de decisões suaves e classificar os pontos corretamente.\n",
    "\n"
   ]
  },
  {
   "cell_type": "markdown",
   "metadata": {},
   "source": [
    "Links úteis:\n",
    "\n",
    "- [A guide to SVM parameter tuning](https://towardsdatascience.com/a-guide-to-svm-parameter-tuning-8bfe6b8a452c)"
   ]
  },
  {
   "cell_type": "code",
   "execution_count": 6,
   "metadata": {},
   "outputs": [],
   "source": [
    "def experimento(metodo: mc.MetodoCompeticao, num_trials: int = 2, otimizador:ac.OtimizacaoObjetivo = ac.OtimizacaoObjetivoSVCRbf, ml_method = None) -> Experimento:\n",
    "    folds = Fold.gerar_k_folds(df_treino, val_k=5, col_classe=\"genero\",\n",
    "                                num_repeticoes=1, num_folds_validacao=4, num_repeticoes_validacao=1)\n",
    "\n",
    "    ClasseObjetivo = ac.WrapperOtimizacaoObjetivo(otimizador, metodo=metodo)\n",
    "\n",
    "    experimento = Experimento(folds, ml_method=ml_method, ClasseObjetivoOtimizacao=ClasseObjetivo, num_trials=num_trials)\n",
    "\n",
    "    return experimento"
   ]
  },
  {
   "cell_type": "code",
   "execution_count": 7,
   "metadata": {
    "tags": []
   },
   "outputs": [],
   "source": [
    "# teste_exp = experimento(mc.MetodoCompeticaoValidacao_A)\n",
    "# teste_exp.macro_f1_avg"
   ]
  },
  {
   "cell_type": "code",
   "execution_count": 8,
   "metadata": {
    "tags": []
   },
   "outputs": [],
   "source": [
    "# va_exp = experimento(mc.MetodoCompeticaoValidacao_A, 10)\n",
    "# print(va_exp.macro_f1_avg)"
   ]
  },
  {
   "cell_type": "code",
   "execution_count": 9,
   "metadata": {
    "tags": []
   },
   "outputs": [],
   "source": [
    "# vb_exp = experimento(mc.MetodoCompeticaoValidacao_B, 10)\n",
    "# print(vb_exp.macro_f1_avg)"
   ]
  },
  {
   "cell_type": "code",
   "execution_count": 10,
   "metadata": {
    "tags": []
   },
   "outputs": [],
   "source": [
    "# vc_exp = experimento(mc.MetodoCompeticaoValidacao_C, 10)\n",
    "# print(vc_exp.macro_f1_avg)"
   ]
  },
  {
   "cell_type": "code",
   "execution_count": 11,
   "metadata": {
    "tags": []
   },
   "outputs": [],
   "source": [
    "# vd_exp = experimento(mc.MetodoCompeticaoValidacao_D, 10)\n",
    "# print(vd_exp.macro_f1_avg)"
   ]
  },
  {
   "cell_type": "code",
   "execution_count": 12,
   "metadata": {
    "tags": []
   },
   "outputs": [],
   "source": [
    "# va_exp2 = experimento(mc.MetodoCompeticaoValidacao_A, 10, otimizador=ac.OtimizacaoObjetivoRandomForest)\n",
    "# print(va_exp2.macro_f1_avg)"
   ]
  },
  {
   "cell_type": "code",
   "execution_count": 13,
   "metadata": {
    "tags": []
   },
   "outputs": [],
   "source": [
    "# vb_exp2 = experimento(mc.MetodoCompeticaoValidacao_B, 10, otimizador=ac.OtimizacaoObjetivoRandomForest)\n",
    "# print(vb_exp2.macro_f1_avg)"
   ]
  },
  {
   "cell_type": "code",
   "execution_count": 14,
   "metadata": {
    "tags": []
   },
   "outputs": [],
   "source": [
    "# vc_exp2 = experimento(mc.MetodoCompeticaoValidacao_C, 10, otimizador=ac.OtimizacaoObjetivoRandomForest)\n",
    "# print(vc_exp2.macro_f1_avg)"
   ]
  },
  {
   "cell_type": "code",
   "execution_count": 15,
   "metadata": {
    "tags": []
   },
   "outputs": [],
   "source": [
    "# vd_exp2 = experimento(mc.MetodoCompeticaoValidacao_D, 10, otimizador=ac.OtimizacaoObjetivoRandomForest)\n",
    "# print(vd_exp2.macro_f1_avg)"
   ]
  },
  {
   "cell_type": "code",
   "execution_count": 16,
   "metadata": {},
   "outputs": [],
   "source": [
    "df_to_predict_1 = pd.read_csv('datasets/movies_amostra_teste_1.csv')\n",
    "# gerar_saida_teste(df_to_predict_1, 'genero', 11)"
   ]
  },
  {
   "cell_type": "code",
   "execution_count": 17,
   "metadata": {},
   "outputs": [],
   "source": [
    "# df_predict_test = df_to_predict_1.sample(100)\n",
    "# df_predict_test.head()"
   ]
  },
  {
   "cell_type": "code",
   "execution_count": 18,
   "metadata": {
    "tags": []
   },
   "outputs": [],
   "source": [
    "# gerar_saida_teste(df_to_predict_1, 'genero', 11)"
   ]
  },
  {
   "cell_type": "code",
   "execution_count": 19,
   "metadata": {},
   "outputs": [],
   "source": [
    "import pickle\n",
    "\n",
    "version = 1\n",
    "\n",
    "# pickle.dump(va_exp, open(f'resultados/va_exp__{version}.p', 'wb'))\n",
    "# pickle.dump(va_exp2, open(f'resultados/va_exp2__{version}.p', 'wb'))\n",
    "# pickle.dump(vb_exp, open(f'resultados/vb_exp__{version}.p', 'wb'))\n",
    "# pickle.dump(vb_exp2, open(f'resultados/vb_exp2__{version}.p', 'wb'))\n",
    "# pickle.dump(vc_exp, open(f'resultados/vc_exp__{version}.p', 'wb'))\n",
    "# pickle.dump(vc_exp2, open(f'resultados/vc_exp2__{version}.p', 'wb'))\n",
    "# pickle.dump(vd_exp, open(f'resultados/vd_exp__{version}.p', 'wb'))\n",
    "# pickle.dump(vd_exp2, open(f'resultados/vd_exp2__{version}.p', 'wb'))"
   ]
  },
  {
   "cell_type": "code",
   "execution_count": 20,
   "metadata": {
    "tags": []
   },
   "outputs": [
    {
     "output_type": "stream",
     "name": "stdout",
     "text": "with value: 0.3956150504533185 and parameters: {'exp_cost': 1.3268962362072385, 'gamma': 3.036986617200289}. Best is trial 6 with value: 0.7710469697296117.\n0/1800\n[I 2020-08-27 06:11:20,557] Trial 31 finished with value: 0.3956150504533185 and parameters: {'exp_cost': 1.5928660581766367, 'gamma': 2.868825130725901}. Best is trial 6 with value: 0.7710469697296117.\n0/1800\n1000/1800\n1000/1800\n0/600\n0/600\n0/1800\n[I 2020-08-27 06:11:52,960] Trial 32 finished with value: 0.39821859826023953 and parameters: {'exp_cost': 1.2493320677840134, 'gamma': 2.6907866757469283}. Best is trial 6 with value: 0.7710469697296117.\n0/1800\n0/1800\n1000/1800\n[I 2020-08-27 06:11:56,530] Trial 33 finished with value: 0.3956150504533185 and parameters: {'exp_cost': 1.4931249419207304, 'gamma': 2.7797096362197418}. Best is trial 6 with value: 0.7710469697296117.\n0/1800\n0/1800\n0/1800\n1000/1800\n1000/1800\n0/600\n1000/1800\n0/1800\n1000/1800\n0/600\n1000/1800\n0/600\n0/600\n1000/1800\n0/600\n0/600\n0/600\n[I 2020-08-27 06:13:47,776] Trial 35 finished with value: 0.3956150504533185 and parameters: {'exp_cost': 1.2987526380938945, 'gamma': 2.7763600358627896}. Best is trial 6 with value: 0.7710469697296117.\n0/1800\n[I 2020-08-27 06:13:48,861] Trial 34 finished with value: 0.3956150504533185 and parameters: {'exp_cost': 1.4631166018313244, 'gamma': 2.927535576402076}. Best is trial 6 with value: 0.7710469697296117.\n0/1800\n1000/1800\n0/1800\n1000/1800\n0/600\n0/6001000/1800\n\n0/600\n0/1800\n0/1800\n1000/1800\n1000/1800\n0/600\n0/600\n0/1800\n1000/1800\n0/600\n0/1800\n0/1800\n1000/1800\n0/1800\n0/1800\n0/1800\n0/1800\n0/600\n1000/1800\n1000/1800\n1000/1800\n1000/1800\n1000/1800\n0/6000/600\n\n0/600\n0/600\n0/600\n0/1800\n0/1800\n1000/1800\n0/1800\n1000/1800\n0/600\n1000/1800\n0/600\n0/600\n0/18000/1800\n\n1000/1800\n1000/1800\n0/600\n0/600\n[I 2020-08-27 06:19:01,320] Trial 36 finished with value: 0.3956150504533185 and parameters: {'exp_cost': 1.358366092398854, 'gamma': 2.9687645579576682}. Best is trial 6 with value: 0.7710469697296117.\n0/1800\n1000/1800\n0/600\n0/1800\n1000/1800\n0/600\n0/1800\n0/1800\n0/1800\n0/1800\n0/1800\n1000/1800\n1000/1800\n1000/18001000/1800\n\n1000/1800\n0/600\n0/600\n0/600\n0/6000/600\n\n0/1800\n0/1800\n0/1800\n1000/1800\n1000/1800\n1000/1800\n0/600\n0/1800\n0/600\n0/1800\n0/600\n1000/1800\n1000/1800\n0/600\n0/600\n0/1800\n1000/1800\n0/600\n0/1800\n1000/1800\n0/600\n0/1800\n1000/1800\n[I 2020-08-27 06:24:08,533] Trial 37 finished with value: 0.3956150504533185 and parameters: {'exp_cost': 1.2433231011204937, 'gamma': 3.0857446968214663}. Best is trial 6 with value: 0.7710469697296117.\n0/1800\n0/600\n1000/1800\n[I 2020-08-27 06:24:16,566] Trial 39 finished with value: 0.3956150504533185 and parameters: {'exp_cost': 1.4006864317590928, 'gamma': 3.0018359873760447}. Best is trial 6 with value: 0.7710469697296117.\n0/1800[I 2020-08-27 06:24:17,581] Trial 40 finished with value: 0.3956150504533185 and parameters: {'exp_cost': 1.2380728506516672, 'gamma': 2.7647849779223836}. Best is trial 6 with value: 0.7710469697296117.\n\n[I 2020-08-27 06:24:17,610] Trial 38 finished with value: 0.3956150504533185 and parameters: {'exp_cost': 1.378710237507826, 'gamma': 2.9136112164051706}. Best is trial 6 with value: 0.7710469697296117.\n0/1800\n0/1800\n0/600\n1000/1800\n1000/1800\n1000/1800\n0/600\n0/600\n0/600\n0/1800\n0/1800\n[I 2020-08-27 06:24:44,520] Trial 41 finished with value: 0.3956150504533185 and parameters: {'exp_cost': 3.153074579775153, 'gamma': 3.090127350764254}. Best is trial 6 with value: 0.7710469697296117.\n0/1800\n[I 2020-08-27 06:24:50,320] Trial 43 finished with value: 0.7539742270059142 and parameters: {'exp_cost': 3.204937211043375, 'gamma': 0.8805670664497391}. Best is trial 6 with value: 0.7710469697296117.\n[I 2020-08-27 06:24:50,321] Trial 42 finished with value: 0.7508464937805693 and parameters: {'exp_cost': 2.0506170431363855, 'gamma': 0.9610127064954455}. Best is trial 6 with value: 0.7710469697296117.\n0/18000/1800\n\n1000/1800\n1000/1800\n1000/1800\n1000/1800\n1000/1800\n0/6000/600\n\n0/600\n0/1800\n0/600\n0/600\n1000/1800\n0/600\n[I 2020-08-27 06:26:01,423] Trial 44 finished with value: 0.7544555262555954 and parameters: {'exp_cost': 2.2813526201003245, 'gamma': 0.8220727522290537}. Best is trial 6 with value: 0.7710469697296117.\n0/1800\n1000/1800\n0/600\n[I 2020-08-27 06:27:19,177] Trial 45 finished with value: 0.7389468870934164 and parameters: {'exp_cost': 2.9889722316873875, 'gamma': 1.1244521080387808}. Best is trial 6 with value: 0.7710469697296117.\n0/1800\n1000/1800\n0/600\n0/1800\n1000/1800\n0/600\n0/1800\n0/1800\n0/1800\n1000/1800\n1000/1800\n1000/1800\n0/600\n0/600\n0/600\n[I 2020-08-27 06:28:49,254] Trial 46 finished with value: 0.7484433872738347 and parameters: {'exp_cost': 2.8644263789605193, 'gamma': 0.9875193009298776}. Best is trial 6 with value: 0.7710469697296117.\n0/1800\n[I 2020-08-27 06:28:49,754] Trial 47 finished with value: 0.7526199026129536 and parameters: {'exp_cost': 3.201720002768767, 'gamma': 0.9206000497762823}. Best is trial 6 with value: 0.7710469697296117.\n0/1800\n0/1800\n0/18000/1800\n\n1000/1800\n1000/1800\n0/1800\n1000/1800\n1000/1800\n1000/1800\n0/600\n0/600\n1000/1800\n0/600\n0/1800\n0/6000/600\n\n0/600\n1000/1800\n0/600\n0/1800\n1000/1800\n0/600\n0/1800\n1000/1800\n0/600\n0/1800\n0/1800\n1000/1800\n0/1800\n0/600\n1000/1800\n1000/1800\n0/600\n0/600\n0/1800\n0/1800\n1000/1800\n0/1800\n0/1800\n0/1800\n[I 2020-08-27 06:33:07,995] Trial 48 finished with value: 0.7447761663991819 and parameters: {'exp_cost': 3.233619376255116, 'gamma': 1.0634137305723483}. Best is trial 6 with value: 0.7710469697296117.\n0/1800\n0/1800\n0/6001000/1800\n\n1000/1800\n1000/18001000/1800\n\n1000/1800\n1000/1800\n0/600\n0/6000/1800\n\n0/6000/600\n\n0/1800\n0/600\n0/600\n1000/1800\n1000/1800\n0/600\n0/600\n0/1800\n1000/1800\n0/1800\n0/1800\n0/600\n1000/1800\n1000/1800\n0/600\n0/600\n0/1800\n1000/1800\n0/600\n0/1800\n1000/1800\n0/1800\n0/1800\n0/1800\n0/1800\n0/1800\n0/600\n[I 2020-08-27 06:37:30,636] Trial 49 finished with value: 0.752238807974764 and parameters: {'exp_cost': 3.085158267213258, 'gamma': 0.9455920276321972}. Best is trial 6 with value: 0.7710469697296117.0/1800\n\n1000/1800\n0/1800\n1000/1800\n1000/1800\n1000/18001000/1800\n\n1000/1800[I 2020-08-27 06:37:49,666]\n Trial 50 finished with value: 0.733672573238455 and parameters: {'exp_cost': 3.2426522192500666, 'gamma': 1.1675419882073566}. Best is trial 6 with value: 0.7710469697296117.0/600\n\n1000/1800\n0/600\n0/600[I 2020-08-27 06:37:54,083]\n0/1800 Trial 51 finished with value: 0.746429626469743 and parameters: {'exp_cost': 3.1399852686349075, 'gamma': 1.0404553909435372}. Best is trial 6 with value: 0.7710469697296117.\n\n[I 2020-08-27 06:37:54,283] Trial 52 finished with value: 0.7490427136701214 and parameters: {'exp_cost': 3.1935229184717517, 'gamma': 0.9809783302533475}. Best is trial 6 with value: 0.7710469697296117.\n0/1800\n0/1800\n0/600\n0/600\n0/600\n0/600\n1000/1800\n1000/1800\n1000/1800\n0/600\n0/600\n0/600\n0/1800\n1000/1800\n0/600\n0/1800\n1000/1800\n0/600\n[I 2020-08-27 06:41:35,891] Trial 53 finished with value: 0.7401941889730018 and parameters: {'exp_cost': 4.108509331433878, 'gamma': 1.1190699244052376}. Best is trial 6 with value: 0.7710469697296117.\n0/1800\n[I 2020-08-27 06:41:37,387] Trial 55 finished with value: 0.7472232258233538 and parameters: {'exp_cost': 2.836135202200586, 'gamma': 1.0244509310019265}. Best is trial 6 with value: 0.7710469697296117.\n0/1800\n[I 2020-08-27 06:41:38,016] Trial 54 finished with value: 0.7484403307252776 and parameters: {'exp_cost': 2.887769119951832, 'gamma': 0.9665022509542261}. Best is trial 6 with value: 0.7710469697296117.\n0/1800\n1000/1800\n1000/1800\n1000/1800[I 2020-08-27 06:41:48,531]0/1800\n Trial 56 finished with value: 0.7449454537585244 and parameters: {'exp_cost': 2.7795379593329437, 'gamma': 1.0778088808288726}. Best is trial 6 with value: 0.7710469697296117.\n\n[I 2020-08-27 06:41:50,027] Trial 57 finished with value: 0.7451223864908373 and parameters: {'exp_cost': 2.3963277141386228, 'gamma': 1.0820509273891026}. Best is trial 6 with value: 0.7710469697296117.\n0/1800\n0/1800\n0/18000/600\n\n0/18000/18000/1800\n\n\n0/600\n0/600\n1000/1800\n1000/18001000/18001000/1800\n\n\n1000/18001000/18001000/1800\n\n\n[I 2020-08-27 06:42:20,768] Trial 58 finished with value: 0.565266971943611 and parameters: {'exp_cost': 2.3833230263237084, 'gamma': 1.976390547327707}. Best is trial 6 with value: 0.7710469697296117.\n0/600\n0/6000/600\n0/1800\n\n0/600\n0/6000/6000/600\n\n\n1000/1800\n0/600\n[I 2020-08-27 06:43:19,390] Trial 59 finished with value: 0.5229468516881168 and parameters: {'exp_cost': 2.355011636952312, 'gamma': 2.1196710743852374}. Best is trial 6 with value: 0.7710469697296117.\n0/1800\n1000/1800\n0/600\n0/1800\n1000/1800\n0/600\n0/1800\n0/1800\n1000/1800\n1000/1800\n0/600\n0/600\n0/1800\n0/1800\n0/1800\n0/1800\n1000/1800\n0/18000/1800\n\n0/1800\n0/1800\n1000/1800\n0/600\n1000/18001000/1800\n\n1000/1800\n1000/1800\n1000/1800\n0/1800\n1000/1800\n0/600\n0/6000/600\n0/600\n\n0/600\n0/600\n1000/1800\n0/600\n0/600\n0/1800\n1000/1800\n0/600\n0/1800\n0/1800\n1000/1800\n1000/1800\n0/600\n0/600\n[I 2020-08-27 06:50:07,200] Trial 60 finished with value: 0.5315361133134835 and parameters: {'exp_cost': 2.5016719686054234, 'gamma': 2.0894734952800045}. Best is trial 6 with value: 0.7710469697296117.\n0/1800\n1000/1800\n0/600\n0/1800\n1000/1800\n0/1800\n0/1800\n0/18000/1800\n\n0/1800\n0/1800\n0/1800\n0/600\n1000/1800\n1000/18001000/1800\n\n1000/1800\n1000/1800\n1000/18001000/1800\n\n0/1800\n0/6000/600\n\n0/600\n0/600\n0/6000/600\n\n0/600\n0/1800\n0/1800\n1000/1800\n1000/1800\n1000/1800\n0/600\n0/600\n0/600\n0/1800\n1000/1800\n0/600\n[I 2020-08-27 06:54:21,520] Trial 61 finished with value: 0.5126833319312376 and parameters: {'exp_cost': 2.329929114690417, 'gamma': 2.1771233182698913}. Best is trial 6 with value: 0.7710469697296117.\n0/1800\n1000/1800\n0/600\n[I 2020-08-27 06:54:54,688] Trial 62 finished with value: 0.5275154260634128 and parameters: {'exp_cost': 2.4268977721668534, 'gamma': 2.0945808849193126}. Best is trial 6 with value: 0.7710469697296117.\n0/1800\n0/1800\n[I 2020-08-27 06:54:55,853] Trial 63 finished with value: 0.5265424689861283 and parameters: {'exp_cost': 4.168237579944202, 'gamma': 2.098325166726685}. Best is trial 6 with value: 0.7710469697296117.\n[I 2020-08-27 06:54:55,875] Trial 64 finished with value: 0.5480652056495406 and parameters: {'exp_cost': 2.459638960442801, 'gamma': 2.024258002417206}. Best is trial 6 with value: 0.7710469697296117.\n0/1800\n0/18000/18000/1800\n\n\n0/1800\n[I 2020-08-27 06:55:05,156] Trial 65 finished with value: 0.4965197300822043 and parameters: {'exp_cost': 2.488841787611169, 'gamma': 2.217761995819961}. Best is trial 6 with value: 0.7710469697296117.\n1000/1800\n[I 2020-08-27 06:55:07,387] Trial 67 finished with value: 0.5378904555254915 and parameters: {'exp_cost': 2.4196506477874107, 'gamma': 2.0639845687251297}. Best is trial 6 with value: 0.7710469697296117.\n1000/1800\n0/1800\n[I 2020-08-27 06:55:07,403] Trial 66 finished with value: 0.5208658525464511 and parameters: {'exp_cost': 2.4305667568293816, 'gamma': 2.125329916838133}. Best is trial 6 with value: 0.7710469697296117.0/1800\n\n1000/1800\n1000/18001000/1800\n\n1000/18001000/18000/1800\n\n\n0/600\n1000/18000/600\n\n1000/1800\n0/6000/600\n\n0/600\n0/600\n0/6001000/18000/1800\n\n\n0/600\n0/600\n1000/18000/600\n\n0/600\n0/1800\n1000/1800\n0/600\n0/1800\n0/1800\n[I 2020-08-27 06:59:13,578] Trial 71 finished with value: 0.7674356036024106 and parameters: {'exp_cost': 1.9707543032737276, 'gamma': 0.5672836578441868}. Best is trial 6 with value: 0.7710469697296117.\n0/1800\n1000/1800\n0/1800\n[I 2020-08-27 06:59:19,062] Trial 68 finished with value: 0.6006701671874727 and parameters: {'exp_cost': 2.4186860265329937, 'gamma': 1.8585155346169597}. Best is trial 6 with value: 0.7710469697296117.\n[I 2020-08-27 06:59:19,779] Trial 69 finished with value: 0.4595122268288607 and parameters: {'exp_cost': 2.1443209321194856, 'gamma': 2.3342430998744956}. Best is trial 6 with value: 0.7710469697296117.\n0/18000/1800[I 2020-08-27 06:59:20,522]\n\n Trial 70 finished with value: 0.5038013573363673 and parameters: {'exp_cost': 1.9376386780693517, 'gamma': 2.2092517082276637}. Best is trial 6 with value: 0.7710469697296117.0/1800\n\n1000/1800\n0/18000/1800\n\n0/18000/1800\n\n1000/18000/600\n\n1000/1800\n1000/18001000/1800\n\n1000/1800\n0/600\n1000/18001000/1800\n0/1800\n1000/1800\n\n1000/1800\n0/600\n0/600\n0/6000/6000/600\n\n\n0/6000/6000/600\n\n\n1000/1800\n0/600\n0/600\n0/1800\n1000/1800\n0/600\n0/1800\n1000/1800\n0/600\n0/1800\n1000/1800\n0/1800\n0/18000/1800\n\n0/600\n0/1800\n0/18000/18000/1800\n[I 2020-08-27 07:03:41,659]\n\n Trial 72 finished with value: 0.7647426774169213 and parameters: {'exp_cost': 1.8955048968152493, 'gamma': 0.6199014398291423}. Best is trial 6 with value: 0.7710469697296117.0/1800\n\n0/1800\n1000/1800\n1000/1800\n1000/1800\n1000/1800\n1000/1800\n1000/18001000/1800\n\n1000/1800\n1000/1800\n0/600\n0/600\n0/600\n0/600\n0/6000/600\n0/600\n\n0/600\n0/600\n0/1800\n1000/1800\n0/600\n0/1800\n1000/1800\n0/600\n0/1800\n1000/1800\n0/600\n0/1800\n1000/1800\n0/1800\n0/600\n0/1800\n0/1800[I 2020-08-27 07:08:00,006] Trial 73 finished with value: 0.7672600752984977 and parameters: {'exp_cost': 1.9600054748270812, 'gamma': 0.5811600164110803}. Best is trial 6 with value: 0.7710469697296117.\n\n0/18000/18000/1800\n\n0/18000/1800\n\n\n1000/1800\n1000/1800\n1000/1800\n1000/18001000/1800\n1000/1800\n\n1000/1800\n1000/1800\n0/600\n0/600\n[I 2020-08-27 07:08:31,155] Trial 74 finished with value: 0.7674356036024106 and parameters: {'exp_cost': 3.5609923194661914, 'gamma': 0.5664038216945662}. Best is trial 6 with value: 0.7710469697296117.\n0/18000/600\n0/600\n0/6000/600\n\n0/6000/600\n\n\n[I 2020-08-27 07:08:38,783] Trial 75 finished with value: 0.7665439635854983 and parameters: {'exp_cost': 1.9020373211611705, 'gamma': 0.5276502617336609}. Best is trial 6 with value: 0.7710469697296117.\n0/1800\n1000/1800\n1000/1800\n0/600\n0/600\n0/1800\n1000/1800\n0/600\n[I 2020-08-27 07:10:52,512] Trial 76 finished with value: 0.7671062691399042 and parameters: {'exp_cost': 2.0485707395789383, 'gamma': 0.5824646188188459}. Best is trial 6 with value: 0.7710469697296117.\n0/1800\n1000/1800\n0/600\n0/1800\n1000/1800\n0/600\n0/1800\n1000/1800\n0/1800\n0/1800\n[I 2020-08-27 07:12:17,426] Trial 79 finished with value: 0.7673505659176435 and parameters: {'exp_cost': 1.9808173651111791, 'gamma': 0.45067928163031573}. Best is trial 6 with value: 0.7710469697296117.\n[I 2020-08-27 07:12:17,600] Trial 77 finished with value: 0.7678237222270813 and parameters: {'exp_cost': 1.8676286225631578, 'gamma': 0.4698837238393096}. Best is trial 6 with value: 0.7710469697296117.\n[I 2020-08-27 07:12:18,186] Trial 78 finished with value: 0.7678237222270813 and parameters: {'exp_cost': 1.8649935740590278, 'gamma': 0.47411269799665995}. Best is trial 6 with value: 0.7710469697296117.\n0/600\n0/1800\n0/18000/1800\n\n0/1800\n0/1800\n0/1800\n1000/1800\n1000/1800\n1000/1800\n1000/18001000/18001000/1800\n\n\n[I 2020-08-27 07:12:38,362] Trial 80 finished with value: 0.7665439635854983 and parameters: {'exp_cost': 1.8701811968370323, 'gamma': 0.531119566921398}. Best is trial 6 with value: 0.7710469697296117.\n1000/1800\n1000/1800\n0/1800\n0/600\n0/600\n0/600\n0/6000/600\n\n0/600\n0/600\n0/600\n1000/1800\n0/600\n0/1800\n1000/1800\n0/600\n[I 2020-08-27 07:14:34,902] Trial 81 finished with value: 0.7672600752984977 and parameters: {'exp_cost': 1.8505619624889507, 'gamma': 0.5789246146292908}. Best is trial 6 with value: 0.7710469697296117.\n0/1800\n1000/1800\n0/600\n[I 2020-08-27 07:15:28,718] Trial 83 finished with value: 0.7650544448338374 and parameters: {'exp_cost': 1.788441844621948, 'gamma': 0.602645818972869}. Best is trial 6 with value: 0.7710469697296117.\n0/1800\n1000/1800\n0/600\n[I 2020-08-27 07:16:32,552] Trial 82 finished with value: 0.7663908805679016 and parameters: {'exp_cost': 3.518666178244086, 'gamma': 0.5547832273304676}. Best is trial 6 with value: 0.7710469697296117.\n0/1800\n0/1800\n0/1800\n0/1800\n0/1800\n0/1800\n1000/18000/1800\n0/1800\n\n0/1800\n1000/1800\n0/1800\n1000/18001000/1800\n\n1000/1800\n1000/1800\n1000/18001000/1800\n\n1000/18000/600\n\n0/600\n1000/1800\n0/6000/600\n\n0/600\n0/600\n0/600\n0/600\n0/600\n0/1800\n0/600\n1000/1800\n0/600\n0/1800\n1000/1800\n0/600\n0/1800\n0/1800\n1000/1800\n0/1800\n[I 2020-08-27 07:20:54,789] Trial 84 finished with value: 0.7665439635854983 and parameters: {'exp_cost': 1.8072469690202186, 'gamma': 0.5244625254431347}. Best is trial 6 with value: 0.7710469697296117.\n1000/1800\n0/18000/1800\n\n0/6000/1800\n\n0/1800\n0/18000/1800\n0/1800\n\n0/1800\n1000/1800\n0/600\n1000/18001000/1800\n\n0/1800\n1000/18001000/1800\n1000/1800\n\n1000/1800\n1000/18001000/1800\n\n0/600\n0/600\n0/600\n1000/1800\n0/6000/600\n\n0/600\n0/600\n0/600\n0/600\n0/600\n0/1800\n1000/1800\n0/600\n[I 2020-08-27 07:24:41,092] Trial 85 finished with value: 0.7669475184953558 and parameters: {'exp_cost': 1.7644940220542573, 'gamma': 0.5340064256133485}. Best is trial 6 with value: 0.7710469697296117.\n0/1800\n1000/1800\n0/600\n0/1800\n1000/1800\n[I 2020-08-27 07:25:02,935] Trial 86 finished with value: 0.7699029009470707 and parameters: {'exp_cost': 1.8101690029082813, 'gamma': 0.34346019737678396}. Best is trial 6 with value: 0.7710469697296117.\n0/1800\n0/600\n1000/1800\n0/600\n[I 2020-08-27 07:25:14,212] Trial 87 finished with value: 0.7672751802754433 and parameters: {'exp_cost': 1.8569119240199945, 'gamma': 0.4897660899310489}. Best is trial 6 with value: 0.7710469697296117.\n0/1800\n[I 2020-08-27 07:25:16,479] Trial 88 finished with value: 0.7691118355680178 and parameters: {'exp_cost': 1.8361622167941523, 'gamma': 0.4576425004337549}. Best is trial 6 with value: 0.7710469697296117.\n0/18000/1800\n\n0/1800\n0/18001000/1800\n0/1800\n0/1800\n\n1000/18001000/1800\n\n0/6001000/1800\n\n1000/1800\n1000/1800\n1000/1800\n0/600\n0/600\n0/600\n0/600\n0/6000/600\n\n0/1800\n1000/1800\n0/600\n0/1800\n0/1800\n1000/1800\n0/600\n1000/1800\n0/1800\n0/600\n1000/1800\n0/600\n0/1800\n1000/1800\n0/600\n[I 2020-08-27 07:29:10,763] Trial 89 finished with value: 0.6863382132420783 and parameters: {'exp_cost': 1.6106861218910913, 'gamma': 1.5260971487057104}. Best is trial 6 with value: 0.7710469697296117.\n[I 2020-08-27 07:29:12,877] Trial 90 finished with value: 0.6852762573378737 and parameters: {'exp_cost': 1.728493012408882, 'gamma': 1.5349501841347686}. Best is trial 6 with value: 0.7710469697296117.\n[I 2020-08-27 07:29:13,764] Trial 91 finished with value: 0.6702391639826291 and parameters: {'exp_cost': 1.7179472883234541, 'gamma': 1.6095750133616022}. Best is trial 6 with value: 0.7710469697296117.\n[I 2020-08-27 07:29:13,889] Trial 92 finished with value: 0.6962470958263782 and parameters: {'exp_cost': 1.6727661391739523, 'gamma': 1.444801548640876}. Best is trial 6 with value: 0.7710469697296117.\n[I 2020-08-27 07:29:13,890] Trial 94 finished with value: 0.6942256948075823 and parameters: {'exp_cost': 1.7113825229165243, 'gamma': 1.4621395257233485}. Best is trial 6 with value: 0.7710469697296117.\n[I 2020-08-27 07:29:13,990] Trial 93 finished with value: 0.6918840558226969 and parameters: {'exp_cost': 0.8970441055893577, 'gamma': 1.4943213676837814}. Best is trial 6 with value: 0.7710469697296117.\n[I 2020-08-27 07:29:49,045] Trial 95 finished with value: 0.6866635223086381 and parameters: {'exp_cost': 1.087737562456885, 'gamma': 1.5145821643100974}. Best is trial 6 with value: 0.7710469697296117.\n0/1800\n1000/1800\n0/600\n0/1800\n1000/1800\n0/600\n0/1800\n1000/1800\n0/600\n0/1800\n1000/1800\n0/600\n[I 2020-08-27 07:31:20,448] Trial 96 finished with value: 0.7386386865996859 and parameters: {'exp_cost': 0.8882141134678472, 'gamma': 0.21623965642187293}. Best is trial 6 with value: 0.7710469697296117.\n0/1800\n1000/1800\n0/600\n0/1800\n1000/1800\n0/600\n0/1800\n1000/1800\n0/600\n[I 2020-08-27 07:32:50,880] Trial 98 finished with value: 0.7509140270798809 and parameters: {'exp_cost': 1.02078284181895, 'gamma': 0.25241893133853577}. Best is trial 6 with value: 0.7710469697296117.\n[I 2020-08-27 07:33:12,579] Trial 97 finished with value: 0.6975459806292543 and parameters: {'exp_cost': 0.8204732752762007, 'gamma': 1.432356997745401}. Best is trial 6 with value: 0.7710469697296117.\n[I 2020-08-27 07:33:47,292] Trial 99 finished with value: 0.6669188432125506 and parameters: {'exp_cost': 0.9877150971492056, 'gamma': 1.6250867191428386}. Best is trial 6 with value: 0.7710469697296117.\n0/2400\n1000/2400\n2000/2400\n0/600\n0.7916315660985246\n0.7750594447241725\n"
    }
   ],
   "source": [
    "va_exp3 = experimento(mc.MetodoCompeticaoValidacao_A, 100, otimizador=ac.OtimizacaoObjetivoSVCRbfComGamma)\n",
    "print(va_exp3.macro_f1_avg)\n",
    "pickle.dump(va_exp3, open(f'resultados/va_exp3__{version}.p', 'wb'))"
   ]
  },
  {
   "cell_type": "code",
   "execution_count": 25,
   "metadata": {},
   "outputs": [],
   "source": [
    "def best_parameters(experiment: Experimento):\n",
    "    results = []\n",
    "    for study in experiment.studies_per_fold:\n",
    "        results.append((study.best_trial.value, study.best_trial.params))\n",
    "    results.sort()\n",
    "    return list(reversed(sorted(results)))"
   ]
  },
  {
   "cell_type": "code",
   "execution_count": 26,
   "metadata": {},
   "outputs": [
    {
     "output_type": "execute_result",
     "data": {
      "text/plain": "[(0.7748656683369575,\n  {'exp_cost': 2.8396028413359202, 'gamma': 0.10044264686563253}),\n (0.7713150375348421,\n  {'exp_cost': 3.5358372870319843, 'gamma': 0.3037386738033724}),\n (0.7710469697296117,\n  {'exp_cost': 1.9885718682534175, 'gamma': 0.1864966690101254}),\n (0.767809726920258,\n  {'exp_cost': 6.970886041746198, 'gamma': 0.5103347389648074}),\n (0.7599108317529109,\n  {'exp_cost': 2.9282736343005484, 'gamma': 0.568650786629858})]"
     },
     "metadata": {},
     "execution_count": 26
    }
   ],
   "source": [
    "params = best_parameters(va_exp3)\n",
    "params"
   ]
  },
  {
   "cell_type": "code",
   "execution_count": null,
   "metadata": {},
   "outputs": [],
   "source": []
  }
 ]
}