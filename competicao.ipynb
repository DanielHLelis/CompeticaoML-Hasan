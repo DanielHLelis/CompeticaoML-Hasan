{
 "metadata": {
  "language_info": {
   "codemirror_mode": {
    "name": "ipython",
    "version": 3
   },
   "file_extension": ".py",
   "mimetype": "text/x-python",
   "name": "python",
   "nbconvert_exporter": "python",
   "pygments_lexer": "ipython3",
   "version": "3.6.10-final"
  },
  "orig_nbformat": 2,
  "kernelspec": {
   "name": "python_defaultSpec_1597867726525",
   "display_name": "Python 3.6.10 64-bit ('hasan': conda)"
  }
 },
 "nbformat": 4,
 "nbformat_minor": 2,
 "cells": [
  {
   "cell_type": "markdown",
   "metadata": {},
   "source": [
    "## Resumo\n",
    "\n",
    "### Parâmetros\n",
    "\n",
    "Os parâmetros usados sãos os padrões pré-definidos, não foram feitas nenhuma algteração nos parâmetros até o momento\n",
    "\n",
    "### Representação adotada\n",
    "\n",
    "A representação é a original do DataFrame com algumas pequenas modificações:\n",
    "\n",
    "- Os atores e escritopres foram transformados em uma _Bag of Items_\n",
    "- O título e resumo foram transformados em uma _Bag of Words_\n",
    "\n",
    "Para chegar nessa representação, analisamos uma forma de melhor utilizar as colunas modificadas.\n",
    "\n",
    "### Método adotado\n",
    "\n",
    "O método adotado foi um classificador SVM"
   ]
  },
  {
   "cell_type": "code",
   "execution_count": 1,
   "metadata": {},
   "outputs": [],
   "source": [
    "import pandas as pd\n",
    "import numpy as np\n",
    "from competicao_am.gerar_resultado_teste import resultado_teste, gerar_saida_teste"
   ]
  },
  {
   "cell_type": "code",
   "execution_count": 2,
   "metadata": {},
   "outputs": [],
   "source": [
    "df_treino = pd.read_csv('datasets/movies_amostra.csv')\n",
    "df_predict = pd.read_csv('datasets/movies_amostra_teste_ex.csv')"
   ]
  },
  {
   "cell_type": "markdown",
   "metadata": {},
   "source": [
    "## Otimização dos parâmetros"
   ]
  },
  {
   "cell_type": "code",
   "execution_count": 3,
   "metadata": {},
   "outputs": [],
   "source": [
    "import optuna\n",
    "import pickle # Serialização dos resultados"
   ]
  },
  {
   "cell_type": "code",
   "execution_count": 4,
   "metadata": {},
   "outputs": [],
   "source": [
    "import matplotlib.pyplot as plt\n",
    "from IPython.display import display\n",
    "from sklearn import svm\n",
    "\n",
    "from base_am.resultado import Fold\n",
    "from base_am.avaliacao import Experimento\n",
    "from competicao_am.metodo_competicao import MetodoCompeticao\n",
    "import competicao_am.avaliacao_competicao as avaliacao"
   ]
  },
  {
   "cell_type": "markdown",
   "metadata": {},
   "source": [
    "## Um pouco sobre SVC's\n",
    "\n",
    "### Kernel\n",
    "\n",
    "O `kernel` indica o tipo de \"hiper-plano\" usado para separar as classes.\n",
    "\n",
    "Os kernels a serem considerados são: `linear`, `rbf` e `poly`\n",
    "\n",
    "#### `poly`: degree\n",
    "\n",
    "Grau do polinômio a ser usado. Quanto maior o valor, maior o tempo gasto para o treino.\n",
    "\n",
    "### gamma\n",
    "\n",
    "Parâmetro usado para \"hiper-planos\" não lineares. Quanto maior, mais ele tenta en encaixar o modelo perfeitamente.\n",
    "\n",
    "Valores muito altos caminhão em direção de um _overfitting_.\n",
    "\n",
    "### C\n",
    "\n",
    "C é o parâmetro de penalidade do erro. Ele controla o prejuízo entre paredes de decisões suaves e classificar os pontos corretamente.\n",
    "\n"
   ]
  },
  {
   "cell_type": "code",
   "execution_count": 6,
   "metadata": {},
   "outputs": [
    {
     "output_type": "error",
     "ename": "TypeError",
     "evalue": "__init__() missing 1 required positional argument: 'ml_method'",
     "traceback": [
      "\u001b[1;31m---------------------------------------------------------------------------\u001b[0m",
      "\u001b[1;31mTypeError\u001b[0m                                 Traceback (most recent call last)",
      "\u001b[1;32m<ipython-input-6-9231fa5b6747>\u001b[0m in \u001b[0;36m<module>\u001b[1;34m\u001b[0m\n\u001b[0;32m      5\u001b[0m \u001b[1;33m\u001b[0m\u001b[0m\n\u001b[0;32m      6\u001b[0m \u001b[1;31m# Aumentar as trials posteriormente\u001b[0m\u001b[1;33m\u001b[0m\u001b[1;33m\u001b[0m\u001b[1;33m\u001b[0m\u001b[0m\n\u001b[1;32m----> 7\u001b[1;33m \u001b[0mexperimento\u001b[0m \u001b[1;33m=\u001b[0m \u001b[0mExperimento\u001b[0m\u001b[1;33m(\u001b[0m\u001b[0mfolds\u001b[0m\u001b[1;33m,\u001b[0m \u001b[0mClasseObjetivoOtimizacao\u001b[0m\u001b[1;33m=\u001b[0m\u001b[0mClasseObjetivo\u001b[0m\u001b[1;33m,\u001b[0m \u001b[0mnum_trials\u001b[0m\u001b[1;33m=\u001b[0m\u001b[1;36m2\u001b[0m\u001b[1;33m)\u001b[0m\u001b[1;33m\u001b[0m\u001b[1;33m\u001b[0m\u001b[0m\n\u001b[0m",
      "\u001b[1;31mTypeError\u001b[0m: __init__() missing 1 required positional argument: 'ml_method'"
     ]
    }
   ],
   "source": [
    "folds = Fold.gerar_k_folds(df_treino, val_k=5, col_classe=\"genero\",\n",
    "                            num_repeticoes=1, num_folds_validacao=4, num_repeticoes_validacao=1)\n",
    "\n",
    "ClasseObjetivo = avaliacao.OtimizacaoObjetivoSVCPoly\n",
    "\n",
    "# Aumentar as trials posteriormente\n",
    "experimento = Experimento(folds, ClasseObjetivoOtimizacao=ClasseObjetivo, num_trials=2)"
   ]
  },
  {
   "cell_type": "code",
   "execution_count": null,
   "metadata": {},
   "outputs": [],
   "source": []
  }
 ]
}