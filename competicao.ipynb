{
 "metadata": {
  "language_info": {
   "codemirror_mode": {
    "name": "ipython",
    "version": 3
   },
   "file_extension": ".py",
   "mimetype": "text/x-python",
   "name": "python",
   "nbconvert_exporter": "python",
   "pygments_lexer": "ipython3",
   "version": "3.6.10-final"
  },
  "orig_nbformat": 2,
  "kernelspec": {
   "name": "python_defaultSpec_1598758604491",
   "display_name": "Python 3.6.10 64-bit ('hasan': conda)"
  }
 },
 "nbformat": 4,
 "nbformat_minor": 2,
 "cells": [
  {
   "cell_type": "markdown",
   "metadata": {},
   "source": [
    "## Membros\n",
    "\n",
    "- Amanda Oliveira\n",
    "- Daniel Henrique\n",
    "- Samuel Pedro\n",
    "\n",
    "## Resumo\n",
    "\n",
    "### Parâmetros\n",
    "\n",
    "Será usado um kernel `rbf` em um kernel SVC. O `C` será otimizado pelo Optuna a fim de obter um resultado melhor. O `gamma` foi deixado no valor padrão que é `scale`, a fórmula referente a esse valor está disponível na documentação do scikit-learn.\n",
    "\n",
    "### Representação adotada\n",
    "\n",
    "A representação adotada foi escalar os valores númericos com um scaler do sklearn (no momento, um RobustScaler). Criar uma bag of words a partir do resumo. Criar uma bag of items com o elenco. Extrair o ano da data de estreia. E, por fim, descartar a história original e o titulo por não serem tão relevantes para os resultados. A coluna \"adulo\" foi deixada mesmo estando distribuida de maneira extremamente desuniforme, assumindo-se que o modelo irá incorporá-la melhor caso ela seja distribuída mais uniformemente.\n",
    "\n",
    "Porém, o resultado mais efeitvo usa apenas a bag of words e a bag of items, descartando os demais fatores. Isso provavelmente está relacionado com a grande ausência de informações (NaNs) dos demais parâmetros.\n",
    "\n",
    "### Método adotado\n",
    "\n",
    "O método adotado foi um classificador SVC com um kernel `rbf`, já que sua acurácia se mostrou maior que o `linear`. O kernel `poly` não foi testado por falta de tempo, mas espera-se que ele seja menos preciso em grais baixos ou consideravelmente mais lento em grais altos. \n",
    "\n",
    "Os resultados do método Random Forest são levemente inferiores, mas conseguem incorporar mais informações para a predição.\n",
    "\n",
    "## Pós-análise\n",
    "\n",
    "Após algumas reflexões, percebeu-se que o modelo era altamente dependente ao resumo, o que não é algo necessariamente ruim. Por conta disso, decidimos adotar uma representação que consiste basicamente do resumo com uma limpeza aplicada por cima. Para os filmes que não se têm um resumo, usaremos um segundo modelo baseado em RandomForest para prever a categoria baseando-se nos demais parâmetros, caso esse modelo mostre-se insuficientemente preciso, substituiremos-o por uma escolha fixa do gênero comédia, já que esse é o valor estatisticamente mais comum para esse caso de borda em específico."
   ]
  },
  {
   "cell_type": "code",
   "execution_count": 1,
   "metadata": {},
   "outputs": [],
   "source": [
    "import pandas as pd\n",
    "import numpy as np\n",
    "from competicao_am.gerar_resultado_teste import gerar_saida_teste"
   ]
  },
  {
   "cell_type": "code",
   "execution_count": 2,
   "metadata": {},
   "outputs": [
    {
     "output_type": "execute_result",
     "data": {
      "text/plain": "       id                         titulo  adulto  orcamento idioma_original  \\\n0   86295  Treasure of the Yankee Zephyr   False          0              en   \n1  289198                       Redeemer   False          0              es   \n\n   popularidade data_de_estreia  \\\n0           2.0      1981-11-28   \n1           2.0      2014-09-18   \n\n                                              resumo  receita  duracao  \\\n0  In a lake high in the mountains of New Zealand...      0.0    108.0   \n1  A former hit-man for a drug cartel becomes a v...      0.0     88.0   \n\n   genero       ator_1             ator_2             ator_3           ator_4  \\\n0  Action     Ken Wahl  Lesley Ann Warren   Donald Pleasence   George Peppard   \n1  Action  Marko Zaror     Loreto Aravena  Mauricio Diocares  José Luís Mósca   \n\n           ator_5           dirigido_por     escrito_por_1 escrito_por_2  \\\n0  Bruno Lawrence         David Hemmings  Everett De Roche           NaN   \n1      Noah Segan  Ernesto Díaz Espinoza               NaN           NaN   \n\n  historia_original  \n0               NaN  \n1               NaN  ",
      "text/html": "<div>\n<style scoped>\n    .dataframe tbody tr th:only-of-type {\n        vertical-align: middle;\n    }\n\n    .dataframe tbody tr th {\n        vertical-align: top;\n    }\n\n    .dataframe thead th {\n        text-align: right;\n    }\n</style>\n<table border=\"1\" class=\"dataframe\">\n  <thead>\n    <tr style=\"text-align: right;\">\n      <th></th>\n      <th>id</th>\n      <th>titulo</th>\n      <th>adulto</th>\n      <th>orcamento</th>\n      <th>idioma_original</th>\n      <th>popularidade</th>\n      <th>data_de_estreia</th>\n      <th>resumo</th>\n      <th>receita</th>\n      <th>duracao</th>\n      <th>genero</th>\n      <th>ator_1</th>\n      <th>ator_2</th>\n      <th>ator_3</th>\n      <th>ator_4</th>\n      <th>ator_5</th>\n      <th>dirigido_por</th>\n      <th>escrito_por_1</th>\n      <th>escrito_por_2</th>\n      <th>historia_original</th>\n    </tr>\n  </thead>\n  <tbody>\n    <tr>\n      <th>0</th>\n      <td>86295</td>\n      <td>Treasure of the Yankee Zephyr</td>\n      <td>False</td>\n      <td>0</td>\n      <td>en</td>\n      <td>2.0</td>\n      <td>1981-11-28</td>\n      <td>In a lake high in the mountains of New Zealand...</td>\n      <td>0.0</td>\n      <td>108.0</td>\n      <td>Action</td>\n      <td>Ken Wahl</td>\n      <td>Lesley Ann Warren</td>\n      <td>Donald Pleasence</td>\n      <td>George Peppard</td>\n      <td>Bruno Lawrence</td>\n      <td>David Hemmings</td>\n      <td>Everett De Roche</td>\n      <td>NaN</td>\n      <td>NaN</td>\n    </tr>\n    <tr>\n      <th>1</th>\n      <td>289198</td>\n      <td>Redeemer</td>\n      <td>False</td>\n      <td>0</td>\n      <td>es</td>\n      <td>2.0</td>\n      <td>2014-09-18</td>\n      <td>A former hit-man for a drug cartel becomes a v...</td>\n      <td>0.0</td>\n      <td>88.0</td>\n      <td>Action</td>\n      <td>Marko Zaror</td>\n      <td>Loreto Aravena</td>\n      <td>Mauricio Diocares</td>\n      <td>José Luís Mósca</td>\n      <td>Noah Segan</td>\n      <td>Ernesto Díaz Espinoza</td>\n      <td>NaN</td>\n      <td>NaN</td>\n      <td>NaN</td>\n    </tr>\n  </tbody>\n</table>\n</div>"
     },
     "metadata": {},
     "execution_count": 2
    }
   ],
   "source": [
    "df_treino = pd.read_csv('datasets/movies_amostra.csv')\n",
    "df_predict = pd.read_csv('datasets/movies_amostra_teste_ex.csv')\n",
    "\n",
    "df_treino.head(2)"
   ]
  },
  {
   "cell_type": "code",
   "execution_count": 3,
   "metadata": {},
   "outputs": [
    {
     "output_type": "execute_result",
     "data": {
      "text/plain": "Index(['resumo_aanmodderfakker', 'resumo_aaron', 'resumo_aarons',\n       'resumo_aashirvad', 'resumo_aback', 'resumo_abalaba', 'resumo_abandon',\n       'resumo_abandoned', 'resumo_abandoning', 'resumo_abandonment',\n       ...\n       'resumo_zooey', 'resumo_zookeeper', 'resumo_zooms', 'resumo_zords',\n       'resumo_zulu', 'resumo_zulus', 'resumo_zvezda', 'resumo_zwariowana',\n       'resumo_zxz', 'resumo_zyga'],\n      dtype='object', length=18697)"
     },
     "metadata": {},
     "execution_count": 3
    }
   ],
   "source": [
    "from competicao_am.preprocessamento_atributos_competicao import DataframePreprocessing\n",
    "\n",
    "preprocessor = DataframePreprocessing(df_treino, df_treino, 'genero')\n",
    "\n",
    "len(preprocessor.df_resumo()[0].columns)\n",
    "\n",
    "preprocessor.df_resumo()[0].columns"
   ]
  },
  {
   "cell_type": "markdown",
   "metadata": {},
   "source": [
    "## Otimização dos parâmetros"
   ]
  },
  {
   "cell_type": "code",
   "execution_count": 4,
   "metadata": {},
   "outputs": [],
   "source": [
    "import optuna\n",
    "import pickle # Serialização dos resultados"
   ]
  },
  {
   "cell_type": "code",
   "execution_count": 5,
   "metadata": {},
   "outputs": [],
   "source": [
    "import matplotlib.pyplot as plt\n",
    "from sklearn import svm\n",
    "\n",
    "from base_am.resultado import Fold\n",
    "from base_am.avaliacao import Experimento\n",
    "import competicao_am.metodo_competicao as mc\n",
    "import competicao_am.avaliacao_competicao as ac"
   ]
  },
  {
   "cell_type": "markdown",
   "metadata": {},
   "source": [
    "## Um pouco sobre SVC's\n",
    "\n",
    "### Kernel\n",
    "\n",
    "O `kernel` indica o tipo de \"hiper-plano\" usado para separar as classes.\n",
    "\n",
    "Os kernels a serem considerados são: `linear`, `rbf` e `poly`\n",
    "\n",
    "#### `poly`: degree\n",
    "\n",
    "Grau do polinômio a ser usado. Quanto maior o valor, maior o tempo gasto para o treino.\n",
    "\n",
    "### gamma\n",
    "\n",
    "Parâmetro usado para \"hiper-planos\" não lineares. Quanto maior, mais ele tenta en encaixar o modelo perfeitamente.\n",
    "\n",
    "Valores muito altos caminhão em direção de um _overfitting_.\n",
    "\n",
    "### C\n",
    "\n",
    "C é o parâmetro de penalidade do erro. Ele controla o prejuízo entre paredes de decisões suaves e classificar os pontos corretamente.\n",
    "\n"
   ]
  },
  {
   "cell_type": "markdown",
   "metadata": {},
   "source": [
    "Links úteis:\n",
    "\n",
    "- [A guide to SVM parameter tuning](https://towardsdatascience.com/a-guide-to-svm-parameter-tuning-8bfe6b8a452c)"
   ]
  },
  {
   "cell_type": "code",
   "execution_count": 6,
   "metadata": {},
   "outputs": [],
   "source": [
    "def experimento(metodo: mc.MetodoCompeticaoValidacaoSVM, num_trials: int = 2, otimizador:ac.OtimizacaoObjetivo = ac.OtimizacaoObjetivoSVCRbfComGamma, ml_method = None) -> Experimento:\n",
    "    folds = Fold.gerar_k_folds(df_treino, val_k=5, col_classe=\"genero\",\n",
    "                                num_repeticoes=1, num_folds_validacao=4, num_repeticoes_validacao=1)\n",
    "\n",
    "    ClasseObjetivo = ac.WrapperOtimizacaoObjetivo(otimizador, metodo=metodo)\n",
    "\n",
    "    experimento = Experimento(folds, ml_method=ml_method, ClasseObjetivoOtimizacao=ClasseObjetivo, num_trials=num_trials)\n",
    "\n",
    "    return experimento\n",
    "\n",
    "def best_parameters(experiment: Experimento):\n",
    "    results = []\n",
    "    for study in experiment.studies_per_fold:\n",
    "        results.append((study.best_trial.value, study.best_trial.params))\n",
    "    results.sort()\n",
    "    return list(reversed(sorted(results)))"
   ]
  },
  {
   "cell_type": "code",
   "execution_count": 7,
   "metadata": {},
   "outputs": [],
   "source": [
    "import pickle\n",
    "import os\n",
    "\n",
    "version = 2\n",
    "\n",
    "def do_experiment(name: str, metodo: mc.MetodoCompeticaoValidacaoSVM = None, num_trials: int = None, otimizador:ac.OtimizacaoObjetivo = None, ml_method = None, force: bool = False) -> Experimento:\n",
    "    global version\n",
    "\n",
    "    file_name = f'{name}__{version}.p'\n",
    "    file_path = f'resultados/{file_name}'\n",
    "\n",
    "    if not force and os.path.isfile(file_path):\n",
    "        exp = None\n",
    "\n",
    "        with open(file_path, 'rb') as exp_p:\n",
    "            exp = pickle.load(exp_p)\n",
    "            # Check instance here\n",
    "\n",
    "        return exp\n",
    "    \n",
    "    if ml_method is None and (metodo is None or num_trials is None or otimizador is None):\n",
    "        raise ValueError('To run the experiment, the appropriate parameters should be give (ml_method or metodo, num_trials and otimizador)')\n",
    "\n",
    "    exp = experimento(metodo=metodo, num_trials=num_trials, otimizador=otimizador, ml_method=ml_method)\n",
    "    macro_f1 = exp.macro_f1_avg\n",
    "\n",
    "    with open(file_path, 'wb') as exp_p:\n",
    "        # exp = pickle.dump(exp, exp_p)\n",
    "\n",
    "    return exp"
   ]
  },
  {
   "cell_type": "code",
   "execution_count": 17,
   "metadata": {
    "tags": []
   },
   "outputs": [
    {
     "output_type": "stream",
     "name": "stderr",
     "text": "value: 0.581781805708494 and parameters: {'min_samples_split': 0.11292769985146721, 'max_features': 0.39486239619628666, 'num_arvores': 2}. Best is trial 33 with value: 0.5886801037590487.\n[I 2020-08-31 20:24:26,587] Trial 918 finished with value: 0.581781805708494 and parameters: {'min_samples_split': 0.11365383423855148, 'max_features': 0.3954998979293513, 'num_arvores': 2}. Best is trial 33 with value: 0.5886801037590487.\n[I 2020-08-31 20:24:26,725] Trial 921 finished with value: 0.581781805708494 and parameters: {'min_samples_split': 0.11359321035712104, 'max_features': 0.24407411191464742, 'num_arvores': 2}. Best is trial 33 with value: 0.5886801037590487.\n[I 2020-08-31 20:24:26,746] Trial 922 finished with value: 0.581781805708494 and parameters: {'min_samples_split': 0.11110687184163331, 'max_features': 0.38966693047386386, 'num_arvores': 2}. Best is trial 33 with value: 0.5886801037590487.\n[I 2020-08-31 20:24:26,760] Trial 919 finished with value: 0.581781805708494 and parameters: {'min_samples_split': 0.11384536142352084, 'max_features': 0.24377933848315292, 'num_arvores': 2}. Best is trial 33 with value: 0.5886801037590487.\n[I 2020-08-31 20:24:26,859] Trial 923 finished with value: 0.581781805708494 and parameters: {'min_samples_split': 0.11179949189807914, 'max_features': 0.39279853588366603, 'num_arvores': 2}. Best is trial 33 with value: 0.5886801037590487.\n[I 2020-08-31 20:24:26,860] Trial 920 finished with value: 0.581781805708494 and parameters: {'min_samples_split': 0.11249758214431572, 'max_features': 0.39805829339664256, 'num_arvores': 2}. Best is trial 33 with value: 0.5886801037590487.\n[I 2020-08-31 20:24:27,001] Trial 924 finished with value: 0.5831191626080758 and parameters: {'min_samples_split': 0.11398136099383359, 'max_features': 0.39075121908097304, 'num_arvores': 2}. Best is trial 33 with value: 0.5886801037590487.\n[I 2020-08-31 20:24:27,426] Trial 925 finished with value: 0.5831191626080758 and parameters: {'min_samples_split': 0.11483408914353216, 'max_features': 0.389677750789008, 'num_arvores': 2}. Best is trial 33 with value: 0.5886801037590487.\n[I 2020-08-31 20:24:27,670] Trial 926 finished with value: 0.5736573699838414 and parameters: {'min_samples_split': 0.14966702270406868, 'max_features': 0.3674830186114356, 'num_arvores': 2}. Best is trial 33 with value: 0.5886801037590487.\n[I 2020-08-31 20:24:27,976] Trial 928 finished with value: 0.5748909179237253 and parameters: {'min_samples_split': 0.13903726996379803, 'max_features': 0.17968360560370875, 'num_arvores': 2}. Best is trial 33 with value: 0.5886801037590487.\n[I 2020-08-31 20:24:28,006] Trial 927 finished with value: 0.57366773310763 and parameters: {'min_samples_split': 0.1542828406857878, 'max_features': 0.17643386644293166, 'num_arvores': 2}. Best is trial 33 with value: 0.5886801037590487.\n[I 2020-08-31 20:24:28,045] Trial 930 finished with value: 0.57366773310763 and parameters: {'min_samples_split': 0.15316202038882304, 'max_features': 0.1974025631592329, 'num_arvores': 2}. Best is trial 33 with value: 0.5886801037590487.\n[I 2020-08-31 20:24:28,128] Trial 929 finished with value: 0.5736573699838414 and parameters: {'min_samples_split': 0.14741719728080493, 'max_features': 0.17760636347839515, 'num_arvores': 2}. Best is trial 33 with value: 0.5886801037590487.\n[I 2020-08-31 20:24:28,396] Trial 931 finished with value: 0.5748909179237253 and parameters: {'min_samples_split': 0.1370382381463948, 'max_features': 0.3245661538149285, 'num_arvores': 2}. Best is trial 33 with value: 0.5886801037590487.\n[I 2020-08-31 20:24:28,415] Trial 933 finished with value: 0.5679435455251951 and parameters: {'min_samples_split': 0.021199864203771207, 'max_features': 0.3501245274726606, 'num_arvores': 2}. Best is trial 33 with value: 0.5886801037590487.\n[I 2020-08-31 20:24:28,427] Trial 932 finished with value: 0.57366773310763 and parameters: {'min_samples_split': 0.1540346671379716, 'max_features': 0.3240261572548424, 'num_arvores': 2}. Best is trial 33 with value: 0.5886801037590487.\n[I 2020-08-31 20:24:28,482] Trial 934 finished with value: 0.5736573699838414 and parameters: {'min_samples_split': 0.15052350176686502, 'max_features': 0.3518030111145814, 'num_arvores': 2}. Best is trial 33 with value: 0.5886801037590487.\n[I 2020-08-31 20:24:28,645] Trial 936 finished with value: 0.5711410733357609 and parameters: {'min_samples_split': 0.15255205845230219, 'max_features': 0.3506926107743069, 'num_arvores': 2}. Best is trial 33 with value: 0.5886801037590487.\n[I 2020-08-31 20:24:28,681] Trial 935 finished with value: 0.5708321302489796 and parameters: {'min_samples_split': 0.15570311438189588, 'max_features': 0.3511334473212344, 'num_arvores': 2}. Best is trial 33 with value: 0.5886801037590487.\n[I 2020-08-31 20:24:28,913] Trial 937 finished with value: 0.5736573699838414 and parameters: {'min_samples_split': 0.14813043884516766, 'max_features': 0.36255580945953797, 'num_arvores': 2}. Best is trial 33 with value: 0.5886801037590487.\n[I 2020-08-31 20:24:29,215] Trial 938 finished with value: 0.5748909179237253 and parameters: {'min_samples_split': 0.13602595345077026, 'max_features': 0.32484995603128114, 'num_arvores': 2}. Best is trial 33 with value: 0.5886801037590487.\n[I 2020-08-31 20:24:29,532] Trial 939 finished with value: 0.5831625355038619 and parameters: {'min_samples_split': 0.13374892112635692, 'max_features': 0.36662554252962365, 'num_arvores': 2}. Best is trial 33 with value: 0.5886801037590487.\n[I 2020-08-31 20:24:29,571] Trial 940 finished with value: 0.5748909179237253 and parameters: {'min_samples_split': 0.1373590523827476, 'max_features': 0.36897652374695555, 'num_arvores': 2}. Best is trial 33 with value: 0.5886801037590487.\n[I 2020-08-31 20:24:29,682] Trial 941 finished with value: 0.5831625355038619 and parameters: {'min_samples_split': 0.13348385578141497, 'max_features': 0.14705307362353237, 'num_arvores': 2}. Best is trial 33 with value: 0.5886801037590487.\n[I 2020-08-31 20:24:29,741] Trial 942 finished with value: 0.5748909179237253 and parameters: {'min_samples_split': 0.13679870861218701, 'max_features': 0.36946517119961997, 'num_arvores': 2}. Best is trial 33 with value: 0.5886801037590487.\n[I 2020-08-31 20:24:30,072] Trial 946 finished with value: 0.5752414013257698 and parameters: {'min_samples_split': 0.10315667456739261, 'max_features': 0.38945314552355337, 'num_arvores': 2}. Best is trial 33 with value: 0.5886801037590487.\n[I 2020-08-31 20:24:30,144] Trial 943 finished with value: 0.5748909179237253 and parameters: {'min_samples_split': 0.13588604841262933, 'max_features': 0.38899306532904976, 'num_arvores': 2}. Best is trial 33 with value: 0.5886801037590487.\n[I 2020-08-31 20:24:30,163] Trial 947 finished with value: 0.5789592907710027 and parameters: {'min_samples_split': 0.09075132818125739, 'max_features': 0.3883017365872294, 'num_arvores': 2}. Best is trial 33 with value: 0.5886801037590487.\n[I 2020-08-31 20:24:30,409] Trial 948 finished with value: 0.5814960002532938 and parameters: {'min_samples_split': 0.13520081673827344, 'max_features': 0.40658656925589937, 'num_arvores': 2}. Best is trial 33 with value: 0.5886801037590487.\n[I 2020-08-31 20:24:30,487] Trial 949 finished with value: 0.5748909179237253 and parameters: {'min_samples_split': 0.13613294550101684, 'max_features': 0.4090637405281529, 'num_arvores': 2}. Best is trial 33 with value: 0.5886801037590487.\n[I 2020-08-31 20:24:30,660] Trial 945 finished with value: 0.5728967465623089 and parameters: {'min_samples_split': 0.13421154882710545, 'max_features': 0.3688670800573592, 'num_arvores': 4}. Best is trial 33 with value: 0.5886801037590487.\n[I 2020-08-31 20:24:30,689] Trial 950 finished with value: 0.5814960002532938 and parameters: {'min_samples_split': 0.13512934547835254, 'max_features': 0.34311770799647573, 'num_arvores': 2}. Best is trial 33 with value: 0.5886801037590487.\n[I 2020-08-31 20:24:30,875] Trial 944 finished with value: 0.5728967465623089 and parameters: {'min_samples_split': 0.13387245624284655, 'max_features': 0.3886615541952998, 'num_arvores': 4}. Best is trial 33 with value: 0.5886801037590487.\n[I 2020-08-31 20:24:31,119] Trial 951 finished with value: 0.5752414013257698 and parameters: {'min_samples_split': 0.1028686745586953, 'max_features': 0.3884665641951634, 'num_arvores': 2}. Best is trial 33 with value: 0.5886801037590487.\n[I 2020-08-31 20:24:31,168] Trial 952 finished with value: 0.5789592907710027 and parameters: {'min_samples_split': 0.09097443463990997, 'max_features': 0.34581458569995566, 'num_arvores': 2}. Best is trial 33 with value: 0.5886801037590487.\n[I 2020-08-31 20:24:31,383] Trial 953 finished with value: 0.5781987785662777 and parameters: {'min_samples_split': 0.08714203227748335, 'max_features': 0.339915385218628, 'num_arvores': 2}. Best is trial 33 with value: 0.5886801037590487.\n[I 2020-08-31 20:24:31,418] Trial 954 finished with value: 0.579602034796654 and parameters: {'min_samples_split': 0.08955589226184846, 'max_features': 0.3458598994903103, 'num_arvores': 2}. Best is trial 33 with value: 0.5886801037590487.\n[I 2020-08-31 20:24:31,558] Trial 956 finished with value: 0.5853576170855636 and parameters: {'min_samples_split': 0.12122831247809243, 'max_features': 0.33862032526079255, 'num_arvores': 2}. Best is trial 33 with value: 0.5886801037590487.\n[I 2020-08-31 20:24:31,683] Trial 955 finished with value: 0.5752414013257698 and parameters: {'min_samples_split': 0.10328055454184318, 'max_features': 0.2061256304999664, 'num_arvores': 2}. Best is trial 33 with value: 0.5886801037590487.\n[I 2020-08-31 20:24:31,787] Trial 957 finished with value: 0.53691414941421 and parameters: {'min_samples_split': 0.3562749343980116, 'max_features': 0.16798761224518804, 'num_arvores': 2}. Best is trial 33 with value: 0.5886801037590487.\n[I 2020-08-31 20:24:31,999] Trial 958 finished with value: 0.5853576170855636 and parameters: {'min_samples_split': 0.12155176203718555, 'max_features': 0.41746139938362564, 'num_arvores': 2}. Best is trial 33 with value: 0.5886801037590487.\n[I 2020-08-31 20:24:32,045] Trial 959 finished with value: 0.5886801037590487 and parameters: {'min_samples_split': 0.12425642050921906, 'max_features': 0.4231628439010983, 'num_arvores': 2}. Best is trial 33 with value: 0.5886801037590487.\n[I 2020-08-31 20:24:32,233] Trial 961 finished with value: 0.5752414013257698 and parameters: {'min_samples_split': 0.10377278599609392, 'max_features': 0.332877557427936, 'num_arvores': 2}. Best is trial 33 with value: 0.5886801037590487.\n[I 2020-08-31 20:24:32,311] Trial 960 finished with value: 0.5853576170855636 and parameters: {'min_samples_split': 0.11981334358104351, 'max_features': 0.33700149326270135, 'num_arvores': 2}. Best is trial 33 with value: 0.5886801037590487.\n[I 2020-08-31 20:24:32,513] Trial 962 finished with value: 0.5853576170855636 and parameters: {'min_samples_split': 0.11953495885363218, 'max_features': 0.33259458664199176, 'num_arvores': 2}. Best is trial 33 with value: 0.5886801037590487.\n[I 2020-08-31 20:24:32,545] Trial 963 finished with value: 0.5853576170855636 and parameters: {'min_samples_split': 0.11957309081767781, 'max_features': 0.2892405588868314, 'num_arvores': 2}. Best is trial 33 with value: 0.5886801037590487.\n[I 2020-08-31 20:24:32,601] Trial 964 finished with value: 0.5853576170855636 and parameters: {'min_samples_split': 0.11984524886842418, 'max_features': 0.2261538435501252, 'num_arvores': 2}. Best is trial 33 with value: 0.5886801037590487.\n[I 2020-08-31 20:24:32,950] Trial 966 finished with value: 0.5853576170855636 and parameters: {'min_samples_split': 0.11801172268043496, 'max_features': 0.1808537980570648, 'num_arvores': 2}. Best is trial 33 with value: 0.5886801037590487.\n[I 2020-08-31 20:24:33,007] Trial 965 finished with value: 0.5886801037590487 and parameters: {'min_samples_split': 0.1224410156576114, 'max_features': 0.3374533983089803, 'num_arvores': 2}. Best is trial 33 with value: 0.5886801037590487.\n[I 2020-08-31 20:24:33,168] Trial 969 finished with value: 0.5853576170855636 and parameters: {'min_samples_split': 0.11927335836449554, 'max_features': 0.30373594084627925, 'num_arvores': 2}. Best is trial 33 with value: 0.5886801037590487.\n[I 2020-08-31 20:24:33,302] Trial 968 finished with value: 0.5853576170855636 and parameters: {'min_samples_split': 0.12013285994440465, 'max_features': 0.010592920049064702, 'num_arvores': 2}. Best is trial 33 with value: 0.5886801037590487.\n[I 2020-08-31 20:24:33,481] Trial 967 finished with value: 0.5853576170855636 and parameters: {'min_samples_split': 0.12056914623915226, 'max_features': 0.30757079149855626, 'num_arvores': 2}. Best is trial 33 with value: 0.5886801037590487.\n[I 2020-08-31 20:24:33,629] Trial 972 finished with value: 0.5853576170855636 and parameters: {'min_samples_split': 0.12105268731867788, 'max_features': 0.30173035473178034, 'num_arvores': 2}. Best is trial 33 with value: 0.5886801037590487.\n[I 2020-08-31 20:24:33,739] Trial 973 finished with value: 0.5759520160040146 and parameters: {'min_samples_split': 0.10674086110060987, 'max_features': 0.3058743059949769, 'num_arvores': 2}. Best is trial 33 with value: 0.5886801037590487.\n[I 2020-08-31 20:24:33,772] Trial 970 finished with value: 0.5853576170855636 and parameters: {'min_samples_split': 0.12104914679298087, 'max_features': 0.19018121781021988, 'num_arvores': 2}. Best is trial 33 with value: 0.5886801037590487.\n[I 2020-08-31 20:24:33,818] Trial 971 finished with value: 0.5853576170855636 and parameters: {'min_samples_split': 0.12067950571801314, 'max_features': 0.2915472106055785, 'num_arvores': 2}. Best is trial 33 with value: 0.5886801037590487.\n[I 2020-08-31 20:24:34,127] Trial 974 finished with value: 0.573795900996265 and parameters: {'min_samples_split': 0.14424569800494907, 'max_features': 0.3722035662624059, 'num_arvores': 2}. Best is trial 33 with value: 0.5886801037590487.\n[I 2020-08-31 20:24:34,134] Trial 976 finished with value: 0.573795900996265 and parameters: {'min_samples_split': 0.1441988550343367, 'max_features': 0.37085239606689474, 'num_arvores': 2}. Best is trial 33 with value: 0.5886801037590487.\n[I 2020-08-31 20:24:34,399] Trial 978 finished with value: 0.5736573699838414 and parameters: {'min_samples_split': 0.14493374461477662, 'max_features': 0.3732686985556054, 'num_arvores': 2}. Best is trial 33 with value: 0.5886801037590487.\n[I 2020-08-31 20:24:34,463] Trial 975 finished with value: 0.5883612859113678 and parameters: {'min_samples_split': 0.12751556342694953, 'max_features': 0.3710624495025512, 'num_arvores': 2}. Best is trial 33 with value: 0.5886801037590487.\n[I 2020-08-31 20:24:34,676] Trial 977 finished with value: 0.5774076341371783 and parameters: {'min_samples_split': 0.1430132206471577, 'max_features': 0.3729401420447216, 'num_arvores': 2}. Best is trial 33 with value: 0.5886801037590487.\n[I 2020-08-31 20:24:34,801] Trial 979 finished with value: 0.5736573699838414 and parameters: {'min_samples_split': 0.14623420352757788, 'max_features': 0.37366674696685526, 'num_arvores': 2}. Best is trial 33 with value: 0.5886801037590487.\n[I 2020-08-31 20:24:35,099] Trial 980 finished with value: 0.5748909179237253 and parameters: {'min_samples_split': 0.14183208408186182, 'max_features': 0.3744123738126532, 'num_arvores': 2}. Best is trial 33 with value: 0.5886801037590487.\n[I 2020-08-31 20:24:35,159] Trial 981 finished with value: 0.5736573699838414 and parameters: {'min_samples_split': 0.14537256149568933, 'max_features': 0.37449974486719007, 'num_arvores': 2}. Best is trial 33 with value: 0.5886801037590487.\n[I 2020-08-31 20:24:35,346] Trial 982 finished with value: 0.5883612859113678 and parameters: {'min_samples_split': 0.12877269970433994, 'max_features': 0.27732343952357474, 'num_arvores': 2}. Best is trial 33 with value: 0.5886801037590487.\n[I 2020-08-31 20:24:35,651] Trial 984 finished with value: 0.5752414013257698 and parameters: {'min_samples_split': 0.1038030099776994, 'max_features': 0.2824721796684242, 'num_arvores': 2}. Best is trial 33 with value: 0.5886801037590487.\n[I 2020-08-31 20:24:35,652] Trial 983 finished with value: 0.5717667937606392 and parameters: {'min_samples_split': 0.10613427109993467, 'max_features': 0.270331273760753, 'num_arvores': 2}. Best is trial 33 with value: 0.5886801037590487.\n[I 2020-08-31 20:24:35,671] Trial 985 finished with value: 0.5741237321961989 and parameters: {'min_samples_split': 0.10155143551091926, 'max_features': 0.27745376814229156, 'num_arvores': 2}. Best is trial 33 with value: 0.5886801037590487.\n[I 2020-08-31 20:24:35,819] Trial 987 finished with value: 0.5831625355038619 and parameters: {'min_samples_split': 0.13167324990668616, 'max_features': 0.3377291043156372, 'num_arvores': 2}. Best is trial 33 with value: 0.5886801037590487.\n[I 2020-08-31 20:24:35,893] Trial 986 finished with value: 0.5831625355038619 and parameters: {'min_samples_split': 0.1304610152423101, 'max_features': 0.33850120000907413, 'num_arvores': 2}. Best is trial 33 with value: 0.5886801037590487.\n[I 2020-08-31 20:24:35,958] Trial 988 finished with value: 0.5869886336648675 and parameters: {'min_samples_split': 0.12920029136515573, 'max_features': 0.4089583563349013, 'num_arvores': 2}. Best is trial 33 with value: 0.5886801037590487.\n[I 2020-08-31 20:24:36,142] Trial 989 finished with value: 0.5717667937606392 and parameters: {'min_samples_split': 0.1059943134619924, 'max_features': 0.3996694860351453, 'num_arvores': 2}. Best is trial 33 with value: 0.5886801037590487.\n[I 2020-08-31 20:24:36,361] Trial 990 finished with value: 0.5883612859113678 and parameters: {'min_samples_split': 0.12811023167875157, 'max_features': 0.19188293946578294, 'num_arvores': 2}. Best is trial 33 with value: 0.5886801037590487.\n[I 2020-08-31 20:24:36,413] Trial 991 finished with value: 0.5752414013257698 and parameters: {'min_samples_split': 0.10368911643958148, 'max_features': 0.16572953101963944, 'num_arvores': 2}. Best is trial 33 with value: 0.5886801037590487.\n[I 2020-08-31 20:24:36,715] Trial 994 finished with value: 0.5717667937606392 and parameters: {'min_samples_split': 0.10568289293729732, 'max_features': 0.1485181085572139, 'num_arvores': 2}. Best is trial 33 with value: 0.5886801037590487.\n[I 2020-08-31 20:24:36,725] Trial 992 finished with value: 0.5717667937606392 and parameters: {'min_samples_split': 0.10578538427740691, 'max_features': 0.1645233434664226, 'num_arvores': 2}. Best is trial 33 with value: 0.5886801037590487.\n[I 2020-08-31 20:24:36,804] Trial 993 finished with value: 0.5717667937606392 and parameters: {'min_samples_split': 0.10568807312277559, 'max_features': 0.34006976187049626, 'num_arvores': 2}. Best is trial 33 with value: 0.5886801037590487.\n[I 2020-08-31 20:24:36,862] Trial 997 finished with value: 0.5640788576283771 and parameters: {'min_samples_split': 0.17620678391149644, 'max_features': 0.41516425320882266, 'num_arvores': 2}. Best is trial 33 with value: 0.5886801037590487.\n[I 2020-08-31 20:24:36,871] Trial 995 finished with value: 0.5712231419590932 and parameters: {'min_samples_split': 0.08062328871603999, 'max_features': 0.20276154567644042, 'num_arvores': 2}. Best is trial 33 with value: 0.5886801037590487.\n[I 2020-08-31 20:24:36,897] Trial 996 finished with value: 0.5831625355038619 and parameters: {'min_samples_split': 0.12968737913437647, 'max_features': 0.33969213541528664, 'num_arvores': 2}. Best is trial 33 with value: 0.5886801037590487.\n[I 2020-08-31 20:24:36,931] Trial 999 finished with value: 0.5752414013257698 and parameters: {'min_samples_split': 0.10303436463939747, 'max_features': 0.3208150442978988, 'num_arvores': 2}. Best is trial 33 with value: 0.5886801037590487.\n[I 2020-08-31 20:24:36,936] Trial 998 finished with value: 0.5759520160040146 and parameters: {'min_samples_split': 0.10686281089723647, 'max_features': 0.32191166007973276, 'num_arvores': 2}. Best is trial 33 with value: 0.5886801037590487.\n0.597953216374269\n0.5722844307930258\n"
    }
   ],
   "source": [
    "exp_test_rf = experimento(mc.MetodoCompeticaoValidacaoRF, 1000, ac.OtimizacaoObjetivoRandomForest)\n",
    "print(exp_test_rf.macro_f1_avg)\n",
    "best_parameters(exp_test_rf)\n",
    "pickle.dump(exp_test_rf, open(f'resultados/exp_test_rf__{version}.p', 'wb'))\n"
   ]
  },
  {
   "cell_type": "code",
   "execution_count": 11,
   "metadata": {
    "tags": [
     "outputPrepend"
    ]
   },
   "outputs": [
    {
     "output_type": "stream",
     "name": "stderr",
     "text": "ost': 6.223677544448442, 'gamma': 0.06472387738634526}. Best is trial 6 with value: 0.7677174557294635.\n[I 2020-08-30 20:49:42,233] Trial 1 finished with value: 0.7708926677279739 and parameters: {'exp_cost': 2.5041236393896105, 'gamma': 0.18042058714406753}. Best is trial 1 with value: 0.7708926677279739.\n[I 2020-08-30 20:49:45,368] Trial 3 finished with value: 0.7686433616569905 and parameters: {'exp_cost': 6.960404841331874, 'gamma': 0.1569486239956549}. Best is trial 1 with value: 0.7708926677279739.\n[I 2020-08-30 20:49:47,599] Trial 4 finished with value: 0.7698215780584456 and parameters: {'exp_cost': 3.5416659669492043, 'gamma': 0.16172065165502372}. Best is trial 1 with value: 0.7708926677279739.\n[I 2020-08-30 20:49:47,925] Trial 0 finished with value: 0.7642608675095176 and parameters: {'exp_cost': 0.8816684634139268, 'gamma': 0.4210104866296426}. Best is trial 1 with value: 0.7708926677279739.\n[I 2020-08-30 20:49:59,086] Trial 7 finished with value: 0.7710063655516097 and parameters: {'exp_cost': 6.938247498701161, 'gamma': 0.37015592923773283}. Best is trial 7 with value: 0.7710063655516097.\n[I 2020-08-30 20:50:01,920] Trial 10 finished with value: 0.7458798146612963 and parameters: {'exp_cost': 0.5110215355958843, 'gamma': 0.7416517512966839}. Best is trial 7 with value: 0.7710063655516097.\n[I 2020-08-30 20:50:07,113] Trial 2 finished with value: 0.7065958183028064 and parameters: {'exp_cost': 0.24909440050458664, 'gamma': 0.9775260103150026}. Best is trial 7 with value: 0.7710063655516097.\n[I 2020-08-30 20:50:07,479] Trial 11 finished with value: 0.7665620276261207 and parameters: {'exp_cost': 3.825092518309924, 'gamma': 0.6059730035817333}. Best is trial 7 with value: 0.7710063655516097.\n[I 2020-08-30 20:50:08,563] Trial 5 finished with value: 0.7633406562127711 and parameters: {'exp_cost': 2.226884147897308, 'gamma': 0.6597593129013033}. Best is trial 7 with value: 0.7710063655516097.\n[I 2020-08-30 20:50:10,774] Trial 8 finished with value: 0.7352602421012916 and parameters: {'exp_cost': 4.729131675281023, 'gamma': 0.9785532059105233}. Best is trial 7 with value: 0.7710063655516097.\n[I 2020-08-30 21:02:59,823] Trial 12 finished with value: 0.7572199098120113 and parameters: {'exp_cost': 2.336310625571143, 'gamma': 0.7885045926784179}. Best is trial 7 with value: 0.7710063655516097.\n[I 2020-08-30 21:03:00,906] Trial 18 finished with value: 0.7668435159104102 and parameters: {'exp_cost': 3.067245497839997, 'gamma': 0.14348333225023116}. Best is trial 7 with value: 0.7710063655516097.\n[I 2020-08-30 21:03:02,066] Trial 13 finished with value: 0.7403869095343663 and parameters: {'exp_cost': 4.3569804787601765, 'gamma': 0.9555620847585148}. Best is trial 7 with value: 0.7710063655516097.\n[I 2020-08-30 21:03:05,653] Trial 16 finished with value: 0.7734582496556937 and parameters: {'exp_cost': 2.3484069133910337, 'gamma': 0.41472275413417226}. Best is trial 16 with value: 0.7734582496556937.\n[I 2020-08-30 21:03:09,346] Trial 14 finished with value: 0.7572199098120113 and parameters: {'exp_cost': 5.04566587107756, 'gamma': 0.7905249314279325}. Best is trial 16 with value: 0.7734582496556937.\n[I 2020-08-30 21:03:11,284] Trial 17 finished with value: 0.7715571805915602 and parameters: {'exp_cost': 2.652406462172715, 'gamma': 0.5693580402045142}. Best is trial 16 with value: 0.7734582496556937.\n[I 2020-08-30 21:03:11,286] Trial 15 finished with value: 0.761955315457364 and parameters: {'exp_cost': 6.744759660441257, 'gamma': 0.676795880752242}. Best is trial 16 with value: 0.7734582496556937.\n[I 2020-08-30 21:03:25,720] Trial 21 finished with value: 0.7714528240780943 and parameters: {'exp_cost': 4.846739338007696, 'gamma': 0.38907932609687906}. Best is trial 16 with value: 0.7734582496556937.\n[I 2020-08-30 21:03:26,966] Trial 19 finished with value: 0.7635664859650866 and parameters: {'exp_cost': 4.756892784776059, 'gamma': 0.6977398527475626}. Best is trial 16 with value: 0.7734582496556937.\n[I 2020-08-30 21:03:27,009] Trial 23 finished with value: 0.7705997465700274 and parameters: {'exp_cost': 2.141249293241091, 'gamma': 0.366560250834394}. Best is trial 16 with value: 0.7734582496556937.\n[I 2020-08-30 21:03:27,010] Trial 22 finished with value: 0.7714528240780943 and parameters: {'exp_cost': 4.900749558802985, 'gamma': 0.3900885792532457}. Best is trial 16 with value: 0.7734582496556937.\n[I 2020-08-30 21:03:31,282] Trial 20 finished with value: 0.7709709349028973 and parameters: {'exp_cost': 2.9823467859276125, 'gamma': 0.5747473550926059}. Best is trial 16 with value: 0.7734582496556937.\n[I 2020-08-30 21:16:08,084] Trial 29 finished with value: 0.7654202207261138 and parameters: {'exp_cost': 1.3118801777828335, 'gamma': 0.2988921715498928}. Best is trial 16 with value: 0.7734582496556937.\n[I 2020-08-30 21:16:13,301] Trial 26 finished with value: 0.7707613246635285 and parameters: {'exp_cost': 1.5905547232784565, 'gamma': 0.36425147659388}. Best is trial 16 with value: 0.7734582496556937.\n[I 2020-08-30 21:16:17,852] Trial 30 finished with value: 0.7716752282481882 and parameters: {'exp_cost': 1.6368547005118605, 'gamma': 0.3087011693724674}. Best is trial 16 with value: 0.7734582496556937.\n[I 2020-08-30 21:16:18,845] Trial 28 finished with value: 0.7697696454941645 and parameters: {'exp_cost': 1.2750542787650514, 'gamma': 0.39728566776344776}. Best is trial 16 with value: 0.7734582496556937.\n[I 2020-08-30 21:16:19,434] Trial 27 finished with value: 0.7711604501885578 and parameters: {'exp_cost': 1.566262895233752, 'gamma': 0.37067691730903973}. Best is trial 16 with value: 0.7734582496556937.\n[I 2020-08-30 21:16:19,957] Trial 25 finished with value: 0.7705355847892378 and parameters: {'exp_cost': 4.871400192039499, 'gamma': 0.3479523893486348}. Best is trial 16 with value: 0.7734582496556937.\n[I 2020-08-30 21:16:20,400] Trial 24 finished with value: 0.7712200644018791 and parameters: {'exp_cost': 2.001377056177571, 'gamma': 0.38226660097874987}. Best is trial 16 with value: 0.7734582496556937.\n[I 2020-08-30 21:16:39,224] Trial 31 finished with value: 0.7709579151388192 and parameters: {'exp_cost': 1.3798740506839038, 'gamma': 0.5397234259633639}. Best is trial 16 with value: 0.7734582496556937.\n[I 2020-08-30 21:16:49,994] Trial 33 finished with value: 0.7721197410466973 and parameters: {'exp_cost': 1.3278645375536346, 'gamma': 0.5276349662641354}. Best is trial 16 with value: 0.7734582496556937.\n[I 2020-08-30 21:16:50,640] Trial 34 finished with value: 0.7732445481985744 and parameters: {'exp_cost': 1.7115359059010542, 'gamma': 0.49485058131438836}. Best is trial 16 with value: 0.7734582496556937.\n[I 2020-08-30 21:16:50,642] Trial 35 finished with value: 0.7738229215399255 and parameters: {'exp_cost': 5.739608300021501, 'gamma': 0.4967723382899475}. Best is trial 35 with value: 0.7738229215399255.\n[I 2020-08-30 21:16:51,087] Trial 32 finished with value: 0.7717237415644649 and parameters: {'exp_cost': 1.4628547869899837, 'gamma': 0.5324128119694942}. Best is trial 35 with value: 0.7738229215399255.\n[I 2020-08-30 21:29:21,366] Trial 36 finished with value: 0.7716745281403548 and parameters: {'exp_cost': 1.6346327856253167, 'gamma': 0.4935194778112718}. Best is trial 35 with value: 0.7738229215399255.\n[I 2020-08-30 21:29:25,551] Trial 41 finished with value: 0.7621175489616081 and parameters: {'exp_cost': 0.7422011179611547, 'gamma': 0.5077810860758005}. Best is trial 35 with value: 0.7738229215399255.\n[I 2020-08-30 21:29:28,157] Trial 37 finished with value: 0.7738195342919383 and parameters: {'exp_cost': 4.009085714828745, 'gamma': 0.4841404546113481}. Best is trial 35 with value: 0.7738229215399255.\n[I 2020-08-30 21:29:31,412] Trial 38 finished with value: 0.7718560024633945 and parameters: {'exp_cost': 1.675622746016895, 'gamma': 0.48790503955426084}. Best is trial 35 with value: 0.7738229215399255.\n[I 2020-08-30 21:29:37,348] Trial 47 finished with value: 0.6351211737516306 and parameters: {'exp_cost': 0.01301258105999592, 'gamma': 0.4571038111602142}. Best is trial 35 with value: 0.7738229215399255.\n[I 2020-08-30 21:29:38,853] Trial 40 finished with value: 0.7731868440756302 and parameters: {'exp_cost': 2.9465941196808316, 'gamma': 0.4678192489307811}. Best is trial 35 with value: 0.7738229215399255.\n[I 2020-08-30 21:29:39,516] Trial 42 finished with value: 0.7738195342919383 and parameters: {'exp_cost': 5.5560420129732835, 'gamma': 0.48429936885654806}. Best is trial 35 with value: 0.7738229215399255.\n[I 2020-08-30 21:29:39,661] Trial 39 finished with value: 0.7742250017799 and parameters: {'exp_cost': 2.9461571639714297, 'gamma': 0.5065359268442085}. Best is trial 39 with value: 0.7742250017799.\n[I 2020-08-30 21:29:52,985] Trial 43 finished with value: 0.7738229215399255 and parameters: {'exp_cost': 3.0349634127005163, 'gamma': 0.49896646513023735}. Best is trial 39 with value: 0.7742250017799.\n[I 2020-08-30 21:29:55,108] Trial 46 finished with value: 0.75269562878163 and parameters: {'exp_cost': 0.6934059568695106, 'gamma': 0.47883624068278424}. Best is trial 39 with value: 0.7742250017799.\n[I 2020-08-30 21:29:57,180] Trial 44 finished with value: 0.7632875030067303 and parameters: {'exp_cost': 0.8332563233854098, 'gamma': 0.48271205358641667}. Best is trial 39 with value: 0.7742250017799.\n[I 2020-08-30 21:29:58,001] Trial 45 finished with value: 0.7606010415179305 and parameters: {'exp_cost': 0.72091508971645, 'gamma': 0.5175546561764454}. Best is trial 39 with value: 0.7742250017799.\n[I 2020-08-30 21:41:47,460] Trial 49 finished with value: 0.6894202899172619 and parameters: {'exp_cost': 0.1864323345933392, 'gamma': 0.4533425595805405}. Best is trial 39 with value: 0.7742250017799.\n[I 2020-08-30 21:42:00,432] Trial 48 finished with value: 0.7634952299777242 and parameters: {'exp_cost': 0.7900673103771524, 'gamma': 0.47631643751884856}. Best is trial 39 with value: 0.7742250017799.\n[I 2020-08-30 21:42:16,709] Trial 50 finished with value: 0.7731306220866077 and parameters: {'exp_cost': 5.601376818313768, 'gamma': 0.4560916939120773}. Best is trial 39 with value: 0.7742250017799.\n[I 2020-08-30 21:42:19,118] Trial 53 finished with value: 0.7710393312217085 and parameters: {'exp_cost': 5.393537432609296, 'gamma': 0.26097095262355763}. Best is trial 39 with value: 0.7742250017799.\n[I 2020-08-30 21:42:20,590] Trial 51 finished with value: 0.7731306220866077 and parameters: {'exp_cost': 5.9894524329928185, 'gamma': 0.4561513722246621}. Best is trial 39 with value: 0.7742250017799.\n[I 2020-08-30 21:42:22,119] Trial 55 finished with value: 0.7695767508005136 and parameters: {'exp_cost': 5.64768922539128, 'gamma': 0.2291662389224962}. Best is trial 39 with value: 0.7742250017799.\n[I 2020-08-30 21:42:22,290] Trial 54 finished with value: 0.7691757840436693 and parameters: {'exp_cost': 5.50595349945203, 'gamma': 0.22541847723538255}. Best is trial 39 with value: 0.7742250017799.\n[I 2020-08-30 21:42:27,619] Trial 52 finished with value: 0.7723855501176486 and parameters: {'exp_cost': 3.700884082849682, 'gamma': 0.45708388646966286}. Best is trial 39 with value: 0.7742250017799.\n[I 2020-08-30 21:42:32,222] Trial 57 finished with value: 0.7703649861365711 and parameters: {'exp_cost': 5.971217030074195, 'gamma': 0.24660170467712472}. Best is trial 39 with value: 0.7742250017799.\n[I 2020-08-30 21:42:45,406] Trial 56 finished with value: 0.7665620276261207 and parameters: {'exp_cost': 5.615643417845968, 'gamma': 0.6077808556388822}. Best is trial 39 with value: 0.7742250017799.\n[I 2020-08-30 21:42:51,611] Trial 59 finished with value: 0.7665620276261207 and parameters: {'exp_cost': 5.56178936000216, 'gamma': 0.6078998309261232}. Best is trial 39 with value: 0.7742250017799.\n[I 2020-08-30 21:42:51,851] Trial 58 finished with value: 0.7659682810419426 and parameters: {'exp_cost': 5.66102237025123, 'gamma': 0.6223285740456225}. Best is trial 39 with value: 0.7742250017799.\n[I 2020-08-30 21:54:35,388] Trial 60 finished with value: 0.764628870641583 and parameters: {'exp_cost': 5.71781161920355, 'gamma': 0.6308599543796592}. Best is trial 39 with value: 0.7742250017799.\n[I 2020-08-30 21:54:48,583] Trial 61 finished with value: 0.764628870641583 and parameters: {'exp_cost': 5.492285819959417, 'gamma': 0.6325374419906518}. Best is trial 39 with value: 0.7742250017799.\n[I 2020-08-30 21:55:03,629] Trial 62 finished with value: 0.7665620276261207 and parameters: {'exp_cost': 3.6841095160645225, 'gamma': 0.6093968324677106}. Best is trial 39 with value: 0.7742250017799.\n[I 2020-08-30 21:55:08,439] Trial 64 finished with value: 0.7665620276261207 and parameters: {'exp_cost': 3.8322419591504193, 'gamma': 0.6179906570511008}. Best is trial 39 with value: 0.7742250017799.\n[I 2020-08-30 21:55:08,581] Trial 63 finished with value: 0.764628870641583 and parameters: {'exp_cost': 4.064585320449662, 'gamma': 0.6319502374946644}. Best is trial 39 with value: 0.7742250017799.\n[I 2020-08-30 21:55:10,979] Trial 66 finished with value: 0.7671210743500556 and parameters: {'exp_cost': 4.0197904038444285, 'gamma': 0.6035675348665395}. Best is trial 39 with value: 0.7742250017799.\n[I 2020-08-30 21:55:11,414] Trial 65 finished with value: 0.7640975705770221 and parameters: {'exp_cost': 3.8315687020329365, 'gamma': 0.6503028157029441}. Best is trial 39 with value: 0.7742250017799.\n[I 2020-08-30 21:55:13,913] Trial 67 finished with value: 0.7665620276261207 and parameters: {'exp_cost': 4.145816268145483, 'gamma': 0.6188610806639419}. Best is trial 39 with value: 0.7742250017799.\n[I 2020-08-30 21:55:18,536] Trial 68 finished with value: 0.7659682810419426 and parameters: {'exp_cost': 4.062859418225196, 'gamma': 0.6238168009230223}. Best is trial 39 with value: 0.7742250017799.\n[I 2020-08-30 21:55:30,938] Trial 69 finished with value: 0.7665620276261207 and parameters: {'exp_cost': 4.358072498260792, 'gamma': 0.6126521787872516}. Best is trial 39 with value: 0.7742250017799.\n[I 2020-08-30 21:55:32,830] Trial 71 finished with value: 0.7733144247831917 and parameters: {'exp_cost': 4.4075468918720535, 'gamma': 0.4194797158206377}. Best is trial 39 with value: 0.7742250017799.\n[I 2020-08-30 21:55:36,981] Trial 70 finished with value: 0.7715571805915602 and parameters: {'exp_cost': 4.289959117982205, 'gamma': 0.5710104465561323}. Best is trial 39 with value: 0.7742250017799.\n[I 2020-08-30 22:07:23,286] Trial 72 finished with value: 0.7698249695906578 and parameters: {'exp_cost': 4.191192626621101, 'gamma': 0.5801477541753395}. Best is trial 39 with value: 0.7742250017799.\n[I 2020-08-30 22:07:37,000] Trial 73 finished with value: 0.7703801763081157 and parameters: {'exp_cost': 2.6009874830595896, 'gamma': 0.5776486420668652}. Best is trial 39 with value: 0.7742250017799.\n[I 2020-08-30 22:07:46,648] Trial 74 finished with value: 0.7726311853363053 and parameters: {'exp_cost': 4.097725428453613, 'gamma': 0.42424282931163704}. Best is trial 39 with value: 0.7742250017799.\n[I 2020-08-30 22:07:52,644] Trial 76 finished with value: 0.7733144247831917 and parameters: {'exp_cost': 3.2846872633804707, 'gamma': 0.4208877845682712}. Best is trial 39 with value: 0.7742250017799.\n[I 2020-08-30 22:07:55,992] Trial 77 finished with value: 0.7734582496556937 and parameters: {'exp_cost': 3.2818283353566327, 'gamma': 0.41625649216961125}. Best is trial 39 with value: 0.7742250017799.\n[I 2020-08-30 22:07:56,955] Trial 78 finished with value: 0.7728861762768648 and parameters: {'exp_cost': 3.2621021970342268, 'gamma': 0.4130573311088689}. Best is trial 39 with value: 0.7742250017799.\n[I 2020-08-30 22:07:58,437] Trial 79 finished with value: 0.7733144247831917 and parameters: {'exp_cost': 3.283959051295167, 'gamma': 0.41980413360654856}. Best is trial 39 with value: 0.7742250017799.\n[I 2020-08-30 22:07:59,785] Trial 75 finished with value: 0.7717414226371047 and parameters: {'exp_cost': 3.3359269963532583, 'gamma': 0.5661478857760471}. Best is trial 39 with value: 0.7742250017799.\n[I 2020-08-30 22:08:00,924] Trial 80 finished with value: 0.7734582496556937 and parameters: {'exp_cost': 3.3512660778109598, 'gamma': 0.4156445791110771}. Best is trial 39 with value: 0.7742250017799.\n[I 2020-08-30 22:08:13,816] Trial 81 finished with value: 0.7731733190035437 and parameters: {'exp_cost': 3.3124317541455928, 'gamma': 0.4226543089808868}. Best is trial 39 with value: 0.7742250017799.\n[I 2020-08-30 22:08:21,146] Trial 83 finished with value: 0.7733144247831917 and parameters: {'exp_cost': 3.3467355830835688, 'gamma': 0.4208668412168479}. Best is trial 39 with value: 0.7742250017799.\n[I 2020-08-30 22:08:22,289] Trial 82 finished with value: 0.7716693572082904 and parameters: {'exp_cost': 3.3814670389373447, 'gamma': 0.5600537081489212}. Best is trial 39 with value: 0.7742250017799.\n[I 2020-08-30 22:20:56,561] Trial 84 finished with value: 0.7733144247831917 and parameters: {'exp_cost': 3.1939119810238834, 'gamma': 0.42086492692819466}. Best is trial 39 with value: 0.7742250017799.\n[I 2020-08-30 22:21:10,529] Trial 85 finished with value: 0.7734582496556937 and parameters: {'exp_cost': 3.2864059188205617, 'gamma': 0.4136194690595868}. Best is trial 39 with value: 0.7742250017799.\n[I 2020-08-30 22:21:19,693] Trial 86 finished with value: 0.7724813310238443 and parameters: {'exp_cost': 3.1242009104112554, 'gamma': 0.4053574465558696}. Best is trial 39 with value: 0.7742250017799.\n[I 2020-08-30 22:21:29,435] Trial 88 finished with value: 0.7696863063960634 and parameters: {'exp_cost': 2.870692195782209, 'gamma': 0.3313388526842054}. Best is trial 39 with value: 0.7742250017799.\n[I 2020-08-30 22:21:29,937] Trial 89 finished with value: 0.7709516360865323 and parameters: {'exp_cost': 2.7642810045312096, 'gamma': 0.31416680539823316}. Best is trial 39 with value: 0.7742250017799.\n[I 2020-08-30 22:21:30,166] Trial 87 finished with value: 0.7733144247831917 and parameters: {'exp_cost': 3.2835767879047593, 'gamma': 0.4197103015746715}. Best is trial 39 with value: 0.7742250017799.\n[I 2020-08-30 22:21:30,239] Trial 90 finished with value: 0.7691557811430453 and parameters: {'exp_cost': 2.40402046638129, 'gamma': 0.3351645892621231}. Best is trial 39 with value: 0.7742250017799.\n[I 2020-08-30 22:21:32,024] Trial 92 finished with value: 0.7698564429639272 and parameters: {'exp_cost': 2.3717094234687788, 'gamma': 0.31076622389154795}. Best is trial 39 with value: 0.7742250017799.\n[I 2020-08-30 22:21:32,276] Trial 91 finished with value: 0.7706645369068548 and parameters: {'exp_cost': 2.7276693638276646, 'gamma': 0.34155948824150756}. Best is trial 39 with value: 0.7742250017799.\n[I 2020-08-30 22:21:40,071] Trial 93 finished with value: 0.7695552202029919 and parameters: {'exp_cost': 2.355389742176633, 'gamma': 0.3320135304851649}. Best is trial 39 with value: 0.7742250017799.\n[I 2020-08-30 22:21:44,635] Trial 94 finished with value: 0.7696863063960634 and parameters: {'exp_cost': 2.794123182526324, 'gamma': 0.3331085277211498}. Best is trial 39 with value: 0.7742250017799.\n[I 2020-08-30 22:21:45,203] Trial 95 finished with value: 0.7706645369068548 and parameters: {'exp_cost': 2.875573538116941, 'gamma': 0.34123226004646123}. Best is trial 39 with value: 0.7742250017799.\n[I 2020-08-30 22:27:04,023] Trial 96 finished with value: 0.7713263359009132 and parameters: {'exp_cost': 2.439148117875121, 'gamma': 0.35539107877803355}. Best is trial 39 with value: 0.7742250017799.\n[I 2020-08-30 22:27:09,265] Trial 97 finished with value: 0.7701285660429693 and parameters: {'exp_cost': 2.415428205823849, 'gamma': 0.3462948648043329}. Best is trial 39 with value: 0.7742250017799.\n[I 2020-08-30 22:27:12,606] Trial 98 finished with value: 0.7696863063960634 and parameters: {'exp_cost': 2.961515955247672, 'gamma': 0.3286416602948556}. Best is trial 39 with value: 0.7742250017799.\n[I 2020-08-30 22:27:16,760] Trial 99 finished with value: 0.770528005102916 and parameters: {'exp_cost': 2.329328340865914, 'gamma': 0.34374305324157933}. Best is trial 39 with value: 0.7742250017799.\n0.7927128444753088\n0.778752565159495\n"
    }
   ],
   "source": [
    "from sklearn import svm\n",
    "\n",
    "ml_method = svm.SVC(kernel='rbf', gamma=0.10044264686563253,\n",
    "                        C=2 ** 2.8396028413359202, random_state=2)\n",
    "\n",
    "exp_test_svm = experimento(mc.MetodoCompeticaoValidacaoSVM, 100, ac.OtimizacaoObjetivoSVCRbfComGamma)\n",
    "print(exp_test_svm.macro_f1_avg)"
   ]
  },
  {
   "cell_type": "code",
   "execution_count": 13,
   "metadata": {},
   "outputs": [],
   "source": [
    "pickle.dump(exp_test_svm, open(f'resultados/exp_test_svm__{version}.p', 'wb'))"
   ]
  },
  {
   "cell_type": "code",
   "execution_count": 14,
   "metadata": {},
   "outputs": [
    {
     "output_type": "execute_result",
     "data": {
      "text/plain": "[(0.7841233502726488,\n  {'exp_cost': 1.8103213437733223, 'gamma': 0.29314287596361527}),\n (0.7742250017799,\n  {'exp_cost': 2.9461571639714297, 'gamma': 0.5065359268442085}),\n (0.7711081220319707,\n  {'exp_cost': 1.5848032924797064, 'gamma': 0.3393177716513029}),\n (0.7672800702317709,\n  {'exp_cost': 2.364547751708324, 'gamma': 0.19360170316818714}),\n (0.7626444077251564,\n  {'exp_cost': 2.066480881011902, 'gamma': 0.41917634410149274})]"
     },
     "metadata": {},
     "execution_count": 14
    }
   ],
   "source": [
    "params = best_parameters(exp_test_svm)\n",
    "params"
   ]
  }
 ]
}